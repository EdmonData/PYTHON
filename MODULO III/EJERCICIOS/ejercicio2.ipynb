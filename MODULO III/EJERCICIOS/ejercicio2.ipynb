{
 "cells": [
  {
   "cell_type": "markdown",
   "metadata": {},
   "source": [
    "Caso:\n",
    "Una compañía desea hacer predicciones del valor anual de sus ventas totales en cierto país a partir de la relación de éstas y la renta nacional. Para investigar la relación cuenta con los siguientes datos:\n",
    "X\tY\n",
    "189\t402\n",
    "190\t404\n",
    "208\t412\n",
    "227\t425\n",
    "239\t429\n",
    "252\t436\n",
    "257\t440\n",
    "274\t447\n",
    "293\t458\n",
    "308\t469\n",
    "316\t469\n",
    "\n",
    "X representa la renta nacional en millones de euros e Y representa las ventas de la  compañía  en  miles  de  euros  en  el  periodo  que  va  desde 2010 hasta 2020 (ambos inclusive). Actividad 2\n",
    "Calcular:\n",
    "1.  La recta de regresión lineal de Y sobre X.\n",
    "2.  El coeficiente de correlación lineal e interpretarlo.\n",
    "3.  Si en 2021 la renta nacional del país fue de 325 millones de euros. ¿Cuál será la predicción para las ventas de la compañía en este año?"
   ]
  },
  {
   "cell_type": "code",
   "execution_count": 2,
   "metadata": {},
   "outputs": [
    {
     "name": "stdout",
     "output_type": "stream",
     "text": [
      "      X    Y\n",
      "0   189  402\n",
      "1   190  404\n",
      "2   208  412\n",
      "3   227  425\n",
      "4   239  429\n",
      "5   252  436\n",
      "6   257  440\n",
      "7   274  447\n",
      "8   293  458\n",
      "9   308  469\n",
      "10  316  469\n"
     ]
    }
   ],
   "source": [
    "import numpy as np\n",
    "import pandas as pd\n",
    "\n",
    "# Preparar los datos\n",
    "data = {\n",
    "    'X': [189, 190, 208, 227, 239, 252, 257, 274, 293, 308, 316],\n",
    "    'Y': [402, 404, 412, 425, 429, 436, 440, 447, 458, 469, 469]\n",
    "}\n",
    "df = pd.DataFrame(data)\n",
    "\n",
    "# mostrar los datos\n",
    "print(df)\n",
    "\n",
    "\n"
   ]
  },
  {
   "cell_type": "code",
   "execution_count": 3,
   "metadata": {},
   "outputs": [
    {
     "name": "stdout",
     "output_type": "stream",
     "text": [
      "La recta de regresión lineal es: Y = 0.5349822580203785*X + 301.6539857881728\n",
      "El coeficiente de correlación es: 0.9984246043304555 el resultado cercano a 1 indica una fuerte correlación positiva \n",
      "La predicción para las ventas de la compañía en 2021 es: 475.5232196447958\n"
     ]
    }
   ],
   "source": [
    "# Calcular la recta de regresión lineal\n",
    "coef = np.polyfit(df['X'], df['Y'], 1)\n",
    "polynomial = np.poly1d(coef)\n",
    "\n",
    "# Calcular el coeficiente de correlación\n",
    "correlation = df['X'].corr(df['Y'])\n",
    "\n",
    "# Predecir las ventas de la compañía en 2021\n",
    "renta_nacional_2021 = 325\n",
    "ventas_2021 = polynomial(renta_nacional_2021)\n",
    "\n",
    "\n",
    "print(f\"La recta de regresión lineal es: Y = {coef[0]}*X + {coef[1]}\")\n",
    "print(f\"El coeficiente de correlación es: {correlation} el resultado cercano a 1 indica una fuerte correlación positiva \" )\n",
    "print(f\"La predicción para las ventas de la compañía en 2021 es: {ventas_2021}\")\n"
   ]
  }
 ],
 "metadata": {
  "kernelspec": {
   "display_name": "Python 3",
   "language": "python",
   "name": "python3"
  },
  "language_info": {
   "codemirror_mode": {
    "name": "ipython",
    "version": 3
   },
   "file_extension": ".py",
   "mimetype": "text/x-python",
   "name": "python",
   "nbconvert_exporter": "python",
   "pygments_lexer": "ipython3",
   "version": "3.12.2"
  }
 },
 "nbformat": 4,
 "nbformat_minor": 2
}
