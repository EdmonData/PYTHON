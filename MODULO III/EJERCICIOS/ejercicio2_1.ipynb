{
 "cells": [
  {
   "cell_type": "markdown",
   "metadata": {},
   "source": [
    "Una compañía desea hacer predicciones del valor anual de sus ventas totales en cierto país a partir de la relación de éstas y la renta nacional. Para investigar la relación cuenta con los siguientes datos:\n",
    "X\tY\n",
    "189\t402\n",
    "190\t404\n",
    "208\t412\n",
    "227\t425\n",
    "239\t429\n",
    "252\t436\n",
    "257\t440\n",
    "274\t447\n",
    "293\t458\n",
    "308\t469\n",
    "316\t469\n",
    "\n",
    "X representa la renta nacional en millones de euros e Y representa las ventas de la  compañía  en  miles  de  euros  en  el  periodo  que  va  desde 2010 hasta 2020 (ambos inclusive)\n",
    "\n",
    "calccular  La recta de regresión lineal de Y sobre X."
   ]
  },
  {
   "cell_type": "code",
   "execution_count": 1,
   "metadata": {},
   "outputs": [
    {
     "name": "stdout",
     "output_type": "stream",
     "text": [
      "La recta de regresión lineal es Y = 0.5349822580203785 * X + 301.6539857881728\n"
     ]
    }
   ],
   "source": [
    "import numpy as np\n",
    "\n",
    "# Datos\n",
    "X = np.array([189, 190, 208, 227, 239, 252, 257, 274, 293, 308, 316])\n",
    "Y = np.array([402, 404, 412, 425, 429, 436, 440, 447, 458, 469, 469])\n",
    "\n",
    "# Calcular los coeficientes de la recta de regresión\n",
    "coeficientes = np.polyfit(X, Y, 1)\n",
    "\n",
    "# Los coeficientes son devueltos en orden descendente de potencia, por lo que el primer elemento es la pendiente y el segundo es la intersección y\n",
    "pendiente, interseccion = coeficientes\n",
    "\n",
    "print(f\"La recta de regresión lineal es Y = {pendiente} * X + {interseccion}\")"
   ]
  },
  {
   "cell_type": "code",
   "execution_count": 3,
   "metadata": {},
   "outputs": [
    {
     "name": "stdout",
     "output_type": "stream",
     "text": [
      "El coeficiente de correlación lineal es 0.9984246043304555  hay una correlación positiva fuerte entre la renta nacional y las ventas de la compañía\n"
     ]
    }
   ],
   "source": [
    "# Calcular el coeficiente de correlación lineal\n",
    "coef_correlacion = np.corrcoef(X, Y)[0, 1]\n",
    "\n",
    "print(f\"El coeficiente de correlación lineal es {coef_correlacion}  hay una correlación positiva fuerte entre la renta nacional y las ventas de la compañía\")"
   ]
  },
  {
   "cell_type": "code",
   "execution_count": 4,
   "metadata": {},
   "outputs": [
    {
     "name": "stdout",
     "output_type": "stream",
     "text": [
      "La predicción de las ventas de la compañía en 2021 es 475.5232196447958 miles de euros\n"
     ]
    }
   ],
   "source": [
    "# Renta nacional en 2021\n",
    "renta_nacional_2021 = 325\n",
    "\n",
    "# Predicción de las ventas en 2021\n",
    "ventas_2021 = pendiente * renta_nacional_2021 + interseccion\n",
    "\n",
    "print(f\"La predicción de las ventas de la compañía en 2021 es {ventas_2021} miles de euros\")"
   ]
  }
 ],
 "metadata": {
  "kernelspec": {
   "display_name": "Python 3",
   "language": "python",
   "name": "python3"
  },
  "language_info": {
   "codemirror_mode": {
    "name": "ipython",
    "version": 3
   },
   "file_extension": ".py",
   "mimetype": "text/x-python",
   "name": "python",
   "nbconvert_exporter": "python",
   "pygments_lexer": "ipython3",
   "version": "3.12.2"
  }
 },
 "nbformat": 4,
 "nbformat_minor": 2
}
