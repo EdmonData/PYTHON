{
 "cells": [
  {
   "cell_type": "markdown",
   "metadata": {},
   "source": [
    "1. Crear el siguiente DataFrame indexado:\n",
    "  calorías\ttiempo\n",
    "L\t420\t60\n",
    "M\t380\t40\n",
    "X\t390\t75\n",
    "J\t490\t55\n",
    "V\t300\t45\n"
   ]
  },
  {
   "cell_type": "code",
   "execution_count": 3,
   "metadata": {},
   "outputs": [
    {
     "name": "stdout",
     "output_type": "stream",
     "text": [
      "DATAFRAME: Resultante con pandas usando el diccionario\n",
      "\n",
      "   calorias  tiempo\n",
      "L       420      60\n",
      "M       380      40\n",
      "X       390      75\n",
      "J       490      55\n",
      "V       300      45\n"
     ]
    }
   ],
   "source": [
    "import pandas as pd\n",
    "\n",
    "# Crear un diccionario con tus datos\n",
    "datos = {\n",
    "    'calorias': [420, 380, 390, 490, 300],\n",
    "    'tiempo': [60, 40, 75, 55, 45]\n",
    "}\n",
    "\n",
    "# Crear un DataFrame de pandas usando el diccionario\n",
    "df = pd.DataFrame(datos, index=['L', 'M', 'X', 'J', 'V'])\n",
    "\n",
    "# Mostrar el DataFrame\n",
    "print('DATAFRAME: Resultante con pandas usando el diccionario\\n')\n",
    "print(df)"
   ]
  },
  {
   "cell_type": "markdown",
   "metadata": {},
   "source": [
    "2. Calcular la media, mediana, y desviación típica de ambas columnas."
   ]
  },
  {
   "cell_type": "code",
   "execution_count": 4,
   "metadata": {},
   "outputs": [
    {
     "name": "stdout",
     "output_type": "stream",
     "text": [
      "La Media resultante es:\n",
      " calorias    396.0\n",
      "tiempo       55.0\n",
      "dtype: float64\n",
      "\n",
      "La Mediana resultante es:\n",
      " calorias    390.0\n",
      "tiempo       55.0\n",
      "dtype: float64\n",
      "\n",
      "La Desviación estándar resultante es:\n",
      " calorias    68.774995\n",
      "tiempo      13.693064\n",
      "dtype: float64\n"
     ]
    }
   ],
   "source": [
    "# Calcular la media\n",
    "media = df[['calorias', 'tiempo']].mean()\n",
    "\n",
    "# Calcular la mediana\n",
    "mediana = df[['calorias', 'tiempo']].median()\n",
    "\n",
    "# Calcular la desviación estándar\n",
    "desviacion = df[['calorias', 'tiempo']].std()\n",
    "\n",
    "# Mostrar los resultados\n",
    "print('La Media resultante es:\\n', media)\n",
    "print('\\nLa Mediana resultante es:\\n', mediana)\n",
    "print('\\nLa Desviación estándar resultante es:\\n', desviacion)"
   ]
  },
  {
   "cell_type": "markdown",
   "metadata": {},
   "source": [
    "3. Añadir otra columna booleana al DataFrame para ver si se ha cumplido el reto de quemar más de 400 calorías por hora. La nueva columna debe  generarse  aplicando  una  fórmula  a  las  otras  columnas.  El DataFrame resultante debe ser el siguiente:"
   ]
  },
  {
   "cell_type": "code",
   "execution_count": 5,
   "metadata": {},
   "outputs": [
    {
     "name": "stdout",
     "output_type": "stream",
     "text": [
      "El nuevo DataFrame con la columna reto_cumplido es:\n",
      "\n",
      "   calorias  tiempo  reto_cumplido\n",
      "L       420      60           True\n",
      "M       380      40           True\n",
      "X       390      75          False\n",
      "J       490      55           True\n",
      "V       300      45          False\n"
     ]
    }
   ],
   "source": [
    "# Definir la función para calcular si se ha cumplido el reto\n",
    "def reto_cumplido(row):\n",
    "    calorias_por_hora = row['calorias'] / (row['tiempo'] / 60)\n",
    "    return calorias_por_hora > 400\n",
    "\n",
    "# Aplicar la función a cada fila y asignar los resultados a una nueva columna\n",
    "df['reto_cumplido'] = df.apply(reto_cumplido, axis=1)\n",
    "\n",
    "# Mostrar el DataFrame\n",
    "print('El nuevo DataFrame con la columna reto_cumplido es:\\n')\n",
    "print(df)"
   ]
  },
  {
   "cell_type": "code",
   "execution_count": 7,
   "metadata": {},
   "outputs": [
    {
     "name": "stdout",
     "output_type": "stream",
     "text": [
      "El DataFrame filtrado con filas pares que tienen calorías mayores a 400 es:\n",
      "\n",
      "   calorias  tiempo  reto_cumplido\n",
      "4       490      55           True\n"
     ]
    }
   ],
   "source": [
    "# Cambiar los índices a números empezando desde 1\n",
    "df.index = range(1, len(df) + 1)\n",
    "\n",
    "# Filtrar y mostrar solo las filas con índices pares\n",
    "df_indices_pares = df.iloc[1::2]\n",
    "\n",
    "# Filtrar y mostrar solo las filas donde las calorías son mayores a 400\n",
    "df_calorias_mayores_400 = df_indices_pares.loc[df_indices_pares['calorias'] > 400]\n",
    "\n",
    "# Mostrar el DataFrame filtrado\n",
    "print('El DataFrame filtrado con filas pares que tienen calorías mayores a 400 es:\\n')\n",
    "print(df_calorias_mayores_400)\n"
   ]
  },
  {
   "cell_type": "code",
   "execution_count": 8,
   "metadata": {},
   "outputs": [
    {
     "name": "stdout",
     "output_type": "stream",
     "text": [
      "reto_cumplido\n",
      "True     60.0\n",
      "False    40.0\n",
      "Name: proportion, dtype: float64\n"
     ]
    }
   ],
   "source": [
    "# Crear la Serie con los porcentajes\n",
    "porcentajes = df['reto_cumplido'].value_counts(normalize=True) * 100\n",
    "\n",
    "# Mostrar la Serie\n",
    "print(porcentajes)"
   ]
  },
  {
   "cell_type": "code",
   "execution_count": 9,
   "metadata": {},
   "outputs": [
    {
     "name": "stdout",
     "output_type": "stream",
     "text": [
      "La Serie con los porcentajes es:\n",
      "\n",
      "Cumplido       60.0\n",
      "No cumplido    40.0\n",
      "dtype: float64\n"
     ]
    }
   ],
   "source": [
    "# Calcular los porcentajes\n",
    "porcentaje_cumplido = df['reto_cumplido'].mean() * 100\n",
    "porcentaje_no_cumplido = 100 - porcentaje_cumplido\n",
    "\n",
    "# Crear la Serie con los porcentajes\n",
    "porcentajes = pd.Series([porcentaje_cumplido, porcentaje_no_cumplido], index=['Cumplido', 'No cumplido'])\n",
    "\n",
    "# Mostrar la Serie\n",
    "print ('La Serie con los porcentajes es:\\n')\n",
    "print(porcentajes)"
   ]
  },
  {
   "cell_type": "code",
   "execution_count": 10,
   "metadata": {},
   "outputs": [
    {
     "data": {
      "image/png": "[encoded data removed]",
      "text/plain": [
       "<Figure size 640x480 with 1 Axes>"
      ]
     },
     "metadata": {},
     "output_type": "display_data"
    }
   ],
   "source": [
    "import matplotlib.pyplot as plt\n",
    "\n",
    "# Crear una figura y un conjunto de subtramas\n",
    "fig, ax = plt.subplots()\n",
    "\n",
    "# Dibujar las líneas para las calorías y el tiempo con los marcadores correspondientes\n",
    "ax.plot(df.index, df['calorias'], label='Calorías', marker='+')\n",
    "ax.plot(df.index, df['tiempo'], label='Tiempo', marker='o')\n",
    "\n",
    "# Configurar las etiquetas de los ejes y el título del gráfico\n",
    "ax.set_xlabel('Días')\n",
    "ax.set_ylabel('Valores')\n",
    "ax.set_title('Progresión de las calorías y tiempo durante la semana')\n",
    "ax.legend()\n",
    "\n",
    "# Mostrar el gráfico\n",
    "plt.show()"
   ]
  }
 ],
 "metadata": {
  "kernelspec": {
   "display_name": "Python 3",
   "language": "python",
   "name": "python3"
  },
  "language_info": {
   "codemirror_mode": {
    "name": "ipython",
    "version": 3
   },
   "file_extension": ".py",
   "mimetype": "text/x-python",
   "name": "python",
   "nbconvert_exporter": "python",
   "pygments_lexer": "ipython3",
   "version": "3.12.2"
  }
 },
 "nbformat": 4,
 "nbformat_minor": 2
}
