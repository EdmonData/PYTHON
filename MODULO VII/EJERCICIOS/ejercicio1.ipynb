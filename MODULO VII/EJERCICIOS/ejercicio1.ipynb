{
 "cells": [
  {
   "cell_type": "markdown",
   "metadata": {},
   "source": [
    "1.  Defina lo siguiente:\n",
    "a.  Inteligencia Artificial\n",
    "b.  Machine learning\n",
    "c.  Deep learning"
   ]
  },
  {
   "cell_type": "markdown",
   "metadata": {},
   "source": [
    "a)  Inteligencia Artificial (IA):\n",
    "\n",
    "La Inteligencia Artificial (IA) es una disciplina de las ciencias de la computación que se enfoca en crear sistemas informáticos o algoritmos capaces de imitar la inteligencia humana. Su objetivo es realizar tareas y aprender a medida que recopilan información. Surgió después de la Segunda Guerra Mundial y abarca una amplia variedad de subcampos, desde áreas generales hasta aplicaciones específicas como el reconocimiento de voz, el ajedrez, la poesía y el diagnóstico de enfermedades1.\n",
    "\n",
    "b)  Machine Learning (Aprendizaje Automático):\n",
    "\n",
    "El Machine Learning es una rama de la IA que utiliza datos y algoritmos para imitar la forma en que los seres humanos aprenden. Se basa en métodos estadísticos y permite a las máquinas aprender y mejorar gradualmente su precisión sin intervención humana. Puede ser supervisado, no supervisado o de refuerzo2.\n",
    "\n",
    "c)  Deep Learning (Aprendizaje Profundo):\n",
    "\n",
    "El Deep Learning es un subconjunto del Machine Learning que utiliza redes neuronales con múltiples capas para aprender de datos no estructurados y realizar predicciones con alta precisión. A diferencia del Machine Learning clásico, el Deep Learning puede procesar datos no estructurados, como imágenes y texto, sin necesidad de una organización previa. Impulsa aplicaciones como asistentes digitales, coches autónomos y detección de fraudes con tarjetas de crédito\n"
   ]
  },
  {
   "cell_type": "markdown",
   "metadata": {},
   "source": [
    "2. Explique en no más de 5 líneas el concepto de red neuronal para alguien que no usa ciencia de datos en su vida, \n",
    "dicho de otro modo, explique el concepto anterior en términos simples."
   ]
  },
  {
   "cell_type": "markdown",
   "metadata": {},
   "source": [
    "Una red neuronal es como un equipo de personas que trabajan juntas para resolver problemas. Imagina que cada persona tiene una habilidad específica, como reconocer caras o clasificar objetos. Estas personas se comunican entre sí y ajustan sus habilidades a medida que aprenden de la experiencia. De manera similar, una red neuronal está compuesta por “neuronas” que procesan información y se conectan para resolver tareas como reconocimiento de voz, detección de fraudes o predicción del clima. Es como un equipo de miniexpertos que colaboran para tomar decisiones inteligentes."
   ]
  }
 ],
 "metadata": {
  "language_info": {
   "name": "python"
  }
 },
 "nbformat": 4,
 "nbformat_minor": 2
}
