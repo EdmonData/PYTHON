{
 "cells": [
  {
   "cell_type": "code",
   "execution_count": 2,
   "metadata": {},
   "outputs": [],
   "source": [
    "#importamos la librerías necesarias\n",
    "import pandas as pd\n",
    "import numpy as np\n",
    "from keras.utils import to_categorical\n",
    "import matplotlib.pyplot as plt\n",
    "%matplotlib inline\n",
    "import keras\n",
    "from keras.models import Sequential, Model\n",
    "from keras.layers import Dense, Dropout, Flatten, Input\n",
    "from keras.layers import Conv2D, MaxPooling2D, BatchNormalization, LeakyReLU\n",
    "from keras.optimizers import Adam\n",
    "from sklearn.feature_selection import SelectKBest, chi2\n",
    "from sklearn.preprocessing import MinMaxScaler\n",
    "from sklearn.model_selection import train_test_split\n",
    "from keras.models import Sequential"
   ]
  },
  {
   "cell_type": "markdown",
   "metadata": {},
   "source": [
    "1. Cargar los datos"
   ]
  },
  {
   "cell_type": "code",
   "execution_count": 4,
   "metadata": {},
   "outputs": [
    {
     "name": "stdout",
     "output_type": "stream",
     "text": [
      "Pregnancies                 0\n",
      "Glucose                     0\n",
      "BloodPressure               0\n",
      "SkinThickness               0\n",
      "Insulin                     0\n",
      "BMI                         0\n",
      "DiabetesPedigreeFunction    0\n",
      "Age                         0\n",
      "Outcome                     0\n",
      "dtype: int64\n"
     ]
    },
    {
     "data": {
      "text/plain": [
       "array([[0.35294118, 0.74371859, 0.23441503, 0.48333333, 1.        ],\n",
       "       [0.05882353, 0.42713568, 0.11656704, 0.16666667, 0.        ],\n",
       "       [0.47058824, 0.91959799, 0.25362938, 0.18333333, 1.        ],\n",
       "       ...,\n",
       "       [0.29411765, 0.6080402 , 0.07130658, 0.15      , 0.        ],\n",
       "       [0.05882353, 0.63316583, 0.11571307, 0.43333333, 1.        ],\n",
       "       [0.05882353, 0.46733668, 0.10119556, 0.03333333, 0.        ]])"
      ]
     },
     "execution_count": 4,
     "metadata": {},
     "output_type": "execute_result"
    }
   ],
   "source": [
    "# Definimos la ruta del archivo diabetes.csv\n",
    "ruta_diabetes = './datos/diabetes.csv'\n",
    "\n",
    "# Cargamos los datos del archivo CSV en un DataFrame de pandas\n",
    "df = pd.read_csv(ruta_diabetes)\n",
    "\n",
    "# Verificamos si hay valores faltantes en el DataFrame\n",
    "# La función isnull().sum() devuelve la cantidad de valores faltantes por columna\n",
    "print(df.isnull().sum())\n",
    "\n",
    "# Creamos una instancia de MinMaxScaler\n",
    "scaler = MinMaxScaler()\n",
    "\n",
    "# Ajustamos y transformamos los datos con MinMaxScaler\n",
    "# Los datos transformados se almacenan en un nuevo DataFrame\n",
    "df_scaled = pd.DataFrame(scaler.fit_transform(df), columns=df.columns)\n",
    "\n",
    "\n",
    "\n",
    "# Creamos una instancia de SelectKBest para seleccionar las 5 mejores características\n",
    "# Utilizamos chi2 como función para evaluar las características\n",
    "selector = SelectKBest(chi2, k=5)\n",
    "\n",
    "# Ajustamos y transformamos los datos con SelectKBest\n",
    "# Las características seleccionadas se utilizan para transformar el DataFrame\n",
    "selector.fit_transform(df_scaled, df['Outcome'])\n",
    "\n"
   ]
  },
  {
   "cell_type": "markdown",
   "metadata": {},
   "source": [
    "2. Realizar un resumen estadístico del dataset."
   ]
  },
  {
   "cell_type": "code",
   "execution_count": 5,
   "metadata": {},
   "outputs": [
    {
     "name": "stdout",
     "output_type": "stream",
     "text": [
      "       Pregnancies     Glucose  BloodPressure  SkinThickness     Insulin  \\\n",
      "count   768.000000  768.000000     768.000000     768.000000  768.000000   \n",
      "mean      3.845052  120.894531      69.105469      20.536458   79.799479   \n",
      "std       3.369578   31.972618      19.355807      15.952218  115.244002   \n",
      "min       0.000000    0.000000       0.000000       0.000000    0.000000   \n",
      "25%       1.000000   99.000000      62.000000       0.000000    0.000000   \n",
      "50%       3.000000  117.000000      72.000000      23.000000   30.500000   \n",
      "75%       6.000000  140.250000      80.000000      32.000000  127.250000   \n",
      "max      17.000000  199.000000     122.000000      99.000000  846.000000   \n",
      "\n",
      "              BMI  DiabetesPedigreeFunction         Age     Outcome  \n",
      "count  768.000000                768.000000  768.000000  768.000000  \n",
      "mean    31.992578                  0.471876   33.240885    0.348958  \n",
      "std      7.884160                  0.331329   11.760232    0.476951  \n",
      "min      0.000000                  0.078000   21.000000    0.000000  \n",
      "25%     27.300000                  0.243750   24.000000    0.000000  \n",
      "50%     32.000000                  0.372500   29.000000    0.000000  \n",
      "75%     36.600000                  0.626250   41.000000    1.000000  \n",
      "max     67.100000                  2.420000   81.000000    1.000000  \n"
     ]
    }
   ],
   "source": [
    "# Realizar un resumen estadístico del DataFrame\n",
    "summary = df.describe()\n",
    "\n",
    "# Imprimir el resumen\n",
    "print(summary)"
   ]
  },
  {
   "cell_type": "markdown",
   "metadata": {},
   "source": [
    "3. Dividir los datos en entrenamiento y test.  Considere 75% y 25% respectivamente."
   ]
  },
  {
   "cell_type": "code",
   "execution_count": 7,
   "metadata": {},
   "outputs": [],
   "source": [
    "# Definir las características y la variable objetivo\n",
    "X = df.drop('Outcome', axis=1)\n",
    "y = df['Outcome']\n",
    "\n",
    "# Dividir los datos\n",
    "X_train, X_test, y_train, y_test = train_test_split(X, y, test_size=0.25, random_state=42)"
   ]
  },
  {
   "cell_type": "markdown",
   "metadata": {},
   "source": [
    "4. Implemente un modelo de redes neuronales."
   ]
  },
  {
   "cell_type": "code",
   "execution_count": 8,
   "metadata": {},
   "outputs": [],
   "source": [
    "\n",
    "# Crear un modelo secuencial\n",
    "model = Sequential()\n",
    "\n",
    "# Agregar la capa de entrada\n",
    "model.add(Input(shape=(X_train.shape[1],)))\n",
    "\n",
    "# Agregar la primera capa oculta con 24 nodos y función de activación relu\n",
    "model.add(Dense(24, activation='relu'))\n",
    "\n",
    "# Agregar la segunda capa oculta con 16 nodos y función de activación relu\n",
    "model.add(Dense(16, activation='relu'))\n",
    "\n",
    "# Agregar una tercera capa oculta con 8 nodos y función de activación relu\n",
    "model.add(Dense(8, activation='relu'))\n",
    "\n",
    "# Agregar la capa de salida con 1 nodo y función de activación sigmoid\n",
    "model.add(Dense(1, activation='sigmoid'))\n",
    "\n",
    "# Compilar el modelo\n",
    "model.compile(loss='binary_crossentropy', optimizer='adam', metrics=['accuracy'])\n"
   ]
  },
  {
   "cell_type": "markdown",
   "metadata": {},
   "source": [
    "5. Calcule la exactitud del modelo."
   ]
  },
  {
   "cell_type": "code",
   "execution_count": 9,
   "metadata": {},
   "outputs": [
    {
     "name": "stdout",
     "output_type": "stream",
     "text": [
      "Exactitud del modelo: 72.40\n"
     ]
    }
   ],
   "source": [
    "# Entrenar el modelo\n",
    "model.fit(X_train, y_train, epochs=150, batch_size=10, verbose=0)\n",
    "\n",
    "# Evaluar el modelo\n",
    "_, accuracy = model.evaluate(X_test, y_test, verbose=0)\n",
    "\n",
    "print('Exactitud del modelo: %.2f' % (accuracy*100))"
   ]
  }
 ],
 "metadata": {
  "kernelspec": {
   "display_name": "Python 3",
   "language": "python",
   "name": "python3"
  },
  "language_info": {
   "codemirror_mode": {
    "name": "ipython",
    "version": 3
   },
   "file_extension": ".py",
   "mimetype": "text/x-python",
   "name": "python",
   "nbconvert_exporter": "python",
   "pygments_lexer": "ipython3",
   "version": "3.12.2"
  }
 },
 "nbformat": 4,
 "nbformat_minor": 2
}
