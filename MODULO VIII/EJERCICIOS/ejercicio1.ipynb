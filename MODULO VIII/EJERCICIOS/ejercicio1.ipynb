{
 "cells": [
  {
   "cell_type": "markdown",
   "metadata": {},
   "source": [
    "Responda lo siguiente:\n",
    "•      ¿Qué es Tensorflow?\n",
    "•      ¿Qué es Hadoop?\n",
    "•      ¿Cómo funciona Hadoop?\n",
    "•      ¿Qué es una API?\n",
    "•      ¿Qué es Spark?"
   ]
  },
  {
   "cell_type": "markdown",
   "metadata": {},
   "source": [
    "\n",
    "\n",
    "1)  TensorFlow:\n",
    "\n",
    "TensorFlow es un marco de código abierto utilizado para crear y desplegar modelos de aprendizaje automático en cualquier entorno. Proporciona APIs intuitivas para desarrollar y entrenar modelos de machine learning. Puedes usarlo para tareas como clasificación de imágenes, procesamiento de lenguaje natural y más.\n",
    "\n",
    "2)  Hadoop:\n",
    "\n",
    "Hadoop es un marco de software de código abierto que permite el procesamiento distribuido de grandes conjuntos de datos. Utiliza clústeres de computadoras para almacenar y procesar datos en paralelo. Sus componentes principales son:\n",
    "\n",
    "    HDFS (Hadoop Distributed File System): Un sistema de archivos distribuido que proporciona acceso de alta velocidad a los datos de la aplicación.\n",
    "\n",
    "    YARN (Yet Another Resource Negotiator): Administra los recursos del clúster y programa trabajos.\n",
    "\n",
    "    MapReduce: Un sistema basado en YARN para procesar datos en paralelo.\n",
    "\n",
    "3)  Funcionamiento de Hadoop:\n",
    "\n",
    "Hadoop utiliza clústeres de servidores para procesar y almacenar grandes cantidades de datos. Los datos se distribuyen y replican en nodos, y se ejecutan tareas de MapReduce para procesarlos. Las APIs permiten la comunicación entre aplicaciones y servicios dentro del clúster o incluso en diferentes ubicaciones.\n",
    "\n",
    "4)  API (Interfaz de Programación de Aplicaciones):\n",
    "\n",
    "Una API es una especificación formal que define cómo dos componentes de software se comunican entre sí. Permite que aplicaciones se conecten y compartan información. Pueden ser privadas, abiertas o locales, y se utilizan para funciones como autenticación, acceso a servicios externos o integración de aplicaciones.\n",
    "\n",
    "5)  Spark:\n",
    "\n",
    "Spark es un motor multi-lenguaje utilizado para ingeniería de datos, ciencia de datos y machine learning. Puede procesar datos en clústeres de máquinas y admite Python, SQL, Scala, Java y R. Es utilizado para análisis de datos a gran escala y procesamiento en tiempo real.\n"
   ]
  }
 ],
 "metadata": {
  "language_info": {
   "name": "python"
  }
 },
 "nbformat": 4,
 "nbformat_minor": 2
}
