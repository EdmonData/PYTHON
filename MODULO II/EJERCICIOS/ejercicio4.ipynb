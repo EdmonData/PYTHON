{
 "cells": [
  {
   "cell_type": "markdown",
   "metadata": {},
   "source": [
    "1. Continuaremos trabajando con nuestros datos de supermercado. Para esto cargaremos los 4 archivos (clientes, boletas, detalle y productos) y responderemos las siguientes preguntas"
   ]
  },
  {
   "cell_type": "code",
   "execution_count": 1,
   "metadata": {},
   "outputs": [],
   "source": [
    "import pandas as pd\n",
    "\n",
    "\n",
    "# Definir las rutas de los archivos\n",
    "ruta_clientes = './datos/clientes.csv'\n",
    "ruta_productos = './datos/productos.csv'\n",
    "ruta_boletas = './datos/boletas.csv'\n",
    "ruta_detalle = './datos/detalle.csv'\n",
    "\n",
    "# Cargar los datos en DataFrames\n",
    "df_clientes = pd.read_csv(ruta_clientes)\n",
    "df_productos = pd.read_csv(ruta_productos)\n",
    "df_boletas = pd.read_csv(ruta_boletas)\n",
    "df_detalle = pd.read_csv(ruta_detalle)\n",
    "\n"
   ]
  },
  {
   "cell_type": "markdown",
   "metadata": {},
   "source": [
    "a.  Generar un dataframe con cada archivo.\n",
    "b. Cuantos datos tiene cada dataframe?"
   ]
  },
  {
   "cell_type": "code",
   "execution_count": 2,
   "metadata": {},
   "outputs": [
    {
     "name": "stdout",
     "output_type": "stream",
     "text": [
      "          rut           nombre              direccion       comuna  \\\n",
      "0  11223344-4    Tomás Ramírez                    NaN        Arica   \n",
      "1  11223344-5      Laura Rojas      Calle Virtual 567  Antofagasta   \n",
      "2  12345678-9       Juan Perez        Calle Falsa 123     Santiago   \n",
      "3  23456789-1  Pedro Rodríguez                    NaN   Valparaíso   \n",
      "4  33445566-5    Camila Torres  Calle Cibernética 456          NaN   \n",
      "\n",
      "  fecha_nacimiento     telefono               email  \n",
      "0       1994-12-31          NaN   tomas@example.com  \n",
      "1       1998-07-12  945678321.0   laura@example.com  \n",
      "2       2000-05-15  912345678.0    juan@example.com  \n",
      "3       1988-03-10  912345678.0   pedro@example.com  \n",
      "4       1993-02-14  977894512.0  camila@example.com  \n",
      "El DataFrame df_productos tiene 20 filas y 7 columnas. Dando un número total de datos: 140\n"
     ]
    }
   ],
   "source": [
    "# Mostrar DataFrames\n",
    "print(df_clientes.head())\n",
    "\n",
    "# Imprimir el número total de datos en cada DataFrame\n",
    "print(f\"El DataFrame df_productos tiene {df_clientes.shape[0]} filas y {df_clientes.shape[1]} columnas. Dando un número total de datos: { df_clientes.size }\")"
   ]
  },
  {
   "cell_type": "code",
   "execution_count": 3,
   "metadata": {},
   "outputs": [
    {
     "name": "stdout",
     "output_type": "stream",
     "text": [
      "   codigo            nombre  precio\n",
      "0     101             Arroz    1500\n",
      "1     102            Fideos    1200\n",
      "2     103  Aceite de cocina   18000\n",
      "3     104            Harina    2000\n",
      "4     105             Leche    3000\n",
      "El DataFrame df_productos tiene 20 filas y 3 columnas. Dando un total de datos  : 60\n"
     ]
    }
   ],
   "source": [
    "# Mostrar DataFrames\n",
    "print(df_productos.head())\n",
    "\n",
    "# Imprimir el número de datos\n",
    "print(f\"El DataFrame df_productos tiene {df_productos.shape[0]} filas y {df_productos.shape[1]} columnas. Dando un total de datos  : {df_productos.size}\")\n",
    "\n"
   ]
  },
  {
   "cell_type": "code",
   "execution_count": 4,
   "metadata": {},
   "outputs": [
    {
     "name": "stdout",
     "output_type": "stream",
     "text": [
      "   numero       fecha rut_cliente\n",
      "0       1  2023-11-05  12345678-9\n",
      "1       2  2023-11-07  87654321-0\n",
      "2       3  2023-11-09  23456789-1\n",
      "3       4  2023-11-12  34567890-2\n",
      "4       5  2023-11-15  45678901-3\n",
      "El DataFrame df_boletas tiene 24 filas y 3 columnas. Dando un total de datos  : 72\n"
     ]
    }
   ],
   "source": [
    "# Mostrar DataFrames\n",
    "print(df_boletas.head())\n",
    "\n",
    "# Imprimir el número de datos\n",
    "print(f\"El DataFrame df_boletas tiene {df_boletas.shape[0]} filas y {df_boletas.shape[1]} columnas. Dando un total de datos  : {df_boletas.size}\")"
   ]
  },
  {
   "cell_type": "code",
   "execution_count": 5,
   "metadata": {},
   "outputs": [
    {
     "name": "stdout",
     "output_type": "stream",
     "text": [
      "   numero_boleta  codigo_producto  cantidad\n",
      "0              1              101         3\n",
      "1              1              103         6\n",
      "2              1              106         2\n",
      "3              2              102         5\n",
      "4              2              104         1\n",
      "El DataFrame df_detalle tiene 40 filas y 3 columnas. Dando un total de datos  : 120\n"
     ]
    }
   ],
   "source": [
    "# Mostrar DataFrames\n",
    "print(df_detalle.head())\n",
    "\n",
    "# Imprimir el número de datos\n",
    "print(f\"El DataFrame df_detalle tiene {df_detalle.shape[0]} filas y {df_detalle.shape[1]} columnas. Dando un total de datos  : {df_detalle.size}\")"
   ]
  },
  {
   "cell_type": "markdown",
   "metadata": {},
   "source": [
    "c.  Cuantos clientes no tienen email?"
   ]
  },
  {
   "cell_type": "code",
   "execution_count": 6,
   "metadata": {},
   "outputs": [
    {
     "name": "stdout",
     "output_type": "stream",
     "text": [
      "El número de clientes sin correo electrónico es: 4\n"
     ]
    }
   ],
   "source": [
    "# Contar el número de clientes sin correo electrónico\n",
    "num_sin_email = df_clientes['email'].isna().sum()\n",
    "\n",
    "# Imprimir el número de clientes sin correo electrónico\n",
    "print(f\"El número de clientes sin correo electrónico es: {num_sin_email}\")"
   ]
  },
  {
   "cell_type": "markdown",
   "metadata": {},
   "source": [
    "d. Genera un filtro para saber a qué clientes les falta un dato (cualquiera).\n",
    "e.  A cuantos clientes les faltan datos?"
   ]
  },
  {
   "cell_type": "code",
   "execution_count": 7,
   "metadata": {},
   "outputs": [
    {
     "name": "stdout",
     "output_type": "stream",
     "text": [
      "           rut             nombre                direccion        comuna  \\\n",
      "0   11223344-4      Tomás Ramírez                      NaN         Arica   \n",
      "3   23456789-1    Pedro Rodríguez                      NaN    Valparaíso   \n",
      "4   33445566-5      Camila Torres    Calle Cibernética 456           NaN   \n",
      "5   33445566-7         Mateo Diaz                      NaN  Viña del Mar   \n",
      "6   34567890-2     Carla González      Calle Inventada 789           NaN   \n",
      "7   45678901-3     Diego Martínez       Avenida Irreal 987     La Serena   \n",
      "8   55667788-6      Matias Castro   Avenida Innovación 321           NaN   \n",
      "9   55667788-9  Valentina Herrera  Avenida Tecnológica 123           NaN   \n",
      "10  56789012-4          Ana Lopez                      NaN           NaN   \n",
      "11  67890123-5    Luisa Fernández       Calle Ficticia 321      Rancagua   \n",
      "12  77889900-1       Martin Gómez                      NaN       Iquique   \n",
      "13  77889900-7      Renata Flores                      NaN       Copiapó   \n",
      "14  78901234-6      Javier Torres   Avenida de Ensueño 654        Temuco   \n",
      "16  89012345-7      Marta Ramírez         Calle Soñada 210           NaN   \n",
      "17  90123456-8       Daniel Silva                      NaN  Puerto Montt   \n",
      "18  99001122-3        Sofía Pérez        Calle Digital 789           NaN   \n",
      "19  99001122-8       Nicolás Ruiz   Calle Programación 210           NaN   \n",
      "\n",
      "   fecha_nacimiento     telefono                  email  \n",
      "0        1994-12-31          NaN      tomas@example.com  \n",
      "3        1988-03-10  912345678.0      pedro@example.com  \n",
      "4        1993-02-14  977894512.0     camila@example.com  \n",
      "5        2002-02-28  967894512.0      mateo@example.com  \n",
      "6        1999-12-05  934567890.0      carla@example.com  \n",
      "7               NaN          NaN      diego@example.com  \n",
      "8        1992-06-08  923478965.0                    NaN  \n",
      "9        1997-04-05  923478965.0  valentina@example.com  \n",
      "10       1990-08-18  978901234.0        ana@example.com  \n",
      "11       2005-04-25          NaN      luisa@example.com  \n",
      "12       1996-10-17  955678902.0     martin@example.com  \n",
      "13              NaN          NaN     renata@example.com  \n",
      "14       1985-11-30  923456789.0                    NaN  \n",
      "16              NaN          NaN                    NaN  \n",
      "17              NaN          NaN                    NaN  \n",
      "18       2001-09-22  912345672.0      sofia@example.com  \n",
      "19       2003-11-03  955678902.0    nicolas@example.com  \n",
      "La cantidad de clientes con al menos un dato nulo es: 17\n"
     ]
    }
   ],
   "source": [
    "# Generar un filtro para los clientes que tienen al menos un dato faltante\n",
    "filtro_datos_faltantes = df_clientes.isna().any(axis=1)\n",
    "\n",
    "# Aplicar el filtro al DataFrame\n",
    "clientes_datos_faltantes = df_clientes[filtro_datos_faltantes]\n",
    "\n",
    "# Mostrar los clientes con datos faltantes\n",
    "print(clientes_datos_faltantes)\n",
    "\n",
    "# Contar el número de productos con al menos un dato nulo\n",
    "print(f'La cantidad de clientes con al menos un dato nulo es: {len(clientes_datos_faltantes)}')"
   ]
  },
  {
   "cell_type": "markdown",
   "metadata": {},
   "source": [
    "f.  Agregar una nueva columna a todos los clientes, que indique si le falta algún dato o no (con un mapeo)."
   ]
  },
  {
   "cell_type": "code",
   "execution_count": 8,
   "metadata": {},
   "outputs": [
    {
     "name": "stdout",
     "output_type": "stream",
     "text": [
      "           rut             nombre                direccion        comuna  \\\n",
      "0   11223344-4      Tomás Ramírez                      NaN         Arica   \n",
      "1   11223344-5        Laura Rojas        Calle Virtual 567   Antofagasta   \n",
      "2   12345678-9         Juan Perez          Calle Falsa 123      Santiago   \n",
      "3   23456789-1    Pedro Rodríguez                      NaN    Valparaíso   \n",
      "4   33445566-5      Camila Torres    Calle Cibernética 456           NaN   \n",
      "5   33445566-7         Mateo Diaz                      NaN  Viña del Mar   \n",
      "6   34567890-2     Carla González      Calle Inventada 789           NaN   \n",
      "7   45678901-3     Diego Martínez       Avenida Irreal 987     La Serena   \n",
      "8   55667788-6      Matias Castro   Avenida Innovación 321           NaN   \n",
      "9   55667788-9  Valentina Herrera  Avenida Tecnológica 123           NaN   \n",
      "10  56789012-4          Ana Lopez                      NaN           NaN   \n",
      "11  67890123-5    Luisa Fernández       Calle Ficticia 321      Rancagua   \n",
      "12  77889900-1       Martin Gómez                      NaN       Iquique   \n",
      "13  77889900-7      Renata Flores                      NaN       Copiapó   \n",
      "14  78901234-6      Javier Torres   Avenida de Ensueño 654        Temuco   \n",
      "15  87654321-0      Maria Sánchez   Avenida Imaginaria 456    Concepción   \n",
      "16  89012345-7      Marta Ramírez         Calle Soñada 210           NaN   \n",
      "17  90123456-8       Daniel Silva                      NaN  Puerto Montt   \n",
      "18  99001122-3        Sofía Pérez        Calle Digital 789           NaN   \n",
      "19  99001122-8       Nicolás Ruiz   Calle Programación 210           NaN   \n",
      "\n",
      "   fecha_nacimiento     telefono                  email  datos_faltantes  \n",
      "0        1994-12-31          NaN      tomas@example.com       Falta dato  \n",
      "1        1998-07-12  945678321.0      laura@example.com  Datos completos  \n",
      "2        2000-05-15  912345678.0       juan@example.com  Datos completos  \n",
      "3        1988-03-10  912345678.0      pedro@example.com       Falta dato  \n",
      "4        1993-02-14  977894512.0     camila@example.com       Falta dato  \n",
      "5        2002-02-28  967894512.0      mateo@example.com       Falta dato  \n",
      "6        1999-12-05  934567890.0      carla@example.com       Falta dato  \n",
      "7               NaN          NaN      diego@example.com       Falta dato  \n",
      "8        1992-06-08  923478965.0                    NaN       Falta dato  \n",
      "9        1997-04-05  923478965.0  valentina@example.com       Falta dato  \n",
      "10       1990-08-18  978901234.0        ana@example.com       Falta dato  \n",
      "11       2005-04-25          NaN      luisa@example.com       Falta dato  \n",
      "12       1996-10-17  955678902.0     martin@example.com       Falta dato  \n",
      "13              NaN          NaN     renata@example.com       Falta dato  \n",
      "14       1985-11-30  923456789.0                    NaN       Falta dato  \n",
      "15       1995-10-20  987654321.0      maria@example.com  Datos completos  \n",
      "16              NaN          NaN                    NaN       Falta dato  \n",
      "17              NaN          NaN                    NaN       Falta dato  \n",
      "18       2001-09-22  912345672.0      sofia@example.com       Falta dato  \n",
      "19       2003-11-03  955678902.0    nicolas@example.com       Falta dato  \n"
     ]
    }
   ],
   "source": [
    "# Agregar una nueva columna que indique si a un cliente le falta algún dato\n",
    "df_clientes['datos_faltantes'] = df_clientes.isna().any(axis=1).map({True: 'Falta dato', False: 'Datos completos'})\n",
    "\n",
    "# Mostrar el DataFrame con la nueva columna\n",
    "print(df_clientes)"
   ]
  },
  {
   "cell_type": "markdown",
   "metadata": {},
   "source": [
    "g. A todos los clientes que les falten datos, deben rellenarse con un S/I, excepto la fecha de nacimiento."
   ]
  },
  {
   "cell_type": "code",
   "execution_count": 9,
   "metadata": {},
   "outputs": [
    {
     "name": "stdout",
     "output_type": "stream",
     "text": [
      "           rut             nombre                direccion        comuna  \\\n",
      "0   11223344-4      Tomás Ramírez                      S/I         Arica   \n",
      "1   11223344-5        Laura Rojas        Calle Virtual 567   Antofagasta   \n",
      "2   12345678-9         Juan Perez          Calle Falsa 123      Santiago   \n",
      "3   23456789-1    Pedro Rodríguez                      S/I    Valparaíso   \n",
      "4   33445566-5      Camila Torres    Calle Cibernética 456           S/I   \n",
      "5   33445566-7         Mateo Diaz                      S/I  Viña del Mar   \n",
      "6   34567890-2     Carla González      Calle Inventada 789           S/I   \n",
      "7   45678901-3     Diego Martínez       Avenida Irreal 987     La Serena   \n",
      "8   55667788-6      Matias Castro   Avenida Innovación 321           S/I   \n",
      "9   55667788-9  Valentina Herrera  Avenida Tecnológica 123           S/I   \n",
      "10  56789012-4          Ana Lopez                      S/I           S/I   \n",
      "11  67890123-5    Luisa Fernández       Calle Ficticia 321      Rancagua   \n",
      "12  77889900-1       Martin Gómez                      S/I       Iquique   \n",
      "13  77889900-7      Renata Flores                      S/I       Copiapó   \n",
      "14  78901234-6      Javier Torres   Avenida de Ensueño 654        Temuco   \n",
      "15  87654321-0      Maria Sánchez   Avenida Imaginaria 456    Concepción   \n",
      "16  89012345-7      Marta Ramírez         Calle Soñada 210           S/I   \n",
      "17  90123456-8       Daniel Silva                      S/I  Puerto Montt   \n",
      "18  99001122-3        Sofía Pérez        Calle Digital 789           S/I   \n",
      "19  99001122-8       Nicolás Ruiz   Calle Programación 210           S/I   \n",
      "\n",
      "   fecha_nacimiento     telefono                  email  datos_faltantes  \n",
      "0        1994-12-31          S/I      tomas@example.com       Falta dato  \n",
      "1        1998-07-12  945678321.0      laura@example.com  Datos completos  \n",
      "2        2000-05-15  912345678.0       juan@example.com  Datos completos  \n",
      "3        1988-03-10  912345678.0      pedro@example.com       Falta dato  \n",
      "4        1993-02-14  977894512.0     camila@example.com       Falta dato  \n",
      "5        2002-02-28  967894512.0      mateo@example.com       Falta dato  \n",
      "6        1999-12-05  934567890.0      carla@example.com       Falta dato  \n",
      "7               NaN          S/I      diego@example.com       Falta dato  \n",
      "8        1992-06-08  923478965.0                    S/I       Falta dato  \n",
      "9        1997-04-05  923478965.0  valentina@example.com       Falta dato  \n",
      "10       1990-08-18  978901234.0        ana@example.com       Falta dato  \n",
      "11       2005-04-25          S/I      luisa@example.com       Falta dato  \n",
      "12       1996-10-17  955678902.0     martin@example.com       Falta dato  \n",
      "13              NaN          S/I     renata@example.com       Falta dato  \n",
      "14       1985-11-30  923456789.0                    S/I       Falta dato  \n",
      "15       1995-10-20  987654321.0      maria@example.com  Datos completos  \n",
      "16              NaN          S/I                    S/I       Falta dato  \n",
      "17              NaN          S/I                    S/I       Falta dato  \n",
      "18       2001-09-22  912345672.0      sofia@example.com       Falta dato  \n",
      "19       2003-11-03  955678902.0    nicolas@example.com       Falta dato  \n"
     ]
    }
   ],
   "source": [
    "# Seleccionar todas las columnas excepto la fecha de nacimiento\n",
    "columnas_sin_fecha = [col for col in df_clientes.columns if col != 'fecha_nacimiento']\n",
    "\n",
    "# Rellenar los datos faltantes con 'S/I' en las columnas seleccionadas\n",
    "df_clientes[columnas_sin_fecha] = df_clientes[columnas_sin_fecha].fillna('S/I')\n",
    "\n",
    "# Mostrar el DataFrame con los datos faltantes rellenados\n",
    "print(df_clientes)"
   ]
  },
  {
   "cell_type": "markdown",
   "metadata": {},
   "source": [
    "h. Busque en los productos si existe algún outlier."
   ]
  },
  {
   "cell_type": "code",
   "execution_count": 10,
   "metadata": {},
   "outputs": [
    {
     "name": "stdout",
     "output_type": "stream",
     "text": [
      "   codigo            nombre  precio\n",
      "2     103  Aceite de cocina   18000\n"
     ]
    }
   ],
   "source": [
    "# Sdf_productos es tu DataFrame y 'precio' es la columna para buscar outliers\n",
    "\n",
    "# Calcular el IQR para la columna 'precio'\n",
    "Q1 = df_productos['precio'].quantile(0.25)\n",
    "Q3 = df_productos['precio'].quantile(0.75)\n",
    "IQR = Q3 - Q1\n",
    "\n",
    "# Definir un filtro para los outliers\n",
    "filtro_outliers = ((df_productos['precio'] < (Q1 - 1.5 * IQR)) | (df_productos['precio'] > (Q3 + 1.5 * IQR)))\n",
    "\n",
    "# Aplicar el filtro al DataFrame\n",
    "df_outliers = df_productos[filtro_outliers]\n",
    "\n",
    "# Mostrar los outliers\n",
    "print(df_outliers)\n",
    "\n"
   ]
  },
  {
   "cell_type": "markdown",
   "metadata": {},
   "source": [
    "2. El  archivo  “M3E4  - titanic.csv” contiene  información  sobre  los pasajeros  del  Titanic.  Escribir  un  programa  con  los  siguientes requisitos:\n",
    "a.  Generar un DataFrame con los datos del fichero."
   ]
  },
  {
   "cell_type": "code",
   "execution_count": 11,
   "metadata": {},
   "outputs": [
    {
     "name": "stdout",
     "output_type": "stream",
     "text": [
      "Dimensiones del DataFrame: (891, 12)\n",
      "Número de datos que contiene: 10692\n",
      "Nombres de sus columnas: ['PassengerId', 'Survived', 'Pclass', 'Name', 'Sex', 'Age', 'SibSp', 'Parch', 'Ticket', 'Fare', 'Cabin', 'Embarked']\n",
      "Nombres de sus filas: [0, 1, 2, 3, 4, 5, 6, 7, 8, 9, 10, 11, 12, 13, 14, 15, 16, 17, 18, 19, 20, 21, 22, 23, 24, 25, 26, 27, 28, 29, 30, 31, 32, 33, 34, 35, 36, 37, 38, 39, 40, 41, 42, 43, 44, 45, 46, 47, 48, 49, 50, 51, 52, 53, 54, 55, 56, 57, 58, 59, 60, 61, 62, 63, 64, 65, 66, 67, 68, 69, 70, 71, 72, 73, 74, 75, 76, 77, 78, 79, 80, 81, 82, 83, 84, 85, 86, 87, 88, 89, 90, 91, 92, 93, 94, 95, 96, 97, 98, 99, 100, 101, 102, 103, 104, 105, 106, 107, 108, 109, 110, 111, 112, 113, 114, 115, 116, 117, 118, 119, 120, 121, 122, 123, 124, 125, 126, 127, 128, 129, 130, 131, 132, 133, 134, 135, 136, 137, 138, 139, 140, 141, 142, 143, 144, 145, 146, 147, 148, 149, 150, 151, 152, 153, 154, 155, 156, 157, 158, 159, 160, 161, 162, 163, 164, 165, 166, 167, 168, 169, 170, 171, 172, 173, 174, 175, 176, 177, 178, 179, 180, 181, 182, 183, 184, 185, 186, 187, 188, 189, 190, 191, 192, 193, 194, 195, 196, 197, 198, 199, 200, 201, 202, 203, 204, 205, 206, 207, 208, 209, 210, 211, 212, 213, 214, 215, 216, 217, 218, 219, 220, 221, 222, 223, 224, 225, 226, 227, 228, 229, 230, 231, 232, 233, 234, 235, 236, 237, 238, 239, 240, 241, 242, 243, 244, 245, 246, 247, 248, 249, 250, 251, 252, 253, 254, 255, 256, 257, 258, 259, 260, 261, 262, 263, 264, 265, 266, 267, 268, 269, 270, 271, 272, 273, 274, 275, 276, 277, 278, 279, 280, 281, 282, 283, 284, 285, 286, 287, 288, 289, 290, 291, 292, 293, 294, 295, 296, 297, 298, 299, 300, 301, 302, 303, 304, 305, 306, 307, 308, 309, 310, 311, 312, 313, 314, 315, 316, 317, 318, 319, 320, 321, 322, 323, 324, 325, 326, 327, 328, 329, 330, 331, 332, 333, 334, 335, 336, 337, 338, 339, 340, 341, 342, 343, 344, 345, 346, 347, 348, 349, 350, 351, 352, 353, 354, 355, 356, 357, 358, 359, 360, 361, 362, 363, 364, 365, 366, 367, 368, 369, 370, 371, 372, 373, 374, 375, 376, 377, 378, 379, 380, 381, 382, 383, 384, 385, 386, 387, 388, 389, 390, 391, 392, 393, 394, 395, 396, 397, 398, 399, 400, 401, 402, 403, 404, 405, 406, 407, 408, 409, 410, 411, 412, 413, 414, 415, 416, 417, 418, 419, 420, 421, 422, 423, 424, 425, 426, 427, 428, 429, 430, 431, 432, 433, 434, 435, 436, 437, 438, 439, 440, 441, 442, 443, 444, 445, 446, 447, 448, 449, 450, 451, 452, 453, 454, 455, 456, 457, 458, 459, 460, 461, 462, 463, 464, 465, 466, 467, 468, 469, 470, 471, 472, 473, 474, 475, 476, 477, 478, 479, 480, 481, 482, 483, 484, 485, 486, 487, 488, 489, 490, 491, 492, 493, 494, 495, 496, 497, 498, 499, 500, 501, 502, 503, 504, 505, 506, 507, 508, 509, 510, 511, 512, 513, 514, 515, 516, 517, 518, 519, 520, 521, 522, 523, 524, 525, 526, 527, 528, 529, 530, 531, 532, 533, 534, 535, 536, 537, 538, 539, 540, 541, 542, 543, 544, 545, 546, 547, 548, 549, 550, 551, 552, 553, 554, 555, 556, 557, 558, 559, 560, 561, 562, 563, 564, 565, 566, 567, 568, 569, 570, 571, 572, 573, 574, 575, 576, 577, 578, 579, 580, 581, 582, 583, 584, 585, 586, 587, 588, 589, 590, 591, 592, 593, 594, 595, 596, 597, 598, 599, 600, 601, 602, 603, 604, 605, 606, 607, 608, 609, 610, 611, 612, 613, 614, 615, 616, 617, 618, 619, 620, 621, 622, 623, 624, 625, 626, 627, 628, 629, 630, 631, 632, 633, 634, 635, 636, 637, 638, 639, 640, 641, 642, 643, 644, 645, 646, 647, 648, 649, 650, 651, 652, 653, 654, 655, 656, 657, 658, 659, 660, 661, 662, 663, 664, 665, 666, 667, 668, 669, 670, 671, 672, 673, 674, 675, 676, 677, 678, 679, 680, 681, 682, 683, 684, 685, 686, 687, 688, 689, 690, 691, 692, 693, 694, 695, 696, 697, 698, 699, 700, 701, 702, 703, 704, 705, 706, 707, 708, 709, 710, 711, 712, 713, 714, 715, 716, 717, 718, 719, 720, 721, 722, 723, 724, 725, 726, 727, 728, 729, 730, 731, 732, 733, 734, 735, 736, 737, 738, 739, 740, 741, 742, 743, 744, 745, 746, 747, 748, 749, 750, 751, 752, 753, 754, 755, 756, 757, 758, 759, 760, 761, 762, 763, 764, 765, 766, 767, 768, 769, 770, 771, 772, 773, 774, 775, 776, 777, 778, 779, 780, 781, 782, 783, 784, 785, 786, 787, 788, 789, 790, 791, 792, 793, 794, 795, 796, 797, 798, 799, 800, 801, 802, 803, 804, 805, 806, 807, 808, 809, 810, 811, 812, 813, 814, 815, 816, 817, 818, 819, 820, 821, 822, 823, 824, 825, 826, 827, 828, 829, 830, 831, 832, 833, 834, 835, 836, 837, 838, 839, 840, 841, 842, 843, 844, 845, 846, 847, 848, 849, 850, 851, 852, 853, 854, 855, 856, 857, 858, 859, 860, 861, 862, 863, 864, 865, 866, 867, 868, 869, 870, 871, 872, 873, 874, 875, 876, 877, 878, 879, 880, 881, 882, 883, 884, 885, 886, 887, 888, 889, 890]\n",
      "Tipos de datos de las columnas: PassengerId      int64\n",
      "Survived         int64\n",
      "Pclass           int64\n",
      "Name            object\n",
      "Sex             object\n",
      "Age            float64\n",
      "SibSp            int64\n",
      "Parch            int64\n",
      "Ticket          object\n",
      "Fare           float64\n",
      "Cabin           object\n",
      "Embarked        object\n",
      "dtype: object\n",
      "Las 10 primeras filas:\n",
      "   PassengerId  Survived  Pclass  \\\n",
      "0            1         0       3   \n",
      "1            2         1       1   \n",
      "2            3         1       3   \n",
      "3            4         1       1   \n",
      "4            5         0       3   \n",
      "5            6         0       3   \n",
      "6            7         0       1   \n",
      "7            8         0       3   \n",
      "8            9         1       3   \n",
      "9           10         1       2   \n",
      "\n",
      "                                                Name     Sex   Age  SibSp  \\\n",
      "0                            Braund, Mr. Owen Harris    male  22.0      1   \n",
      "1  Cumings, Mrs. John Bradley (Florence Briggs Th...  female  38.0      1   \n",
      "2                             Heikkinen, Miss. Laina  female  26.0      0   \n",
      "3       Futrelle, Mrs. Jacques Heath (Lily May Peel)  female  35.0      1   \n",
      "4                           Allen, Mr. William Henry    male  35.0      0   \n",
      "5                                   Moran, Mr. James    male   NaN      0   \n",
      "6                            McCarthy, Mr. Timothy J    male  54.0      0   \n",
      "7                     Palsson, Master. Gosta Leonard    male   2.0      3   \n",
      "8  Johnson, Mrs. Oscar W (Elisabeth Vilhelmina Berg)  female  27.0      0   \n",
      "9                Nasser, Mrs. Nicholas (Adele Achem)  female  14.0      1   \n",
      "\n",
      "   Parch            Ticket     Fare Cabin Embarked  \n",
      "0      0         A/5 21171   7.2500   NaN        S  \n",
      "1      0          PC 17599  71.2833   C85        C  \n",
      "2      0  STON/O2. 3101282   7.9250   NaN        S  \n",
      "3      0            113803  53.1000  C123        S  \n",
      "4      0            373450   8.0500   NaN        S  \n",
      "5      0            330877   8.4583   NaN        Q  \n",
      "6      0             17463  51.8625   E46        S  \n",
      "7      1            349909  21.0750   NaN        S  \n",
      "8      2            347742  11.1333   NaN        S  \n",
      "9      0            237736  30.0708   NaN        C  \n",
      "Las 10 últimas filas:\n",
      "     PassengerId  Survived  Pclass                                      Name  \\\n",
      "881          882         0       3                        Markun, Mr. Johann   \n",
      "882          883         0       3              Dahlberg, Miss. Gerda Ulrika   \n",
      "883          884         0       2             Banfield, Mr. Frederick James   \n",
      "884          885         0       3                    Sutehall, Mr. Henry Jr   \n",
      "885          886         0       3      Rice, Mrs. William (Margaret Norton)   \n",
      "886          887         0       2                     Montvila, Rev. Juozas   \n",
      "887          888         1       1              Graham, Miss. Margaret Edith   \n",
      "888          889         0       3  Johnston, Miss. Catherine Helen \"Carrie\"   \n",
      "889          890         1       1                     Behr, Mr. Karl Howell   \n",
      "890          891         0       3                       Dooley, Mr. Patrick   \n",
      "\n",
      "        Sex   Age  SibSp  Parch            Ticket     Fare Cabin Embarked  \n",
      "881    male  33.0      0      0            349257   7.8958   NaN        S  \n",
      "882  female  22.0      0      0              7552  10.5167   NaN        S  \n",
      "883    male  28.0      0      0  C.A./SOTON 34068  10.5000   NaN        S  \n",
      "884    male  25.0      0      0   SOTON/OQ 392076   7.0500   NaN        S  \n",
      "885  female  39.0      0      5            382652  29.1250   NaN        Q  \n",
      "886    male  27.0      0      0            211536  13.0000   NaN        S  \n",
      "887  female  19.0      0      0            112053  30.0000   B42        S  \n",
      "888  female   NaN      1      2        W./C. 6607  23.4500   NaN        S  \n",
      "889    male  26.0      0      0            111369  30.0000  C148        C  \n",
      "890    male  32.0      0      0            370376   7.7500   NaN        Q  \n"
     ]
    }
   ],
   "source": [
    "# a. Generar un DataFrame con los datos del fichero.\n",
    "ruta_titanic = './datos/titanic.csv'\n",
    "df_titanic = pd.read_csv(ruta_titanic)\n",
    "\n",
    "# b. Mostrar por pantalla las dimensiones del DataFrame, el número de datos que contiene, los nombres de sus columnas y filas, los tipos de datos de las columnas, las 10 primeras filas y las 10 últimas filas.\n",
    "print(\"Dimensiones del DataFrame:\", df_titanic.shape)\n",
    "print(\"Número de datos que contiene:\", df_titanic.size)\n",
    "print(\"Nombres de sus columnas:\", df_titanic.columns.tolist())\n",
    "print(\"Nombres de sus filas:\", df_titanic.index.tolist())\n",
    "print(\"Tipos de datos de las columnas:\", df_titanic.dtypes)\n",
    "print(\"Las 10 primeras filas:\")\n",
    "print(df_titanic.head(10))\n",
    "print(\"Las 10 últimas filas:\")\n",
    "print(df_titanic.tail(10))\n",
    "\n"
   ]
  },
  {
   "cell_type": "markdown",
   "metadata": {},
   "source": [
    "c.  Mostrar por pantalla los datos del pasajero con identificador 148."
   ]
  },
  {
   "cell_type": "code",
   "execution_count": 12,
   "metadata": {},
   "outputs": [
    {
     "name": "stdout",
     "output_type": "stream",
     "text": [
      "     PassengerId  Survived  Pclass                              Name     Sex  \\\n",
      "147          148         0       3  Ford, Miss. Robina Maggie \"Ruby\"  female   \n",
      "\n",
      "     Age  SibSp  Parch      Ticket    Fare Cabin Embarked  \n",
      "147  9.0      2      2  W./C. 6608  34.375   NaN        S  \n"
     ]
    }
   ],
   "source": [
    "# Mostrar los datos del pasajero con identificador 148\n",
    "pasajero_148 = df_titanic.loc[df_titanic['PassengerId'] == 148]\n",
    "print(pasajero_148)"
   ]
  },
  {
   "cell_type": "markdown",
   "metadata": {},
   "source": [
    "d. Mostrar por pantalla las filas pares del DataFrame"
   ]
  },
  {
   "cell_type": "code",
   "execution_count": 13,
   "metadata": {},
   "outputs": [
    {
     "name": "stdout",
     "output_type": "stream",
     "text": [
      "     PassengerId  Survived  Pclass  \\\n",
      "0              1         0       3   \n",
      "2              3         1       3   \n",
      "4              5         0       3   \n",
      "6              7         0       1   \n",
      "8              9         1       3   \n",
      "..           ...       ...     ...   \n",
      "882          883         0       3   \n",
      "884          885         0       3   \n",
      "886          887         0       2   \n",
      "888          889         0       3   \n",
      "890          891         0       3   \n",
      "\n",
      "                                                  Name     Sex   Age  SibSp  \\\n",
      "0                              Braund, Mr. Owen Harris    male  22.0      1   \n",
      "2                               Heikkinen, Miss. Laina  female  26.0      0   \n",
      "4                             Allen, Mr. William Henry    male  35.0      0   \n",
      "6                              McCarthy, Mr. Timothy J    male  54.0      0   \n",
      "8    Johnson, Mrs. Oscar W (Elisabeth Vilhelmina Berg)  female  27.0      0   \n",
      "..                                                 ...     ...   ...    ...   \n",
      "882                       Dahlberg, Miss. Gerda Ulrika  female  22.0      0   \n",
      "884                             Sutehall, Mr. Henry Jr    male  25.0      0   \n",
      "886                              Montvila, Rev. Juozas    male  27.0      0   \n",
      "888           Johnston, Miss. Catherine Helen \"Carrie\"  female   NaN      1   \n",
      "890                                Dooley, Mr. Patrick    male  32.0      0   \n",
      "\n",
      "     Parch            Ticket     Fare Cabin Embarked  \n",
      "0        0         A/5 21171   7.2500   NaN        S  \n",
      "2        0  STON/O2. 3101282   7.9250   NaN        S  \n",
      "4        0            373450   8.0500   NaN        S  \n",
      "6        0             17463  51.8625   E46        S  \n",
      "8        2            347742  11.1333   NaN        S  \n",
      "..     ...               ...      ...   ...      ...  \n",
      "882      0              7552  10.5167   NaN        S  \n",
      "884      0   SOTON/OQ 392076   7.0500   NaN        S  \n",
      "886      0            211536  13.0000   NaN        S  \n",
      "888      2        W./C. 6607  23.4500   NaN        S  \n",
      "890      0            370376   7.7500   NaN        Q  \n",
      "\n",
      "[446 rows x 12 columns]\n"
     ]
    }
   ],
   "source": [
    "# Mostrar las filas pares del DataFrame\n",
    "filas_pares = df_titanic.iloc[::2]\n",
    "print(filas_pares)"
   ]
  },
  {
   "cell_type": "markdown",
   "metadata": {},
   "source": [
    "e.  Mostrar por pantalla los nombres de las personas que iban en primera clase ordenadas alfabéticamente"
   ]
  },
  {
   "cell_type": "code",
   "execution_count": 30,
   "metadata": {},
   "outputs": [
    {
     "name": "stdout",
     "output_type": "stream",
     "text": [
      "730                      Allen, Miss. Elisabeth Walton\n",
      "305                     Allison, Master. Hudson Trevor\n",
      "297                       Allison, Miss. Helen Loraine\n",
      "498    Allison, Mrs. Hudson J C (Bessie Waldo Daniels)\n",
      "460                                Anderson, Mr. Harry\n",
      "                            ...                       \n",
      "155                        Williams, Mr. Charles Duane\n",
      "351             Williams-Lambert, Mr. Fletcher Fellows\n",
      "55                                   Woolner, Mr. Hugh\n",
      "555                                 Wright, Mr. George\n",
      "325                           Young, Miss. Marie Grice\n",
      "Name: Name, Length: 216, dtype: object\n"
     ]
    }
   ],
   "source": [
    "# Seleccionar las filas donde 'Pclass' es 1 y ordenar los nombres alfabéticamente\n",
    "nombres_primera_clase = df_titanic.loc[df_titanic['Pclass'] == 1, 'Name'].sort_values()\n",
    "\n",
    "# Mostrar los nombres\n",
    "print(nombres_primera_clase)"
   ]
  },
  {
   "cell_type": "markdown",
   "metadata": {},
   "source": [
    "f.  Mostrar   por   pantalla   el   porcentaje   de   personas   que sobrevivieron y murieron."
   ]
  },
  {
   "cell_type": "code",
   "execution_count": 36,
   "metadata": {},
   "outputs": [
    {
     "name": "stdout",
     "output_type": "stream",
     "text": [
      "Porcentaje de pasajeros que sobrevivieron 61 % y que murieron  38 %:\n"
     ]
    }
   ],
   "source": [
    "# Calcular el porcentaje de personas que sobrevivieron y murieron\n",
    "porcentaje_sobrevivientes = df_titanic['Survived'].value_counts(normalize=True) * 100\n",
    "\n",
    "# Mostrar el porcentaje\n",
    "print(f\"Porcentaje de pasajeros que sobrevivieron {int(porcentaje_sobrevivientes[0])} % y que murieron  {int(porcentaje_sobrevivientes[1])} %:\")"
   ]
  },
  {
   "cell_type": "markdown",
   "metadata": {},
   "source": [
    "g. Mostrar   por   pantalla   el   porcentaje   de   personas   que sobrevivieron en cada clase"
   ]
  },
  {
   "cell_type": "code",
   "execution_count": 38,
   "metadata": {},
   "outputs": [
    {
     "name": "stdout",
     "output_type": "stream",
     "text": [
      "Pclass\n",
      "1    62.962963\n",
      "2    47.282609\n",
      "3    24.236253\n",
      "Name: Survived, dtype: float64\n"
     ]
    }
   ],
   "source": [
    "# Calcular el porcentaje de personas que sobrevivieron en cada clase\n",
    "porcentaje_sobrevivientes_clase = df_titanic.groupby('Pclass')['Survived'].mean() * 100\n",
    "\n",
    "# Mostrar el porcentaje\n",
    "print(porcentaje_sobrevivientes_clase)"
   ]
  },
  {
   "cell_type": "markdown",
   "metadata": {},
   "source": [
    "h. Eliminar del DataFrame los pasajeros con edad desconocida."
   ]
  },
  {
   "cell_type": "code",
   "execution_count": 40,
   "metadata": {},
   "outputs": [
    {
     "name": "stdout",
     "output_type": "stream",
     "text": [
      "     PassengerId  Survived  Pclass  \\\n",
      "0              1         0       3   \n",
      "1              2         1       1   \n",
      "2              3         1       3   \n",
      "3              4         1       1   \n",
      "4              5         0       3   \n",
      "..           ...       ...     ...   \n",
      "120          121         0       2   \n",
      "122          123         0       2   \n",
      "123          124         1       2   \n",
      "124          125         0       1   \n",
      "125          126         1       3   \n",
      "\n",
      "                                                  Name     Sex   Age  SibSp  \\\n",
      "0                              Braund, Mr. Owen Harris    male  22.0      1   \n",
      "1    Cumings, Mrs. John Bradley (Florence Briggs Th...  female  38.0      1   \n",
      "2                               Heikkinen, Miss. Laina  female  26.0      0   \n",
      "3         Futrelle, Mrs. Jacques Heath (Lily May Peel)  female  35.0      1   \n",
      "4                             Allen, Mr. William Henry    male  35.0      0   \n",
      "..                                                 ...     ...   ...    ...   \n",
      "120                        Hickman, Mr. Stanley George    male  21.0      2   \n",
      "122                               Nasser, Mr. Nicholas    male  32.5      1   \n",
      "123                                Webber, Miss. Susan  female  32.5      0   \n",
      "124                        White, Mr. Percival Wayland    male  54.0      0   \n",
      "125                       Nicola-Yarred, Master. Elias    male  12.0      1   \n",
      "\n",
      "     Parch            Ticket     Fare Cabin Embarked  \n",
      "0        0         A/5 21171   7.2500   NaN        S  \n",
      "1        0          PC 17599  71.2833   C85        C  \n",
      "2        0  STON/O2. 3101282   7.9250   NaN        S  \n",
      "3        0            113803  53.1000  C123        S  \n",
      "4        0            373450   8.0500   NaN        S  \n",
      "..     ...               ...      ...   ...      ...  \n",
      "120      0      S.O.C. 14879  73.5000   NaN        S  \n",
      "122      0            237736  30.0708   NaN        C  \n",
      "123      0             27267  13.0000  E101        S  \n",
      "124      1             35281  77.2875   D26        S  \n",
      "125      0              2651  11.2417   NaN        C  \n",
      "\n",
      "[100 rows x 12 columns]\n"
     ]
    }
   ],
   "source": [
    "# Eliminar los pasajeros con edad desconocida\n",
    "df_titanic_sin_edad_desconocida = df_titanic.dropna(subset=['Age'])\n",
    "\n",
    "# Mostrar el nuevo DataFrame\n",
    "print(df_titanic_sin_edad_desconocida)"
   ]
  },
  {
   "cell_type": "markdown",
   "metadata": {},
   "source": [
    "i.   Mostrar por pantalla la edad media de las mujeres que viajaban en cada clase"
   ]
  },
  {
   "cell_type": "code",
   "execution_count": 42,
   "metadata": {},
   "outputs": [
    {
     "name": "stdout",
     "output_type": "stream",
     "text": [
      "Pclass\n",
      "1    35\n",
      "2    29\n",
      "3    22\n",
      "Name: Age, dtype: int32\n"
     ]
    }
   ],
   "source": [
    "# Seleccionar las filas donde 'Sex' es 'female' y calcular la edad media en cada clase\n",
    "edad_media_mujeres = df_titanic[df_titanic['Sex'] == 'female'].groupby('Pclass')['Age'].mean()\n",
    "\n",
    "# Redondear a 0 decimales y convertir a int\n",
    "edad_media_mujeres = edad_media_mujeres.round(0).astype(int)\n",
    "\n",
    "# Mostrar la edad media\n",
    "print(edad_media_mujeres)"
   ]
  },
  {
   "cell_type": "markdown",
   "metadata": {},
   "source": [
    "j.   Añadir una nueva columna booleana para ver si el pasajero era menor de edad o no."
   ]
  },
  {
   "cell_type": "code",
   "execution_count": 43,
   "metadata": {},
   "outputs": [
    {
     "name": "stdout",
     "output_type": "stream",
     "text": [
      "     PassengerId  Survived  Pclass  \\\n",
      "0              1         0       3   \n",
      "1              2         1       1   \n",
      "2              3         1       3   \n",
      "3              4         1       1   \n",
      "4              5         0       3   \n",
      "..           ...       ...     ...   \n",
      "886          887         0       2   \n",
      "887          888         1       1   \n",
      "888          889         0       3   \n",
      "889          890         1       1   \n",
      "890          891         0       3   \n",
      "\n",
      "                                                  Name     Sex   Age  SibSp  \\\n",
      "0                              Braund, Mr. Owen Harris    male  22.0      1   \n",
      "1    Cumings, Mrs. John Bradley (Florence Briggs Th...  female  38.0      1   \n",
      "2                               Heikkinen, Miss. Laina  female  26.0      0   \n",
      "3         Futrelle, Mrs. Jacques Heath (Lily May Peel)  female  35.0      1   \n",
      "4                             Allen, Mr. William Henry    male  35.0      0   \n",
      "..                                                 ...     ...   ...    ...   \n",
      "886                              Montvila, Rev. Juozas    male  27.0      0   \n",
      "887                       Graham, Miss. Margaret Edith  female  19.0      0   \n",
      "888           Johnston, Miss. Catherine Helen \"Carrie\"  female   NaN      1   \n",
      "889                              Behr, Mr. Karl Howell    male  26.0      0   \n",
      "890                                Dooley, Mr. Patrick    male  32.0      0   \n",
      "\n",
      "     Parch            Ticket     Fare Cabin Embarked  Menor_de_edad  \n",
      "0        0         A/5 21171   7.2500   NaN        S          False  \n",
      "1        0          PC 17599  71.2833   C85        C          False  \n",
      "2        0  STON/O2. 3101282   7.9250   NaN        S          False  \n",
      "3        0            113803  53.1000  C123        S          False  \n",
      "4        0            373450   8.0500   NaN        S          False  \n",
      "..     ...               ...      ...   ...      ...            ...  \n",
      "886      0            211536  13.0000   NaN        S          False  \n",
      "887      0            112053  30.0000   B42        S          False  \n",
      "888      2        W./C. 6607  23.4500   NaN        S          False  \n",
      "889      0            111369  30.0000  C148        C          False  \n",
      "890      0            370376   7.7500   NaN        Q          False  \n",
      "\n",
      "[891 rows x 13 columns]\n"
     ]
    }
   ],
   "source": [
    "# Añadir una nueva columna 'Menor_de_edad' que es True si 'Age' es menor que 18 y False en caso contrario\n",
    "df_titanic['Menor_de_edad'] = df_titanic['Age'].apply(lambda x: True if x < 18 else False)\n",
    "\n",
    "# Mostrar el DataFrame\n",
    "print(df_titanic)"
   ]
  },
  {
   "cell_type": "markdown",
   "metadata": {},
   "source": [
    "k.  Mostrar por pantalla el porcentaje de menores y mayores de edad que sobrevivieron en cada clase."
   ]
  },
  {
   "cell_type": "code",
   "execution_count": 44,
   "metadata": {},
   "outputs": [
    {
     "name": "stdout",
     "output_type": "stream",
     "text": [
      "Pclass  Menor_de_edad\n",
      "1       False            61.274510\n",
      "        True             91.666667\n",
      "2       False            40.993789\n",
      "        True             91.304348\n",
      "3       False            21.791768\n",
      "        True             37.179487\n",
      "Name: Survived, dtype: float64\n"
     ]
    }
   ],
   "source": [
    "# Calcular el porcentaje de menores y mayores de edad que sobrevivieron en cada clase\n",
    "porcentaje_sobrevivientes_edad = df_titanic.groupby(['Pclass', 'Menor_de_edad'])['Survived'].mean() * 100\n",
    "\n",
    "# Mostrar el porcentaje\n",
    "print(porcentaje_sobrevivientes_edad)"
   ]
  }
 ],
 "metadata": {
  "kernelspec": {
   "display_name": "Python 3",
   "language": "python",
   "name": "python3"
  },
  "language_info": {
   "codemirror_mode": {
    "name": "ipython",
    "version": 3
   },
   "file_extension": ".py",
   "mimetype": "text/x-python",
   "name": "python",
   "nbconvert_exporter": "python",
   "pygments_lexer": "ipython3",
   "version": "3.12.2"
  }
 },
 "nbformat": 4,
 "nbformat_minor": 2
}
