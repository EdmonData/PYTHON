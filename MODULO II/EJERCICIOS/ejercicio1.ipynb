{
 "cells": [
  {
   "cell_type": "markdown",
   "metadata": {},
   "source": [
    "a) Escriba una función separanum(valor), que reciba un valor numérico real  y  separe  las  cantidades  en  un  vector  que  contiene: centavos, unidades, decenas, centenas,  etc.  Los centavos equivalen  a usar dos decimales redondeado al entero más cercano. Desarrolle el algoritmo usando operaciones de cociente y residuo (no use round())\n",
    "SIN NUMPY"
   ]
  },
  {
   "cell_type": "code",
   "execution_count": 1,
   "metadata": {},
   "outputs": [
    {
     "name": "stdout",
     "output_type": "stream",
     "text": [
      "Centavos: 0, Unidades: 9, Decenas: 8, Centenas: 5\n"
     ]
    }
   ],
   "source": [
    "\n",
    "#creamos la función separanum que recibe un valor y hace el llamado a la funcion separanum\n",
    "def solicitar_datos_y_separar():\n",
    "    try:\n",
    "        valor = float(input(\"Ingrese un valor numérico real: \"))\n",
    "        resultado = separanum(valor)\n",
    "        print(f\"Centavos: {resultado[0]}, Unidades: {resultado[1]}, Decenas: {resultado[2]}, Centenas: {resultado[3]}\")\n",
    "    except ValueError:\n",
    "        print(\"Por favor, ingrese un número válido.\")\n",
    "\n",
    "# Función que separa un número en centavos, unidades, decenas, centenas, etc.\n",
    "def separanum(valor):\n",
    "    resultado = []\n",
    "    centavos = int(valor * 100) % 100\n",
    "    resultado.append(centavos)\n",
    "    unidades = int(valor) % 10\n",
    "    resultado.append(unidades)\n",
    "    decenas = int(valor / 10) % 10\n",
    "    resultado.append(decenas)\n",
    "    centenas = int(valor / 100) % 10\n",
    "    resultado.append(centenas)\n",
    "    # Continuar este proceso para miles, decenas de miles, etc. si es necesario\n",
    "    return resultado\n",
    "\n",
    "solicitar_datos_y_separar()"
   ]
  },
  {
   "cell_type": "markdown",
   "metadata": {},
   "source": [
    "es el ejercicio a) pero usando numpy"
   ]
  },
  {
   "cell_type": "code",
   "execution_count": 2,
   "metadata": {},
   "outputs": [
    {
     "name": "stdout",
     "output_type": "stream",
     "text": [
      "Centavos: 16.0, Unidades: 5.0, Decenas: 3.0, Centenas: 9.0\n"
     ]
    }
   ],
   "source": [
    "import numpy as np\n",
    "\n",
    "# Creamos la función que solicita los datos y separa el número\n",
    "def solicitar_datos_y_separar():\n",
    "    while True:\n",
    "        try:\n",
    "            valor = float(input(\"Ingrese un valor numérico real: \"))\n",
    "            resultado = separanum(valor)\n",
    "            print(f\"Centavos: {resultado[0]}, Unidades: {resultado[1]}, Decenas: {resultado[2]}, Centenas: {resultado[3]}\")\n",
    "            break\n",
    "        except ValueError:\n",
    "            print(\"Por favor, ingrese un número válido.\")\n",
    "\n",
    "def separanum(valor):\n",
    "    resultado = []\n",
    "    valor *= 100  # Convertir a centavos\n",
    "    centavos = np.mod(valor, 100)\n",
    "    resultado.append(centavos)\n",
    "    valor = np.floor(valor / 100)  # Pasar a unidades\n",
    "    unidades = np.mod(valor, 10)\n",
    "    resultado.append(unidades)\n",
    "    valor = np.floor(valor / 10)  # Pasar a decenas\n",
    "    decenas = np.mod(valor, 10)\n",
    "    resultado.append(decenas)\n",
    "    valor = np.floor(valor / 10)  # Pasar a centenas\n",
    "    centenas = np.mod(valor, 10)\n",
    "    resultado.append(centenas)\n",
    "    # Continuar este proceso para miles, decenas de miles, etc. si es necesario\n",
    "    return np.array(resultado)\n",
    "\n",
    "solicitar_datos_y_separar()"
   ]
  },
  {
   "cell_type": "markdown",
   "metadata": {},
   "source": [
    "b) Realice una función cuantasmonedas(centavos) que reciba la cantidad de centavos a entregar con monedas de 1, 5, 10, 25, 50 centavos usado la menor cantidad de monedas."
   ]
  },
  {
   "cell_type": "code",
   "execution_count": 4,
   "metadata": {},
   "outputs": [
    {
     "name": "stdout",
     "output_type": "stream",
     "text": [
      "Monedas de 1 centavos: 3\n",
      "Monedas de 5 centavos: 0\n",
      "Monedas de 10 centavos: 1\n",
      "Monedas de 25 centavos: 0\n",
      "Monedas de 50 centavos: 1\n"
     ]
    }
   ],
   "source": [
    "import numpy as np\n",
    "\n",
    "# Creamos la función que calcula la cantidad de monedas necesarias\n",
    "def cuantasmonedas(centavos):\n",
    "    monedas = np.array([1, 5, 10, 25, 50])\n",
    "    contadores = {moneda: 0 for moneda in monedas}\n",
    "\n",
    "    for i in range(len(monedas)-1, -1, -1):\n",
    "        while centavos >= monedas[i]:\n",
    "            contadores[monedas[i]] += 1\n",
    "            centavos -= monedas[i]\n",
    "\n",
    "    return contadores\n",
    "\n",
    "# Solicitamos la cantidad de centavos al usuario\n",
    "while True:\n",
    "    entrada = input(\"Ingrese la cantidad de centavos: \")\n",
    "    try:\n",
    "        centavos = int(entrada)\n",
    "        if centavos < 0:\n",
    "            raise ValueError\n",
    "        resultado = cuantasmonedas(centavos)\n",
    "        for moneda, cantidad in resultado.items():\n",
    "            print(f\"Monedas de {moneda} centavos: {cantidad}\")\n",
    "        break\n",
    "    except ValueError:\n",
    "        print(\"Entrada inválida. Por favor, ingrese un número entero positivo.\")"
   ]
  },
  {
   "cell_type": "markdown",
   "metadata": {},
   "source": [
    "c). Realice un programa que permita crear un calendario de un mes cualquiera, conociendo el día de la semana que inicia el mes y el número de días que tiene el mes \n",
    "*** ingresar dia de la semana con nombre (ej. \"Lunes , Martes, Miercoles...etc)\n"
   ]
  },
  {
   "cell_type": "code",
   "execution_count": 8,
   "metadata": {},
   "outputs": [
    {
     "name": "stdout",
     "output_type": "stream",
     "text": [
      "Dia de inicios de mes: Martes \n",
      "  dias del mes : 30\n",
      "[[ 0  1  2  3  4  5  6]\n",
      " [ 7  8  9 10 11 12 13]\n",
      " [14 15 16 17 18 19 20]\n",
      " [21 22 23 24 25 26 27]\n",
      " [28 29 30  0  0  0  0]\n",
      " [ 0  0  0  0  0  0  0]]\n"
     ]
    }
   ],
   "source": [
    "import numpy as np\n",
    "\n",
    "# definimos los dias de la semana\n",
    "dias_semana = {\"Lunes\": 0, \"Martes\": 1, \"Miercoles\": 2, \"Jueves\": 3, \"Viernes\": 4, \"Sabado\": 5, \"Domingo\": 6}\n",
    "\n",
    "# solicitamos los datos al usuario\n",
    "dia_inicio = input(\"Ingrese el día de la semana que inicia el mes Ejemplo Lunes , Martes ...: \")\n",
    "num_dias = int(input(\"Ingrese el número de días que tiene el mes: \"))\n",
    "\n",
    "# creamos un arreglo de 42 elementos para representar el calendario\n",
    "calendario = np.zeros(42, dtype=int)\n",
    "\n",
    "# calculamos la posición de inicio y llenamos los días del mes\n",
    "inicio = dias_semana[dia_inicio]\n",
    "calendario[inicio:inicio+num_dias] = np.arange(1, num_dias+1)\n",
    "\n",
    "# redimensionamos el arreglo a una matriz de 6x7\n",
    "calendario = calendario.reshape(6, 7)\n",
    "print(f'Dia de inicios de mes: {dia_inicio} \\n  dias del mes : {num_dias}')\n",
    "print(calendario)"
   ]
  }
 ],
 "metadata": {
  "kernelspec": {
   "display_name": "Python 3",
   "language": "python",
   "name": "python3"
  },
  "language_info": {
   "codemirror_mode": {
    "name": "ipython",
    "version": 3
   },
   "file_extension": ".py",
   "mimetype": "text/x-python",
   "name": "python",
   "nbconvert_exporter": "python",
   "pygments_lexer": "ipython3",
   "version": "3.12.2"
  }
 },
 "nbformat": 4,
 "nbformat_minor": 2
}
