{
 "cells": [
  {
   "cell_type": "markdown",
   "metadata": {},
   "source": []
  },
  {
   "cell_type": "code",
   "execution_count": 1,
   "metadata": {},
   "outputs": [],
   "source": [
    "import pandas as pd\n",
    "\n",
    "\n",
    "# Definir las rutas de los archivos\n",
    "ruta_clientes = './datos/clientes.csv'\n",
    "ruta_productos = './datos/productos.csv'\n",
    "ruta_boletas = './datos/boletas.csv'\n",
    "ruta_detalle = './datos/detalle.csv'\n",
    "\n",
    "# Cargar los datos en DataFrames\n",
    "df_clientes = pd.read_csv(ruta_clientes)\n",
    "df_productos = pd.read_csv(ruta_productos)\n",
    "df_boletas = pd.read_csv(ruta_boletas)\n",
    "df_detalle = pd.read_csv(ruta_detalle)"
   ]
  },
  {
   "cell_type": "markdown",
   "metadata": {},
   "source": [
    "1. Para  nuestros  datos  de  supermercado, crear  una  lista  de  los clientes, con el gasto hecho en compras de cada uno. Si no ha comprado, debe aparecer con un 0"
   ]
  },
  {
   "cell_type": "code",
   "execution_count": 2,
   "metadata": {},
   "outputs": [
    {
     "name": "stdout",
     "output_type": "stream",
     "text": [
      "           rut             nombre                direccion        comuna  \\\n",
      "0   11223344-4      Tomás Ramírez                      NaN         Arica   \n",
      "1   11223344-5        Laura Rojas        Calle Virtual 567   Antofagasta   \n",
      "2   12345678-9         Juan Perez          Calle Falsa 123      Santiago   \n",
      "3   23456789-1    Pedro Rodríguez                      NaN    Valparaíso   \n",
      "4   33445566-5      Camila Torres    Calle Cibernética 456           NaN   \n",
      "5   33445566-7         Mateo Diaz                      NaN  Viña del Mar   \n",
      "6   34567890-2     Carla González      Calle Inventada 789           NaN   \n",
      "7   45678901-3     Diego Martínez       Avenida Irreal 987     La Serena   \n",
      "8   55667788-6      Matias Castro   Avenida Innovación 321           NaN   \n",
      "9   55667788-9  Valentina Herrera  Avenida Tecnológica 123           NaN   \n",
      "10  56789012-4          Ana Lopez                      NaN           NaN   \n",
      "11  67890123-5    Luisa Fernández       Calle Ficticia 321      Rancagua   \n",
      "12  77889900-1       Martin Gómez                      NaN       Iquique   \n",
      "13  77889900-7      Renata Flores                      NaN       Copiapó   \n",
      "14  78901234-6      Javier Torres   Avenida de Ensueño 654        Temuco   \n",
      "15  87654321-0      Maria Sánchez   Avenida Imaginaria 456    Concepción   \n",
      "16  89012345-7      Marta Ramírez         Calle Soñada 210           NaN   \n",
      "17  90123456-8       Daniel Silva                      NaN  Puerto Montt   \n",
      "18  99001122-3        Sofía Pérez        Calle Digital 789           NaN   \n",
      "19  99001122-8       Nicolás Ruiz   Calle Programación 210           NaN   \n",
      "\n",
      "   fecha_nacimiento     telefono                  email rut_cliente     gasto  \n",
      "0        1994-12-31          NaN      tomas@example.com         NaN       0.0  \n",
      "1        1998-07-12  945678321.0      laura@example.com  11223344-5   98500.0  \n",
      "2        2000-05-15  912345678.0       juan@example.com  12345678-9  133500.0  \n",
      "3        1988-03-10  912345678.0      pedro@example.com  23456789-1  286200.0  \n",
      "4        1993-02-14  977894512.0     camila@example.com         NaN       0.0  \n",
      "5        2002-02-28  967894512.0      mateo@example.com  33445566-7   35000.0  \n",
      "6        1999-12-05  934567890.0      carla@example.com  34567890-2   14000.0  \n",
      "7               NaN          NaN      diego@example.com  45678901-3    3600.0  \n",
      "8        1992-06-08  923478965.0                    NaN         NaN       0.0  \n",
      "9        1997-04-05  923478965.0  valentina@example.com  55667788-9  121900.0  \n",
      "10       1990-08-18  978901234.0        ana@example.com  56789012-4   14000.0  \n",
      "11       2005-04-25          NaN      luisa@example.com  67890123-5  108500.0  \n",
      "12       1996-10-17  955678902.0     martin@example.com  77889900-1   32600.0  \n",
      "13              NaN          NaN     renata@example.com         NaN       0.0  \n",
      "14       1985-11-30  923456789.0                    NaN  78901234-6   10000.0  \n",
      "15       1995-10-20  987654321.0      maria@example.com  87654321-0    8000.0  \n",
      "16              NaN          NaN                    NaN  89012345-7   13000.0  \n",
      "17              NaN          NaN                    NaN  90123456-8   10500.0  \n",
      "18       2001-09-22  912345672.0      sofia@example.com  99001122-3   33800.0  \n",
      "19       2003-11-03  955678902.0    nicolas@example.com         NaN       0.0  \n"
     ]
    }
   ],
   "source": [
    "# Unir los DataFrames\n",
    "df_compras = pd.merge(df_boletas, df_detalle, left_on='numero', right_on='numero_boleta')\n",
    "\n",
    "# Necesitamos también los precios de los productos para calcular el gasto total\n",
    "df_compras = pd.merge(df_compras, df_productos, left_on='codigo_producto', right_on='codigo')\n",
    "\n",
    "# Calcular el gasto de cada cliente\n",
    "df_compras['gasto'] = df_compras['cantidad'] * df_compras['precio']\n",
    "gasto_por_cliente = df_compras.groupby('rut_cliente')['gasto'].sum()\n",
    "\n",
    "# Convertir la serie a DataFrame\n",
    "gasto_por_cliente = gasto_por_cliente.reset_index()\n",
    "\n",
    "# Unir con el DataFrame de clientes para incluir a los que no han hecho compras\n",
    "df_clientes_gasto = pd.merge(df_clientes, gasto_por_cliente, left_on='rut', right_on='rut_cliente', how='left')\n",
    "\n",
    "# Reemplazar los NaN por 0\n",
    "df_clientes_gasto['gasto'] = df_clientes_gasto['gasto'].fillna(0)\n",
    "\n",
    "# Mostrar el DataFrame\n",
    "print(df_clientes_gasto)"
   ]
  },
  {
   "cell_type": "markdown",
   "metadata": {},
   "source": [
    "2. Crea un DataFrame con datos de ventas por producto y región. Utiliza multi-índices para representar la información por año y trimestre. Luego, calcula la suma de ventas por trimestre para cada producto."
   ]
  },
  {
   "cell_type": "code",
   "execution_count": 3,
   "metadata": {},
   "outputs": [
    {
     "name": "stdout",
     "output_type": "stream",
     "text": [
      "nombre_producto   comuna        Año   Trimestre\n",
      "Aceite de cocina  Santiago      2023  4             6\n",
      "Agua mineral      Iquique       2023  4             3\n",
      "                  La Serena     2023  4             3\n",
      "Arroz             Santiago      2023  4             9\n",
      "Azúcar            Iquique       2023  4             7\n",
      "                  Puerto Montt  2023  4             3\n",
      "                  Santiago      2023  4             2\n",
      "Café              Antofagasta   2023  4             4\n",
      "                  Valparaíso    2023  4             8\n",
      "Fideos            Antofagasta   2023  4             5\n",
      "                  Concepción    2023  4             5\n",
      "Galletas          Antofagasta   2023  4             7\n",
      "Harina            Antofagasta   2023  4             1\n",
      "                  Concepción    2023  4             1\n",
      "                  Iquique       2023  4             3\n",
      "                  Santiago      2023  4             2\n",
      "Helado            Antofagasta   2023  4             4\n",
      "                  Temuco        2023  4             4\n",
      "                  Viña del Mar  2023  4             2\n",
      "Leche             Puerto Montt  2023  4             1\n",
      "                  Santiago      2023  4             1\n",
      "Mantequilla       Valparaíso    2023  4             4\n",
      "Pescado           Antofagasta   2023  4             4\n",
      "                  Rancagua      2023  4             9\n",
      "                  Valparaíso    2023  4            20\n",
      "Queso             Viña del Mar  2023  4             5\n",
      "Verduras          Iquique       2023  4             1\n",
      "                  Rancagua      2023  4             5\n",
      "                  Valparaíso    2023  4            10\n",
      "Name: cantidad, dtype: int64\n"
     ]
    }
   ],
   "source": [
    "import pandas as pd\n",
    "\n",
    "# Cambiar el nombre de la columna 'nombre' en df_productos y df_clientes\n",
    "df_productos.rename(columns={'nombre': 'nombre_producto'}, inplace=True)\n",
    "df_clientes.rename(columns={'nombre': 'nombre_cliente'}, inplace=True)\n",
    "\n",
    "# Unir los DataFrames\n",
    "df_ventas = pd.merge(df_boletas, df_detalle, left_on='numero', right_on='numero_boleta')\n",
    "df_ventas = pd.merge(df_ventas, df_productos, left_on='codigo_producto', right_on='codigo')\n",
    "df_ventas = pd.merge(df_ventas, df_clientes, left_on='rut_cliente', right_on='rut')\n",
    "\n",
    "# Extraer el año y el trimestre de la fecha\n",
    "df_ventas['fecha'] = pd.to_datetime(df_ventas['fecha'])\n",
    "df_ventas['Año'] = df_ventas['fecha'].dt.year\n",
    "df_ventas['Trimestre'] = df_ventas['fecha'].dt.quarter\n",
    "\n",
    "# Crear un multi-índice con el producto, la región (comuna), el año y el trimestre\n",
    "df_ventas.set_index(['nombre_producto', 'comuna', 'Año', 'Trimestre'], inplace=True)\n",
    "\n",
    "# Calcular la suma de ventas por trimestre para cada producto en cada región\n",
    "ventas_por_trimestre = df_ventas.groupby(level=['nombre_producto', 'comuna', 'Año', 'Trimestre'])['cantidad'].sum()\n",
    "\n",
    "# Mostrar el resultado\n",
    "print(ventas_por_trimestre)"
   ]
  },
  {
   "cell_type": "markdown",
   "metadata": {},
   "source": [
    "3. Tienes dos DataFrames: uno con información de clientes (ID, nombre, dirección) y otro con sus pedidos (ID del cliente, producto, cantidad). Realiza una combinación de datos para obtener un DataFrame que muestre el nombre del cliente, su dirección y los productos pedidos por cada cliente."
   ]
  },
  {
   "cell_type": "code",
   "execution_count": 4,
   "metadata": {},
   "outputs": [
    {
     "name": "stdout",
     "output_type": "stream",
     "text": [
      "       nombre_cliente                direccion   nombre_producto  cantidad\n",
      "0         Laura Rojas        Calle Virtual 567              Café         4\n",
      "1         Laura Rojas        Calle Virtual 567          Galletas         7\n",
      "2         Laura Rojas        Calle Virtual 567           Pescado         4\n",
      "3         Laura Rojas        Calle Virtual 567            Helado         4\n",
      "4         Laura Rojas        Calle Virtual 567            Fideos         5\n",
      "5         Laura Rojas        Calle Virtual 567            Harina         1\n",
      "6          Juan Perez          Calle Falsa 123             Arroz         3\n",
      "7          Juan Perez          Calle Falsa 123  Aceite de cocina         6\n",
      "8          Juan Perez          Calle Falsa 123            Azúcar         2\n",
      "9          Juan Perez          Calle Falsa 123             Arroz         6\n",
      "10         Juan Perez          Calle Falsa 123            Harina         2\n",
      "11         Juan Perez          Calle Falsa 123             Leche         1\n",
      "12    Pedro Rodríguez                      NaN              Café         8\n",
      "13    Pedro Rodríguez                      NaN       Mantequilla         4\n",
      "14    Pedro Rodríguez                      NaN          Verduras        10\n",
      "15    Pedro Rodríguez                      NaN           Pescado        20\n",
      "16         Mateo Diaz                      NaN             Queso         5\n",
      "17         Mateo Diaz                      NaN            Helado         2\n",
      "18     Carla González      Calle Inventada 789             Yogur         7\n",
      "19     Diego Martínez       Avenida Irreal 987      Agua mineral         3\n",
      "20  Valentina Herrera  Avenida Tecnológica 123             Yogur         8\n",
      "21  Valentina Herrera  Avenida Tecnológica 123             Arroz         9\n",
      "22  Valentina Herrera  Avenida Tecnológica 123            Fideos         2\n",
      "23  Valentina Herrera  Avenida Tecnológica 123  Aceite de cocina         5\n",
      "24          Ana Lopez                      NaN    Frutas frescas         2\n",
      "25    Luisa Fernández       Calle Ficticia 321          Verduras         5\n",
      "26    Luisa Fernández       Calle Ficticia 321           Pescado         9\n",
      "27       Martin Gómez                      NaN      Agua mineral         3\n",
      "28       Martin Gómez                      NaN          Verduras         1\n",
      "29       Martin Gómez                      NaN            Harina         3\n",
      "30       Martin Gómez                      NaN            Azúcar         7\n",
      "31      Javier Torres   Avenida de Ensueño 654            Helado         4\n",
      "32      Maria Sánchez   Avenida Imaginaria 456            Fideos         5\n",
      "33      Maria Sánchez   Avenida Imaginaria 456            Harina         1\n",
      "34      Marta Ramírez         Calle Soñada 210             Arroz         6\n",
      "35      Marta Ramírez         Calle Soñada 210            Harina         2\n",
      "36       Daniel Silva                      NaN             Leche         1\n",
      "37       Daniel Silva                      NaN            Azúcar         3\n",
      "38        Sofía Pérez        Calle Digital 789    Carne de pollo         6\n",
      "39        Sofía Pérez        Calle Digital 789              Café         1\n"
     ]
    }
   ],
   "source": [
    "import pandas as pd\n",
    "\n",
    "# Primero, combina df_boletas y df_detalle\n",
    "df_boletas_detalle = pd.merge(df_boletas, df_detalle, left_on='numero', right_on='numero_boleta')\n",
    "\n",
    "# Luego, combina el resultado con df_productos\n",
    "df_boletas_detalle_productos = pd.merge(df_boletas_detalle, df_productos, left_on='codigo_producto', right_on='codigo')\n",
    "\n",
    "# Finalmente, combina el resultado con df_clientes\n",
    "df_combinado = pd.merge(df_clientes, df_boletas_detalle_productos, left_on='rut', right_on='rut_cliente')\n",
    "\n",
    "\n",
    "# Puedes seleccionar solo las columnas que necesitas\n",
    "df_combinado = df_combinado[['nombre_cliente', 'direccion', 'nombre_producto', 'cantidad']]\n",
    "\n",
    "#verificamos las columnas\n",
    "#print(\"Columnas en df_combinado:\", df_combinado.columns)\n",
    "\n",
    "# Mostrar el resultado\n",
    "print(df_combinado)"
   ]
  },
  {
   "cell_type": "markdown",
   "metadata": {},
   "source": [
    " 4. Para una tarde de bingo se usarán tablas generadas con las siguientes reglas:\n",
    "•      Los 5 números en cada columna son aleatorios ordenados no repetidos de acuerdo al rango asignado por columna.\n",
    "•      La casilla central de la tabla tiene valor marcado cero o ‘libre’. Realice un programa para generar una tabla de bingo"
   ]
  },
  {
   "cell_type": "code",
   "execution_count": 5,
   "metadata": {},
   "outputs": [
    {
     "name": "stdout",
     "output_type": "stream",
     "text": [
      "    B   I      N   G   O\n",
      "0   2  16     31  46  61\n",
      "1   5  22     36  48  62\n",
      "2   7  24  libre  50  72\n",
      "3   9  25     43  56  73\n",
      "4  10  30     45  58  74\n"
     ]
    }
   ],
   "source": [
    "import numpy as np\n",
    "import pandas as pd\n",
    "\n",
    "# Definir los rangos para cada columna\n",
    "rangos = [(1, 15), (16, 30), (31, 45), (46, 60), (61, 75)]\n",
    "\n",
    "# Crear una lista vacía para almacenar las columnas\n",
    "columnas = []\n",
    "\n",
    "# Para cada rango\n",
    "for rango in rangos:\n",
    "    # Generar 5 números aleatorios no repetidos y ordenarlos\n",
    "    numeros = np.random.choice(range(rango[0], rango[1] + 1), size=5, replace=False)\n",
    "    numeros.sort()\n",
    "    # Añadir los números a las columnas\n",
    "    columnas.append(numeros)\n",
    "\n",
    "# Crear la tabla de bingo como un DataFrame de strings\n",
    "tabla_bingo = pd.DataFrame(columnas, dtype=str).transpose()\n",
    "\n",
    "# Asignar los encabezados de las columnas\n",
    "tabla_bingo.columns = ['B', 'I', 'N', 'G', 'O']\n",
    "\n",
    "# Marcar la casilla central como 'libre'\n",
    "tabla_bingo.iloc[2, 2] = 'libre'\n",
    "\n",
    "# Mostrar la tabla de bingo\n",
    "print(tabla_bingo)"
   ]
  }
 ],
 "metadata": {
  "kernelspec": {
   "display_name": "Python 3",
   "language": "python",
   "name": "python3"
  },
  "language_info": {
   "codemirror_mode": {
    "name": "ipython",
    "version": 3
   },
   "file_extension": ".py",
   "mimetype": "text/x-python",
   "name": "python",
   "nbconvert_exporter": "python",
   "pygments_lexer": "ipython3",
   "version": "3.12.2"
  }
 },
 "nbformat": 4,
 "nbformat_minor": 2
}
