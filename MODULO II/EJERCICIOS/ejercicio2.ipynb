{
 "cells": [
  {
   "cell_type": "markdown",
   "metadata": {},
   "source": [
    "1. Crea un programa donde el usuario debe ingresar las ventas en un periodo de años y aparezca en pantalla el conjunto de datos de ventas por año y al aplicarle un descuento del 15%. (Debe aparecer el antes y el después)\n",
    "*** escribir \"fin\" para detener el ingreso de años"
   ]
  },
  {
   "cell_type": "code",
   "execution_count": 2,
   "metadata": {},
   "outputs": [
    {
     "name": "stdout",
     "output_type": "stream",
     "text": [
      "    Año    Ventas  Ventas con descuento\n",
      "0  2010   63555.0              54021.75\n",
      "1  2021  487555.0             414421.75\n"
     ]
    }
   ],
   "source": [
    "import pandas as pd\n",
    "\n",
    "# Solicitar al usuario que ingrese las ventas\n",
    "ventas = {}\n",
    "while True:\n",
    "    año = input(\"Ingrese el año (o 'fin' para terminar): \")\n",
    "    if año == 'fin':\n",
    "        break\n",
    "    venta = float(input(f\"Ingrese las ventas para el año {año}: \"))\n",
    "    ventas[año] = venta\n",
    "\n",
    "# Crear un DataFrame con las ventas\n",
    "df = pd.DataFrame(list(ventas.items()), columns=['Año', 'Ventas'])\n",
    "\n",
    "# Calcular las ventas con un descuento del 15%\n",
    "df['Ventas con descuento'] = df['Ventas'] * 0.85\n",
    "\n",
    "# Mostrar el DataFrame\n",
    "print(df.head())"
   ]
  },
  {
   "cell_type": "markdown",
   "metadata": {},
   "source": [
    "2. Construya un programa que guarde un diccionario que contenga las notas del examen del curso de Análisis de Datos del presente año, y debe devolver la nota mínima, la nota máxima, la nota promedio y su desviación estándar.\n",
    "*** escribir \"fin\" para detener el ingreso de alumnos"
   ]
  },
  {
   "cell_type": "code",
   "execution_count": 5,
   "metadata": {},
   "outputs": [
    {
     "name": "stdout",
     "output_type": "stream",
     "text": [
      "Nota mínima: 3.0\n",
      "Nota máxima: 3.5\n",
      "Nota promedio: 3.25\n",
      "Desviación estándar: 0.3535533905932738\n",
      "        Nombre  Nota\n",
      "0      eduardo   3.0\n",
      "1  Marcelo 4.5   3.5\n"
     ]
    }
   ],
   "source": [
    "import pandas as pd\n",
    "\n",
    "# Solicitar al usuario que ingrese los nombres de los estudiantes y sus notas\n",
    "datos = []\n",
    "while True:\n",
    "    nombre = input(\"Ingrese el nombre del estudiante (o 'fin' para terminar): \")\n",
    "    if nombre == 'fin':\n",
    "        break\n",
    "    nota = float(input(f\"Ingrese la nota del examen para {nombre}: \"))\n",
    "    datos.append((nombre, nota))\n",
    "\n",
    "# Crear un DataFrame con los nombres de los estudiantes y sus notas\n",
    "df = pd.DataFrame(datos, columns=['Nombre', 'Nota'])\n",
    "\n",
    "# Calcular la nota mínima, la nota máxima, la nota promedio y la desviación estándar\n",
    "min_nota = df['Nota'].min()\n",
    "max_nota = df['Nota'].max()\n",
    "promedio_nota = df['Nota'].mean()\n",
    "std_nota = df['Nota'].std()\n",
    "\n",
    "# Mostrar los resultados\n",
    "print(f\"Nota mínima: {min_nota}\")\n",
    "print(f\"Nota máxima: {max_nota}\")\n",
    "print(f\"Nota promedio: {promedio_nota}\")\n",
    "print(f\"Desviación estándar: {std_nota}\")\n",
    "\n",
    "# Mostrar el DataFrame\n",
    "print(df.head())"
   ]
  },
  {
   "cell_type": "markdown",
   "metadata": {},
   "source": [
    "3.  Para el mismo pida al programa o función que entregue las notas de los alumnos que no reprobaron ordenadas de forma descendente con sus notas y nombres\n",
    "*** escribir \"fin\" para detener el ingreso de alumnos"
   ]
  },
  {
   "cell_type": "code",
   "execution_count": 6,
   "metadata": {},
   "outputs": [
    {
     "name": "stdout",
     "output_type": "stream",
     "text": [
      "Nota mínima: 3.0\n",
      "Nota máxima: 6.5\n",
      "Nota promedio: 4.833333333333333\n",
      "Desviación estándar: 1.755942292142123\n",
      "Todos los estudiantes:\n",
      "  Nombre  Nota\n",
      "0     Ed   5.0\n",
      "1     Lt   6.5\n",
      "2     Ma   3.0\n",
      "Estudiantes que reprueban:\n",
      "  Nombre  Nota\n",
      "2     Ma   3.0\n"
     ]
    }
   ],
   "source": [
    "import pandas as pd\n",
    "\n",
    "# Solicitar al usuario que ingrese los nombres de los estudiantes y sus notas\n",
    "datos = []\n",
    "while True:\n",
    "    nombre = input(\"Ingrese el nombre del estudiante (o 'fin' para terminar): \")\n",
    "    if nombre == 'fin':\n",
    "        break\n",
    "    nota = float(input(f\"Ingrese la nota del examen para {nombre}: \"))\n",
    "    datos.append((nombre, nota))\n",
    "\n",
    "# Crear un DataFrame con los nombres de los estudiantes y sus notas\n",
    "df = pd.DataFrame(datos, columns=['Nombre', 'Nota'])\n",
    "\n",
    "# Calcular la nota mínima, la nota máxima, la nota promedio y la desviación estándar\n",
    "min_nota = df['Nota'].min()\n",
    "max_nota = df['Nota'].max()\n",
    "promedio_nota = df['Nota'].mean()\n",
    "std_nota = df['Nota'].std()\n",
    "\n",
    "# Crear otro DataFrame con los estudiantes que reprueban\n",
    "df_reprueban = df[df['Nota'] < 4.0]\n",
    "\n",
    "# Mostrar los resultados\n",
    "print(f\"Nota mínima: {min_nota}\")\n",
    "print(f\"Nota máxima: {max_nota}\")\n",
    "print(f\"Nota promedio: {promedio_nota}\")\n",
    "print(f\"Desviación estándar: {std_nota}\")\n",
    "\n",
    "# Mostrar el DataFrame\n",
    "print(\"Todos los estudiantes:\")\n",
    "print(df.head())\n",
    "\n",
    "# Mostrar el DataFrame de los estudiantes que reprueban\n",
    "print(\"Estudiantes que reprueban:\")\n",
    "print(df_reprueban.head())"
   ]
  },
  {
   "cell_type": "markdown",
   "metadata": {},
   "source": [
    "4. Construya un programa que pregunte y guarde un Data Frame usando los datos de la tabla adjunta (no se trata de crear “a mano” el data frame).\n",
    "Mes     Ventas    Gastos\n",
    "Enero    30500   22000\n",
    "Febrero  35600   23400\n",
    "Marzo    28300   18100\n",
    "Abril    33900   20700"
   ]
  },
  {
   "cell_type": "code",
   "execution_count": 4,
   "metadata": {},
   "outputs": [
    {
     "name": "stdout",
     "output_type": "stream",
     "text": [
      "       Mes   Ventas   Gastos\n",
      "0    Enero  30500.0  22000.0\n",
      "1  Febrero  35600.0  23400.0\n",
      "2    Marzo  28300.0  18100.0\n",
      "3    Abril  33900.0  20700.0\n"
     ]
    }
   ],
   "source": [
    "import pandas as pd\n",
    "\n",
    "# Solicitar al usuario que ingrese los datos de ventas y gastos para cada mes\n",
    "datos = []\n",
    "meses = ['Enero', 'Febrero', 'Marzo', 'Abril']\n",
    "for mes in meses:\n",
    "    ventas = float(input(f\"Ingrese las ventas para {mes}: \"))\n",
    "    gastos = float(input(f\"Ingrese los gastos para {mes}: \"))\n",
    "    datos.append((mes, ventas, gastos))\n",
    "\n",
    "# Crear un DataFrame con los datos\n",
    "df = pd.DataFrame(datos, columns=['Mes', 'Ventas', 'Gastos'])\n",
    "\n",
    "# Mostrar el DataFrame\n",
    "print(df.head())"
   ]
  }
 ],
 "metadata": {
  "kernelspec": {
   "display_name": "Python 3",
   "language": "python",
   "name": "python3"
  },
  "language_info": {
   "codemirror_mode": {
    "name": "ipython",
    "version": 3
   },
   "file_extension": ".py",
   "mimetype": "text/x-python",
   "name": "python",
   "nbconvert_exporter": "python",
   "pygments_lexer": "ipython3",
   "version": "3.12.2"
  }
 },
 "nbformat": 4,
 "nbformat_minor": 2
}
