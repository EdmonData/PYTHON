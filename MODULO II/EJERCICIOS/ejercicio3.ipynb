{
 "cells": [
  {
   "cell_type": "markdown",
   "metadata": {},
   "source": [
    "a. Junto  a  este  archivo,  se  encuentran  los  archivos  csv  para clientes, productos, boletas y detalle. Cargue, los datos de los archivos en sus respectivas variables."
   ]
  },
  {
   "cell_type": "code",
   "execution_count": 2,
   "metadata": {},
   "outputs": [],
   "source": [
    "import pandas as pd\n",
    "\n",
    "\n",
    "# Definir las rutas de los archivos\n",
    "ruta_clientes = './datos/clientes.csv'\n",
    "ruta_productos = './datos/productos.csv'\n",
    "ruta_boletas = './datos/boletas.csv'\n",
    "ruta_detalle = './datos/detalle.csv'\n",
    "\n",
    "# Cargar los datos en DataFrames\n",
    "df_clientes = pd.read_csv(ruta_clientes)\n",
    "df_productos = pd.read_csv(ruta_productos)\n",
    "df_boletas = pd.read_csv(ruta_boletas)\n",
    "df_detalle = pd.read_csv(ruta_detalle)\n",
    "\n"
   ]
  },
  {
   "cell_type": "code",
   "execution_count": 3,
   "metadata": {},
   "outputs": [
    {
     "name": "stdout",
     "output_type": "stream",
     "text": [
      "          rut           nombre              direccion       comuna  \\\n",
      "0  11223344-4    Tomás Ramírez                    NaN        Arica   \n",
      "1  11223344-5      Laura Rojas      Calle Virtual 567  Antofagasta   \n",
      "2  12345678-9       Juan Perez        Calle Falsa 123     Santiago   \n",
      "3  23456789-1  Pedro Rodríguez                    NaN   Valparaíso   \n",
      "4  33445566-5    Camila Torres  Calle Cibernética 456          NaN   \n",
      "\n",
      "  fecha_nacimiento     telefono               email  \n",
      "0       1994-12-31          NaN   tomas@example.com  \n",
      "1       1998-07-12  945678321.0   laura@example.com  \n",
      "2       2000-05-15  912345678.0    juan@example.com  \n",
      "3       1988-03-10  912345678.0   pedro@example.com  \n",
      "4       1993-02-14  977894512.0  camila@example.com  \n"
     ]
    }
   ],
   "source": [
    "# Mostrar DataFrames\n",
    "print(df_clientes.head())"
   ]
  },
  {
   "cell_type": "code",
   "execution_count": 4,
   "metadata": {},
   "outputs": [
    {
     "name": "stdout",
     "output_type": "stream",
     "text": [
      "   codigo            nombre  precio\n",
      "0     101             Arroz    1500\n",
      "1     102            Fideos    1200\n",
      "2     103  Aceite de cocina   18000\n",
      "3     104            Harina    2000\n",
      "4     105             Leche    3000\n"
     ]
    }
   ],
   "source": [
    "# Mostrar DataFrames\n",
    "print(df_productos.head())"
   ]
  },
  {
   "cell_type": "code",
   "execution_count": 5,
   "metadata": {},
   "outputs": [
    {
     "name": "stdout",
     "output_type": "stream",
     "text": [
      "   numero       fecha rut_cliente\n",
      "0       1  2023-11-05  12345678-9\n",
      "1       2  2023-11-07  87654321-0\n",
      "2       3  2023-11-09  23456789-1\n",
      "3       4  2023-11-12  34567890-2\n",
      "4       5  2023-11-15  45678901-3\n"
     ]
    }
   ],
   "source": [
    "# Mostrar DataFrames\n",
    "print(df_boletas.head())"
   ]
  },
  {
   "cell_type": "code",
   "execution_count": 6,
   "metadata": {},
   "outputs": [
    {
     "name": "stdout",
     "output_type": "stream",
     "text": [
      "   numero_boleta  codigo_producto  cantidad\n",
      "0              1              101         3\n",
      "1              1              103         6\n",
      "2              1              106         2\n",
      "3              2              102         5\n",
      "4              2              104         1\n"
     ]
    }
   ],
   "source": [
    "# Mostrar DataFrames\n",
    "print(df_detalle.head())"
   ]
  },
  {
   "cell_type": "markdown",
   "metadata": {},
   "source": [
    "b. Ahora que tenemos los datos, podemos trabajar con ellos. Lo primero  que  haremos  será  calcular  las  edades.  Para  esto, agregue una nueva columna a los datos de los clientes, que calcule la edad a partir de su fecha de nacimiento."
   ]
  },
  {
   "cell_type": "code",
   "execution_count": 7,
   "metadata": {},
   "outputs": [
    {
     "name": "stdout",
     "output_type": "stream",
     "text": [
      "          rut           nombre              direccion       comuna  \\\n",
      "0  11223344-4    Tomás Ramírez                    NaN        Arica   \n",
      "1  11223344-5      Laura Rojas      Calle Virtual 567  Antofagasta   \n",
      "2  12345678-9       Juan Perez        Calle Falsa 123     Santiago   \n",
      "3  23456789-1  Pedro Rodríguez                    NaN   Valparaíso   \n",
      "4  33445566-5    Camila Torres  Calle Cibernética 456          NaN   \n",
      "\n",
      "  fecha_nacimiento     telefono               email  Edad  \n",
      "0       1994-12-31          NaN   tomas@example.com  30.0  \n",
      "1       1998-07-12  945678321.0   laura@example.com  26.0  \n",
      "2       2000-05-15  912345678.0    juan@example.com  24.0  \n",
      "3       1988-03-10  912345678.0   pedro@example.com  36.0  \n",
      "4       1993-02-14  977894512.0  camila@example.com  31.0  \n"
     ]
    }
   ],
   "source": [
    "from datetime import datetime\n",
    "\n",
    "# Asegurarse de que la fecha de nacimiento esté en formato datetime\n",
    "df_clientes['fecha_nacimiento'] = pd.to_datetime(df_clientes['fecha_nacimiento'], errors='coerce')\n",
    "\n",
    "# Calcular la edad y agregarla como una nueva columna\n",
    "df_clientes['Edad'] = datetime.now().year - df_clientes['fecha_nacimiento'].dt.year\n",
    "\n",
    "# Omitir los valores nulos en la fecha de nacimiento\n",
    "df_clientes.dropna(subset=['fecha_nacimiento'], inplace=True)\n",
    "\n",
    "# Llenar los valores nulos en la columna de edad con el promedio de edad\n",
    "df_clientes['Edad'] = df_clientes['Edad'].fillna(df_clientes['Edad'].mean())\n",
    "\n",
    "# Mostrar el DataFrame df_clientes con el nuevo campo Edad\n",
    "print(df_clientes.head())"
   ]
  },
  {
   "cell_type": "markdown",
   "metadata": {},
   "source": [
    "c.  Calcular el promedio de edad."
   ]
  },
  {
   "cell_type": "code",
   "execution_count": 8,
   "metadata": {},
   "outputs": [
    {
     "name": "stdout",
     "output_type": "stream",
     "text": [
      " El promedio de edad es: 27\n"
     ]
    }
   ],
   "source": [
    "\n",
    "# Calcular el promedio de edad\n",
    "promedio_edad = df_clientes['Edad'].mean()\n",
    "\n",
    "# Convertir promedio_edad a enteros\n",
    "promedio_edad = int(promedio_edad)\n",
    "\n",
    "# Mostrar el promedio de edad\n",
    "print(f' El promedio de edad es: {promedio_edad}')"
   ]
  },
  {
   "cell_type": "markdown",
   "metadata": {},
   "source": [
    "d. ¿Cuál es el cliente con la edad mayor?"
   ]
  },
  {
   "cell_type": "code",
   "execution_count": 9,
   "metadata": {},
   "outputs": [
    {
     "name": "stdout",
     "output_type": "stream",
     "text": [
      "rut                             78901234-6\n",
      "nombre                       Javier Torres\n",
      "direccion           Avenida de Ensueño 654\n",
      "comuna                              Temuco\n",
      "fecha_nacimiento       1985-11-30 00:00:00\n",
      "telefono                       923456789.0\n",
      "email                                  NaN\n",
      "Edad                                    39\n",
      "Name: 14, dtype: object\n"
     ]
    }
   ],
   "source": [
    "# Encontrar el índice del registro con la edad más alta\n",
    "indice_max_edad = df_clientes['Edad'].idxmax()\n",
    "\n",
    "# Convertir la edad a entero en el DataFrame original\n",
    "df_clientes['Edad'] = df_clientes['Edad'].astype(int)\n",
    "\n",
    "# Mostrar el registro con la edad más alta\n",
    "registro_max_edad = df_clientes.loc[indice_max_edad]\n",
    "\n",
    "\n",
    "\n",
    "print(registro_max_edad)"
   ]
  },
  {
   "cell_type": "markdown",
   "metadata": {},
   "source": [
    "e.  ¿Cuál es el menor?"
   ]
  },
  {
   "cell_type": "code",
   "execution_count": 10,
   "metadata": {},
   "outputs": [
    {
     "name": "stdout",
     "output_type": "stream",
     "text": [
      "rut                          67890123-5\n",
      "nombre                  Luisa Fernández\n",
      "direccion            Calle Ficticia 321\n",
      "comuna                         Rancagua\n",
      "fecha_nacimiento    2005-04-25 00:00:00\n",
      "telefono                            NaN\n",
      "email                 luisa@example.com\n",
      "Edad                                 19\n",
      "Name: 11, dtype: object\n"
     ]
    }
   ],
   "source": [
    "# Encontrar el índice del registro con la edad más baja\n",
    "indice_min_edad = df_clientes['Edad'].idxmin()\n",
    "\n",
    "# convertir la edad a entero\n",
    "df_clientes['Edad'] = df_clientes['Edad'].astype(int)\n",
    "\n",
    "# Mostrar el registro con la edad más baja\n",
    "registro_min_edad = df_clientes.loc[indice_min_edad]\n",
    "\n",
    "print(registro_min_edad)"
   ]
  },
  {
   "cell_type": "markdown",
   "metadata": {},
   "source": [
    "f.  Buscar cuantas boletas tiene cada cliente, fusionar clientes con boletas a través del rut."
   ]
  },
  {
   "cell_type": "code",
   "execution_count": 11,
   "metadata": {},
   "outputs": [
    {
     "name": "stdout",
     "output_type": "stream",
     "text": [
      "           rut             nombre  numero  total_boletas\n",
      "0   11223344-4      Tomás Ramírez     NaN            0.0\n",
      "1   11223344-5        Laura Rojas    11.0            4.0\n",
      "2   11223344-5        Laura Rojas    16.0            4.0\n",
      "3   11223344-5        Laura Rojas    21.0            4.0\n",
      "4   11223344-5        Laura Rojas    22.0            4.0\n",
      "5   12345678-9         Juan Perez     1.0            2.0\n",
      "6   12345678-9         Juan Perez    23.0            2.0\n",
      "7   23456789-1    Pedro Rodríguez     3.0            2.0\n",
      "8   23456789-1    Pedro Rodríguez    24.0            2.0\n",
      "9   33445566-5      Camila Torres     NaN            0.0\n",
      "10  33445566-7         Mateo Diaz    12.0            2.0\n",
      "11  33445566-7         Mateo Diaz    17.0            2.0\n",
      "12  34567890-2     Carla González     4.0            1.0\n",
      "13         NaN                NaN     5.0            NaN\n",
      "14  55667788-6      Matias Castro     NaN            0.0\n",
      "15  55667788-9  Valentina Herrera    13.0            2.0\n",
      "16  55667788-9  Valentina Herrera    18.0            2.0\n",
      "17  56789012-4          Ana Lopez     6.0            1.0\n",
      "18  67890123-5    Luisa Fernández     7.0            1.0\n",
      "19  77889900-1       Martin Gómez    14.0            2.0\n",
      "20  77889900-1       Martin Gómez    19.0            2.0\n",
      "21  78901234-6      Javier Torres     8.0            1.0\n",
      "22  87654321-0      Maria Sánchez     2.0            1.0\n",
      "23         NaN                NaN     9.0            NaN\n",
      "24         NaN                NaN    10.0            NaN\n",
      "25  99001122-3        Sofía Pérez    15.0            2.0\n",
      "26  99001122-3        Sofía Pérez    20.0            2.0\n",
      "27  99001122-8       Nicolás Ruiz     NaN            0.0\n"
     ]
    }
   ],
   "source": [
    "\n",
    "# Fusionar los datos de los clientes con las boletas a través del RUT, manteniendo todos los registros\n",
    "df_fusionado = pd.merge(df_clientes, df_boletas, left_on='rut', right_on='rut_cliente', how='outer')\n",
    "\n",
    "# Contar cuántas boletas tiene cada cliente\n",
    "df_fusionado['total_boletas'] = df_fusionado.groupby('rut')['numero'].transform('count')\n",
    "\n",
    "# Seleccionar solo las columnas 'rut', 'nombre' y 'numero_boletas'\n",
    "df_fusionado = df_fusionado[['rut', 'nombre', 'numero', 'total_boletas']]\n",
    "\n",
    "# Configurar pandas para mostrar todas las filas\n",
    "pd.set_option('display.max_rows', None)\n",
    "\n",
    "# Mostrar el DataFrame fusionado\n",
    "print(df_fusionado.head(40))"
   ]
  },
  {
   "cell_type": "markdown",
   "metadata": {},
   "source": [
    "g. Ahora,  queremos  hacer  algo  parecido  con  los  productos. Calcular cuánto se ha vendido (en dinero) de cada producto."
   ]
  },
  {
   "cell_type": "code",
   "execution_count": 12,
   "metadata": {},
   "outputs": [
    {
     "name": "stdout",
     "output_type": "stream",
     "text": [
      "    codigo_producto            nombre  total_ventas\n",
      "0               101             Arroz         36000\n",
      "1               102            Fideos         14400\n",
      "2               103  Aceite de cocina        198000\n",
      "3               104            Harina         18000\n",
      "4               105             Leche          6000\n",
      "5               106            Azúcar         30000\n",
      "6               107              Café         65000\n",
      "7               109          Galletas         24500\n",
      "8               110       Mantequilla         11200\n",
      "9               111             Queso         30000\n",
      "10              112             Yogur         30000\n",
      "11              113      Agua mineral          7200\n",
      "12              115    Frutas frescas         14000\n",
      "13              116          Verduras         88000\n",
      "14              117    Carne de pollo         28800\n",
      "15              119           Pescado        297000\n",
      "16              120            Helado         25000\n"
     ]
    }
   ],
   "source": [
    "# Fusionar los DataFrames basándose en el 'codigo_producto'\n",
    "df_fusionado = pd.merge(df_detalle, df_productos, left_on='codigo_producto', right_on='codigo', how='left')\n",
    "\n",
    "# Calcular el total de ventas para cada producto\n",
    "df_fusionado['total_ventas'] = df_fusionado['cantidad'] * df_fusionado['precio']\n",
    "\n",
    "# Agrupar por producto y sumar el total de ventas\n",
    "df_total_ventas = df_fusionado.groupby(['codigo_producto', 'nombre'])['total_ventas'].sum().reset_index()\n",
    "\n",
    "# Mostrar el DataFrame con el total de ventas para cada producto\n",
    "print(df_total_ventas)"
   ]
  },
  {
   "cell_type": "markdown",
   "metadata": {},
   "source": [
    "h. Agregar los productos que nunca se han vendido con un 0"
   ]
  },
  {
   "cell_type": "code",
   "execution_count": 13,
   "metadata": {},
   "outputs": [
    {
     "name": "stdout",
     "output_type": "stream",
     "text": [
      "    codigo            nombre  total_ventas\n",
      "0      101             Arroz       36000.0\n",
      "1      102            Fideos       14400.0\n",
      "2      103  Aceite de cocina      198000.0\n",
      "3      104            Harina       18000.0\n",
      "4      105             Leche        6000.0\n",
      "5      106            Azúcar       30000.0\n",
      "6      107              Café       65000.0\n",
      "7      108               Pan           0.0\n",
      "8      109          Galletas       24500.0\n",
      "9      110       Mantequilla       11200.0\n",
      "10     111             Queso       30000.0\n",
      "11     112             Yogur       30000.0\n",
      "12     113      Agua mineral        7200.0\n",
      "13     114             Jugos           0.0\n",
      "14     115    Frutas frescas       14000.0\n",
      "15     116          Verduras       88000.0\n",
      "16     117    Carne de pollo       28800.0\n",
      "17     118      Carne de res           0.0\n",
      "18     119           Pescado      297000.0\n",
      "19     120            Helado       25000.0\n"
     ]
    }
   ],
   "source": [
    "# Fusionar los DataFrames basándose en el 'codigo_producto', asegurándose de que todos los productos estén incluidos\n",
    "df_fusionado = pd.merge(df_detalle, df_productos, left_on='codigo_producto', right_on='codigo', how='right')\n",
    "\n",
    "# Calcular el total de ventas para cada producto\n",
    "df_fusionado['total_ventas'] = df_fusionado['cantidad'] * df_fusionado['precio']\n",
    "\n",
    "## Reemplazar los valores NaN en 'total_ventas' con 0\n",
    "df_fusionado['total_ventas'] = df_fusionado['total_ventas'].fillna(0)\n",
    "\n",
    "# Agrupar por producto y sumar el total de ventas\n",
    "df_total_ventas = df_fusionado.groupby(['codigo', 'nombre'])['total_ventas'].sum().reset_index()\n",
    "\n",
    "# Mostrar el DataFrame con el total de ventas para cada producto\n",
    "print(df_total_ventas.head(25))"
   ]
  }
 ],
 "metadata": {
  "kernelspec": {
   "display_name": "Python 3",
   "language": "python",
   "name": "python3"
  },
  "language_info": {
   "codemirror_mode": {
    "name": "ipython",
    "version": 3
   },
   "file_extension": ".py",
   "mimetype": "text/x-python",
   "name": "python",
   "nbconvert_exporter": "python",
   "pygments_lexer": "ipython3",
   "version": "3.12.2"
  }
 },
 "nbformat": 4,
 "nbformat_minor": 2
}
