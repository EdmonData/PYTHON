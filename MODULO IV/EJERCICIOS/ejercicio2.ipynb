{
 "cells": [
  {
   "cell_type": "markdown",
   "metadata": {},
   "source": [
    "Use código py para calcular los problemas numéricos:\n",
    "\n",
    "import scipy.stats as ss\n",
    "X = ss.norm(media,desviación estándar)"
   ]
  },
  {
   "cell_type": "code",
   "execution_count": 2,
   "metadata": {},
   "outputs": [],
   "source": [
    "import scipy.stats as ss\n",
    "\n",
    "# Definir la media y la desviación estándar\n",
    "media = 0  # reemplace esto con su valor de media\n",
    "desviacion_estandar = 1  # reemplace esto con su valor de desviación estándar\n",
    "\n",
    "# Crear una distribución normal con la media y la desviación estándar dadas\n",
    "X = ss.norm(media, desviacion_estandar)\n",
    "\n"
   ]
  },
  {
   "cell_type": "markdown",
   "metadata": {},
   "source": [
    "Caso 1: Variable aleatoria en Distribución normal\n",
    "Si     es una variable aleatoria de una distribución 𝑁𝑜𝑟𝑚𝑎𝑙(𝜇, 𝜎), hallar: 𝑃(𝜇 −  3𝜎  < 𝑋 < 𝜇 +  3𝜎)"
   ]
  },
  {
   "cell_type": "code",
   "execution_count": 3,
   "metadata": {},
   "outputs": [
    {
     "name": "stdout",
     "output_type": "stream",
     "text": [
      "La probabilidad de que X caiga dentro del intervalo [μ - 3σ, μ + 3σ] es 0.9973002039367398\n"
     ]
    }
   ],
   "source": [
    "import scipy.stats as ss\n",
    "\n",
    "# Definir la media y la desviación estándar\n",
    "mu = 0  # reemplace esto con su valor de media\n",
    "sigma = 1  # reemplace esto con su valor de desviación estándar\n",
    "\n",
    "# Crear una distribución normal con la media y la desviación estándar dadas\n",
    "X = ss.norm(mu, sigma)\n",
    "\n",
    "# Calcular la probabilidad de que X caiga dentro del intervalo [μ - 3σ, μ + 3σ]\n",
    "probabilidad = X.cdf(mu + 3*sigma) - X.cdf(mu - 3*sigma)\n",
    "\n",
    "print(f'La probabilidad de que X caiga dentro del intervalo [μ - 3σ, μ + 3σ] es {probabilidad}')"
   ]
  },
  {
   "cell_type": "markdown",
   "metadata": {},
   "source": [
    "Caso 2: Distribución normal, media y desviación típica\n",
    "En una distribución normal de media   y desviación típica  , calcular el valor de 𝑎 para que: 𝑃(4   −  𝑎  < 𝑋 < 4   +  𝑎)  =  0.5934"
   ]
  },
  {
   "cell_type": "code",
   "execution_count": 4,
   "metadata": {},
   "outputs": [
    {
     "name": "stdout",
     "output_type": "stream",
     "text": [
      "El valor de a para que P(4 - a < X < 4 + a) = 0.5934 es 1.659783463783759\n"
     ]
    }
   ],
   "source": [
    "import scipy.stats as ss\n",
    "\n",
    "# Definir la media y la desviación estándar\n",
    "mu = 4  # reemplace esto con su valor de media\n",
    "sigma = 2  # reemplace esto con su valor de desviación estándar\n",
    "\n",
    "# Crear una distribución normal con la media y la desviación estándar dadas\n",
    "X = ss.norm(mu, sigma)\n",
    "\n",
    "# Calcular el valor de 'a' tal que P(4 - a < X < 4 + a) = 0.5934\n",
    "# Primero, calculamos los valores de probabilidad para los límites del intervalo\n",
    "probabilidad_inferior = (1 - 0.5934) / 2\n",
    "probabilidad_superior = 1 - probabilidad_inferior\n",
    "\n",
    "# Luego, usamos la función de distribución acumulativa inversa para encontrar los valores de 'a'\n",
    "a = X.ppf(probabilidad_superior) - mu\n",
    "\n",
    "print(f'El valor de a para que P(4 - a < X < 4 + a) = 0.5934 es {a}')"
   ]
  },
  {
   "cell_type": "markdown",
   "metadata": {},
   "source": [
    "Caso 3: Distribución Normal\n",
    "Dada una variable aleatoria continua Z, con distribución normal estándar, es decir, 𝑁(0,1), encuentre las siguientes probabilidades, usando código py. \n",
    "a) 𝑃(0   < 𝑍 < 1,25)  =\n",
    "b) 𝑃(𝑍 > 1,25)  =\n",
    "c) 𝑃(𝑍 < −1,25)  =\n",
    "d) 𝑃(0   < 𝑍 < 1,33)  =\n",
    "e) 𝑃(𝑍 > 1,33)  =\n",
    "f) 𝑃(−1,33   < 𝑍 < 0)  =\n"
   ]
  },
  {
   "cell_type": "code",
   "execution_count": 5,
   "metadata": {},
   "outputs": [
    {
     "name": "stdout",
     "output_type": "stream",
     "text": [
      "a) P(0 < Z < 1.25) = 0.39435022633314465\n",
      "b) P(Z > 1.25) = 0.10564977366685535\n",
      "c) P(Z < -1.25) = 0.10564977366685535\n",
      "d) P(0 < Z < 1.33) = 0.4082408643497193\n",
      "e) P(Z > 1.33) = 0.09175913565028071\n",
      "f) P(-1.33 < Z < 0) = 0.40824086434971923\n"
     ]
    }
   ],
   "source": [
    "import scipy.stats as ss\n",
    "\n",
    "# Crear una distribución normal estándar\n",
    "Z = ss.norm(0, 1)\n",
    "\n",
    "# Calcular las probabilidades\n",
    "p_a = Z.cdf(1.25) - Z.cdf(0)\n",
    "p_b = 1 - Z.cdf(1.25)\n",
    "p_c = Z.cdf(-1.25)\n",
    "p_d = Z.cdf(1.33) - Z.cdf(0)\n",
    "p_e = 1 - Z.cdf(1.33)\n",
    "p_f = Z.cdf(0) - Z.cdf(-1.33)\n",
    "\n",
    "print(f'a) P(0 < Z < 1.25) = {p_a}')\n",
    "print(f'b) P(Z > 1.25) = {p_b}')\n",
    "print(f'c) P(Z < -1.25) = {p_c}')\n",
    "print(f'd) P(0 < Z < 1.33) = {p_d}')\n",
    "print(f'e) P(Z > 1.33) = {p_e}')\n",
    "print(f'f) P(-1.33 < Z < 0) = {p_f}')"
   ]
  },
  {
   "cell_type": "markdown",
   "metadata": {},
   "source": [
    "Caso 4: Distribución Normal para la aplicación de exámenes.\n",
    "Se supone que los resultados de un examen siguen una distribución normal con media 78 y desviación típica 36.\n",
    "Se pide:\n",
    "●     ¿Cuál es la probabilidad de que una persona que se presenta el examen obtenga una calificación superior a 72"
   ]
  },
  {
   "cell_type": "code",
   "execution_count": 6,
   "metadata": {},
   "outputs": [
    {
     "name": "stdout",
     "output_type": "stream",
     "text": [
      "La probabilidad de que una persona obtenga una calificación superior a 72 es 0.5661838326109037\n"
     ]
    }
   ],
   "source": [
    "import scipy.stats as ss\n",
    "\n",
    "# Definir la media y la desviación estándar\n",
    "mu = 78  # media\n",
    "sigma = 36  # desviación estándar\n",
    "\n",
    "# Crear una distribución normal con la media y la desviación estándar dadas\n",
    "X = ss.norm(mu, sigma)\n",
    "\n",
    "# Calcular la probabilidad de que la calificación sea superior a 72\n",
    "p = 1 - X.cdf(72)\n",
    "\n",
    "print(f'La probabilidad de que una persona obtenga una calificación superior a 72 es {p}')"
   ]
  },
  {
   "cell_type": "markdown",
   "metadata": {},
   "source": [
    "● Calcular la proporción de estudiantes que tienen puntuaciones que exceden por lo menos en cinco puntos de la puntuación que marca la frontera entre el Apto y el No-Apto (son declarados No-Aptos \n",
    "el 25% de los estudiantes que obtuvieron las puntuaciones más bajas)."
   ]
  },
  {
   "cell_type": "code",
   "execution_count": 7,
   "metadata": {},
   "outputs": [
    {
     "name": "stdout",
     "output_type": "stream",
     "text": [
      "La proporción de estudiantes que exceden la puntuación frontera en al menos cinco puntos es 0.7038827833189224\n"
     ]
    }
   ],
   "source": [
    "import scipy.stats as ss\n",
    "\n",
    "# Definir la media y la desviación estándar\n",
    "mu = 78  # media\n",
    "sigma = 36  # desviación estándar\n",
    "\n",
    "# Crear una distribución normal con la media y la desviación estándar dadas\n",
    "X = ss.norm(mu, sigma)\n",
    "\n",
    "# Calcular la puntuación que marca la frontera entre el Apto y el No-Apto\n",
    "puntuacion_frontera = X.ppf(0.25)\n",
    "\n",
    "# Calcular la proporción de estudiantes que exceden esta puntuacion en al menos cinco puntos\n",
    "proporcion = 1 - X.cdf(puntuacion_frontera + 5)\n",
    "\n",
    "print(f'La proporción de estudiantes que exceden la puntuación frontera en al menos cinco puntos es {proporcion}')"
   ]
  },
  {
   "cell_type": "markdown",
   "metadata": {},
   "source": [
    "●     Si se sabe que la calificación de un estudiante es mayor que 72, \n",
    "¿cuál es la probabilidad de que su calificación sea, de hecho, superior a 84?"
   ]
  },
  {
   "cell_type": "code",
   "execution_count": 8,
   "metadata": {},
   "outputs": [
    {
     "name": "stdout",
     "output_type": "stream",
     "text": [
      "La probabilidad de que la calificación sea superior a 84, dado que es mayor que 72, es 0.7662108001010798\n"
     ]
    }
   ],
   "source": [
    "import scipy.stats as ss\n",
    "\n",
    "# Definir la media y la desviación estándar\n",
    "mu = 78  # media\n",
    "sigma = 36  # desviación estándar\n",
    "\n",
    "# Crear una distribución normal con la media y la desviación estándar dadas\n",
    "X = ss.norm(mu, sigma)\n",
    "\n",
    "# Calcular la probabilidad de que la calificación sea superior a 72\n",
    "p_72 = 1 - X.cdf(72)\n",
    "\n",
    "# Calcular la probabilidad de que la calificación sea superior a 84\n",
    "p_84 = 1 - X.cdf(84)\n",
    "\n",
    "# Calcular la probabilidad condicional\n",
    "p_condicional = p_84 / p_72\n",
    "\n",
    "print(f'La probabilidad de que la calificación sea superior a 84, dado que es mayor que 72, es {p_condicional}')"
   ]
  },
  {
   "cell_type": "markdown",
   "metadata": {},
   "source": [
    "Caso 5: Distribución Binomial.\n",
    "Uno de los ítems  de una prueba sorpresa consta de 12 preguntas de verdadero o falso. Suponiendo que los estudiantes no saben contestar a ninguna de ellas y, contestan al azar, hallar la probabilidad de obtener seis aciertos"
   ]
  },
  {
   "cell_type": "code",
   "execution_count": 9,
   "metadata": {},
   "outputs": [
    {
     "name": "stdout",
     "output_type": "stream",
     "text": [
      "La probabilidad de obtener exactamente 6 aciertos es 0.22558593750000028\n"
     ]
    }
   ],
   "source": [
    "import scipy.stats as ss\n",
    "\n",
    "# Definir los parámetros de la distribución binomial\n",
    "n = 12  # número de intentos\n",
    "p = 0.5  # probabilidad de éxito en un solo intento\n",
    "\n",
    "# Crear una distribución binomial con los parámetros dados\n",
    "X = ss.binom(n, p)\n",
    "\n",
    "# Calcular la probabilidad de obtener exactamente 6 aciertos\n",
    "p_6 = X.pmf(6)\n",
    "\n",
    "print(f'La probabilidad de obtener exactamente 6 aciertos es {p_6}')"
   ]
  }
 ],
 "metadata": {
  "kernelspec": {
   "display_name": "Python 3",
   "language": "python",
   "name": "python3"
  },
  "language_info": {
   "codemirror_mode": {
    "name": "ipython",
    "version": 3
   },
   "file_extension": ".py",
   "mimetype": "text/x-python",
   "name": "python",
   "nbconvert_exporter": "python",
   "pygments_lexer": "ipython3",
   "version": "3.12.2"
  }
 },
 "nbformat": 4,
 "nbformat_minor": 2
}
