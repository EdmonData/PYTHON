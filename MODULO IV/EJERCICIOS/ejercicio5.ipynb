{
 "cells": [
  {
   "cell_type": "markdown",
   "metadata": {},
   "source": [
    "Se sabe que la media del consumo de energía eléctrica en cierta provincia es de 721 kwh.\n",
    "Una empresa tecnológica de la región cree que sus empleados consumen más que el promedio provincial. Recoge información sobre los consumos de 20 empleados escogidos al azar, y obtiene los siguientes datos:\n",
    "710\t774\t814\t768\t823\n",
    "732\t675\t755\t770\t660\n",
    "654\t757\t736\t677\t797\n",
    "760\t718\t774\t747\t796\n",
    "\n",
    "Si la distribución del consumo mensual de energía eléctrica es normal:\n",
    "a) ¿Hay evidencias para afirmar que el promedio del consumo de energía eléctrica hogareño de los empleados de la empresa es superior a la media del consumo a nivel provincial? Usar un nivel de significación del 10%.\n",
    "b) ¿Cuál es el valor pp de la decisión?"
   ]
  },
  {
   "cell_type": "code",
   "execution_count": 1,
   "metadata": {},
   "outputs": [
    {
     "name": "stdout",
     "output_type": "stream",
     "text": [
      "Estadística t: 2.151574484899491\n",
      "Valor p: 0.02225218278641426\n",
      "Hay evidencias para afirmar que el promedio del consumo de energía eléctrica hogareño de los empleados de la empresa es superior a la media del consumo a nivel provincial.\n"
     ]
    }
   ],
   "source": [
    "import numpy as np\n",
    "from scipy import stats\n",
    "\n",
    "# Datos de consumo de energía de los empleados\n",
    "consumo = np.array([710, 774, 814, 768, 823, 732, 675, 755, 770, 660, 654, 757, 736, 677, 797, 760, 718, 774, 747, 796])\n",
    "\n",
    "# Media provincial del consumo de energía\n",
    "media_provincial = 721\n",
    "\n",
    "# Realizar la prueba t de Student\n",
    "t_stat, p_value = stats.ttest_1samp(consumo, media_provincial)\n",
    "\n",
    "# Como estamos realizando una prueba de una cola, necesitamos dividir el valor p por 2\n",
    "p_value = p_value / 2\n",
    "\n",
    "print(f'Estadística t: {t_stat}')\n",
    "print(f'Valor p: {p_value}')\n",
    "\n",
    "if p_value < 0.10:\n",
    "    print('Hay evidencias para afirmar que el promedio del consumo de energía eléctrica hogareño de los empleados de la empresa es superior a la media del consumo a nivel provincial.')\n",
    "else:\n",
    "    print('No hay evidencias para afirmar que el promedio del consumo de energía eléctrica hogareño de los empleados de la empresa es superior a la media del consumo a nivel provincial.')"
   ]
  },
  {
   "cell_type": "code",
   "execution_count": 2,
   "metadata": {},
   "outputs": [
    {
     "name": "stdout",
     "output_type": "stream",
     "text": [
      "Promedio de la muestra: 744.85\n",
      "Desviación estándar de la muestra: 49.57320477414131\n"
     ]
    }
   ],
   "source": [
    "import numpy as np\n",
    "\n",
    "# Datos de consumo de energía eléctrica de los empleados\n",
    "consumo = np.array([710, 774, 814, 768, 823, 732, 675, 755, 770, 660,\n",
    "                    654, 757, 736, 677, 797, 760, 718, 774, 747, 796])\n",
    "\n",
    "# Calcular el promedio de la muestra\n",
    "promedio_muestra = np.mean(consumo)\n",
    "\n",
    "# Calcular la desviación estándar de la muestra\n",
    "desviacion_muestra = np.std(consumo, ddof=1)\n",
    "\n",
    "# Imprimir resultados\n",
    "print(f'Promedio de la muestra: {promedio_muestra}')\n",
    "print(f'Desviación estándar de la muestra: {desviacion_muestra}')\n"
   ]
  },
  {
   "cell_type": "code",
   "execution_count": 3,
   "metadata": {},
   "outputs": [
    {
     "name": "stdout",
     "output_type": "stream",
     "text": [
      "Estadístico de prueba (t): 2.1515744848994913\n",
      "Valor p: 0.022252182786414276\n"
     ]
    }
   ],
   "source": [
    "from scipy import stats\n",
    "\n",
    "# Tamaño de la muestra\n",
    "n = 20\n",
    "\n",
    "# Media poblacional\n",
    "mu = 721\n",
    "\n",
    "# Calcular el estadístico de prueba (t)\n",
    "t_statistic = (promedio_muestra - mu) / (desviacion_muestra / np.sqrt(n))\n",
    "\n",
    "# Calcular el valor p\n",
    "p_value = 1 - stats.t.cdf(t_statistic, df=n-1)\n",
    "\n",
    "# Imprimir resultados\n",
    "print(f'Estadístico de prueba (t): {t_statistic}')\n",
    "print(f'Valor p: {p_value}')\n"
   ]
  }
 ],
 "metadata": {
  "kernelspec": {
   "display_name": "Python 3",
   "language": "python",
   "name": "python3"
  },
  "language_info": {
   "codemirror_mode": {
    "name": "ipython",
    "version": 3
   },
   "file_extension": ".py",
   "mimetype": "text/x-python",
   "name": "python",
   "nbconvert_exporter": "python",
   "pygments_lexer": "ipython3",
   "version": "3.12.2"
  }
 },
 "nbformat": 4,
 "nbformat_minor": 2
}
