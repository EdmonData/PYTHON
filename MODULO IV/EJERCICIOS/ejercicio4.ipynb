{
 "cells": [
  {
   "cell_type": "markdown",
   "metadata": {},
   "source": [
    "Caso 1\n",
    "Para  estimar  la  proporción  de  habitantes  de  una  ciudad  que  poseen ordenador personal se toma una muestra de tamaño n. Calcula el valor mínimo de n para garantizar, con un nivel de confianza del 95 %, que el error de estimación no supera el 2 %. (Como se desconoce la proporción, se hará a partir del caso más desfavorable, que será 0,5)."
   ]
  },
  {
   "cell_type": "code",
   "execution_count": null,
   "metadata": {},
   "outputs": [],
   "source": [
    "import math\n",
    "\n",
    "# Parámetros\n",
    "Z = 1.96  # valor Z para un nivel de confianza del 95%\n",
    "p = 0.5  # proporción estimada (caso más desfavorable)\n",
    "E = 0.02  # error de estimación\n",
    "\n",
    "# Calcular el tamaño mínimo de la muestra\n",
    "n = math.ceil((Z**2 * p * (1 - p)) / E**2)\n",
    "\n",
    "print(f'El tamaño mínimo de la muestra para garantizar un nivel de confianza del 95% y un error de estimación no superior al 2% es {n}.')"
   ]
  },
  {
   "cell_type": "markdown",
   "metadata": {},
   "source": [
    "Caso 2\n",
    "Un fabricante de electrodomésticos sabe que la vida media de estos sigue una distribución normal con media 100 meses y desviación típica 12 meses. Determina el mínimo tamaño muestral que garantiza, con una probabilidad de  0,98, que la vida media de los electrodomésticos en dicha muestra se encuentre entre 90 y 100 meses."
   ]
  },
  {
   "cell_type": "code",
   "execution_count": 8,
   "metadata": {},
   "outputs": [
    {
     "name": "stdout",
     "output_type": "stream",
     "text": [
      "El mínimo tamaño muestral que garantiza, con una probabilidad de 0.98, que la vida media de los electrodomésticos en dicha muestra se encuentre entre 90 y 100 meses es 32.\n"
     ]
    }
   ],
   "source": [
    "import scipy.stats as ss\n",
    "import math\n",
    "\n",
    "# Parámetros de la población\n",
    "mu = 100\n",
    "sigma = 12\n",
    "\n",
    "# Nivel de confianza y margen de error\n",
    "confianza = 0.98\n",
    "E = (mu - 90) / 2\n",
    "\n",
    "# Calcular el valor Z para el nivel de confianza deseado\n",
    "Z = ss.norm.ppf((1 + confianza) / 2)\n",
    "\n",
    "# Calcular el tamaño de la muestra\n",
    "n = math.ceil((Z * sigma / E) ** 2)\n",
    "\n",
    "print(f'El mínimo tamaño muestral que garantiza, con una probabilidad de {confianza}, que la vida media de los electrodomésticos en dicha muestra se encuentre entre 90 y 100 meses es {n}.')"
   ]
  },
  {
   "cell_type": "markdown",
   "metadata": {},
   "source": [
    "Caso 3\n",
    "Se desea obtener la media de una variable aleatoria que se distribuye normalmente con una desviación típica de 3,2. Para ello se toma una muestra de 64 individuos obteniéndose una media de 32,5.\n",
    "a) ¿Con qué nivel de confianza se puede afirmar que la media de la población está entre 31,5 y 33,5?"
   ]
  },
  {
   "cell_type": "code",
   "execution_count": null,
   "metadata": {},
   "outputs": [],
   "source": [
    "import scipy.stats as ss\n",
    "\n",
    "# Parámetros de la muestra\n",
    "n = 64  # tamaño de la muestra\n",
    "sigma = 3.2  # desviación estándar de la población\n",
    "x_bar = 32.5  # media de la muestra\n",
    "\n",
    "# Calcular el valor de Z\n",
    "E = (33.5 - 31.5) / 2  # margen de error\n",
    "Z = E / (sigma / math.sqrt(n))\n",
    "\n",
    "# Buscar el nivel de confianza correspondiente a este valor de Z\n",
    "nivel_confianza = ss.norm.cdf(Z) - ss.norm.cdf(-Z)\n",
    "\n",
    "print(f'El nivel de confianza con el que se puede afirmar que la media de la población está entre 31,5 y 33,5 es {nivel_confianza}.')"
   ]
  },
  {
   "cell_type": "markdown",
   "metadata": {},
   "source": [
    "b) Si la desviación típica de la población fuera 3, ¿qué tamaño mínimo debería tener la muestra con la cual estimamos la media poblacional si queremos que el nivel de confianza sea del 99 %, y el error admisible no supere el valor de 0,75?"
   ]
  },
  {
   "cell_type": "code",
   "execution_count": null,
   "metadata": {},
   "outputs": [],
   "source": [
    "import math\n",
    "\n",
    "# Parámetros\n",
    "Z = 2.576  # valor Z para un nivel de confianza del 99%\n",
    "sigma = 3  # desviación estándar de la población\n",
    "E = 0.75  # error de estimación\n",
    "\n",
    "# Calcular el tamaño mínimo de la muestra\n",
    "n = math.ceil((Z * sigma / E)**2)\n",
    "\n",
    "print(f'El tamaño mínimo de la muestra para garantizar un nivel de confianza del 99% y un error de estimación no superior a 0.75 es {n}.')"
   ]
  }
 ],
 "metadata": {
  "kernelspec": {
   "display_name": "Python 3",
   "language": "python",
   "name": "python3"
  },
  "language_info": {
   "codemirror_mode": {
    "name": "ipython",
    "version": 3
   },
   "file_extension": ".py",
   "mimetype": "text/x-python",
   "name": "python",
   "nbconvert_exporter": "python",
   "pygments_lexer": "ipython3",
   "version": "3.12.2"
  }
 },
 "nbformat": 4,
 "nbformat_minor": 2
}
