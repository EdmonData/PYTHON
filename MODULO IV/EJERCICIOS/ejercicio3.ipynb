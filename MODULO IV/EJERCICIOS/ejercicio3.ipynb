{
 "cells": [
  {
   "cell_type": "markdown",
   "metadata": {},
   "source": [
    "Caso 1: Muestreo estratificado con afijación proporcional\n",
    "Se desea tomar una muestra aleatoria estratificada de las personas mayores de edad de un municipio, cuyos estratos son los siguientes intervalos de edades, en años: de 18 a 30, de 31 a 45, de 46 a 60 y mayores de 60. En el primer intervalo hay 7500 personas, en el segundo hay 8400, en el tercero 5700 y en el cuarto 3000. \n",
    "Calcule el tamaño de la muestra total y su composición, sabiendo que el muestreo se hace con afijación proporcional y se han elegido al azar 375 personas del primer estrato."
   ]
  },
  {
   "cell_type": "code",
   "execution_count": 1,
   "metadata": {},
   "outputs": [
    {
     "name": "stdout",
     "output_type": "stream",
     "text": [
      "El tamaño de la muestra total es 341 y su composición es [114, 143, 66, 18].\n"
     ]
    }
   ],
   "source": [
    "# Tamaños de los estratos\n",
    "tamanos_estratos = [7500, 8400, 5700, 3000]\n",
    "\n",
    "# Tamaño de la muestra del primer estrato\n",
    "muestra_primer_estrato = 375\n",
    "\n",
    "# Calcular el tamaño total de la población\n",
    "poblacion_total = sum(tamanos_estratos)\n",
    "\n",
    "# Calcular la proporción de la población que representa cada estrato\n",
    "proporciones_estratos = [t / poblacion_total for t in tamanos_estratos]\n",
    "\n",
    "# Calcular la proporción que representa el tamaño de la muestra del primer estrato\n",
    "proporcion_muestra = muestra_primer_estrato / tamanos_estratos[0]\n",
    "\n",
    "# Calcular el tamaño de la muestra para los otros estratos\n",
    "tamanos_muestra = [round(p * proporcion_muestra * t) for p, t in zip(proporciones_estratos, tamanos_estratos)]\n",
    "\n",
    "# Calcular el tamaño total de la muestra\n",
    "muestra_total = sum(tamanos_muestra)\n",
    "\n",
    "print(f'El tamaño de la muestra total es {muestra_total} y su composición es {tamanos_muestra}.')"
   ]
  },
  {
   "cell_type": "markdown",
   "metadata": {},
   "source": [
    "Caso 2\n",
    "En un instituto hay 110 alumnos de 1º ESO, 99 de 2º ESO, 77 de 3º ESO y 66 de 4º ESO. Se toma una muestra para hacer una encuesta, usando muestreo estratificado con afijación proporcional. Se sabe que en la muestra había 20 alumnos de 1º ESO. ¿Cuántos alumnos hay en la muestra de los demás cursos y cuál es el tamaño de la muestra?"
   ]
  },
  {
   "cell_type": "code",
   "execution_count": 2,
   "metadata": {},
   "outputs": [
    {
     "name": "stdout",
     "output_type": "stream",
     "text": [
      "El tamaño de la muestra total es 16 y su composición es [6, 5, 3, 2].\n"
     ]
    }
   ],
   "source": [
    "# Tamaños de los estratos\n",
    "tamanos_estratos = [110, 99, 77, 66]\n",
    "\n",
    "# Tamaño de la muestra del primer estrato\n",
    "muestra_primer_estrato = 20\n",
    "\n",
    "# Calcular el tamaño total de la población\n",
    "poblacion_total = sum(tamanos_estratos)\n",
    "\n",
    "# Calcular la proporción de la población que representa cada estrato\n",
    "proporciones_estratos = [t / poblacion_total for t in tamanos_estratos]\n",
    "\n",
    "# Calcular la proporción que representa el tamaño de la muestra del primer estrato\n",
    "proporcion_muestra = muestra_primer_estrato / tamanos_estratos[0]\n",
    "\n",
    "# Calcular el tamaño de la muestra para los otros estratos\n",
    "tamanos_muestra = [round(p * proporcion_muestra * t) for p, t in zip(proporciones_estratos, tamanos_estratos)]\n",
    "\n",
    "# Calcular el tamaño total de la muestra\n",
    "muestra_total = sum(tamanos_muestra)\n",
    "\n",
    "print(f'El tamaño de la muestra total es {muestra_total} y su composición es {tamanos_muestra}.')"
   ]
  },
  {
   "cell_type": "markdown",
   "metadata": {},
   "source": [
    "Caso 3\n",
    "Si el contenido en gr. de un determinado medicamento X sigue una distribución  N(7.5,0.3),  calcular  la  probabilidad  de  que  para  una muestra de tamaño n=5, se obtenga medio menor que 7, Pr ( X ≤ 7)."
   ]
  },
  {
   "cell_type": "code",
   "execution_count": 3,
   "metadata": {},
   "outputs": [
    {
     "name": "stdout",
     "output_type": "stream",
     "text": [
      "La probabilidad de que la media de la muestra sea menor o igual a 7 es 9.697081455185922e-05.\n"
     ]
    }
   ],
   "source": [
    "import scipy.stats as ss\n",
    "import math\n",
    "\n",
    "# Parámetros de la población\n",
    "mu = 7.5\n",
    "sigma = 0.3\n",
    "\n",
    "# Tamaño de la muestra\n",
    "n = 5\n",
    "\n",
    "# Parámetros de la media de la muestra\n",
    "mu_muestra = mu\n",
    "sigma_muestra = sigma / math.sqrt(n)\n",
    "\n",
    "# Crear una distribución normal para la media de la muestra\n",
    "X = ss.norm(mu_muestra, sigma_muestra)\n",
    "\n",
    "# Calcular la probabilidad de que la media de la muestra sea menor o igual a 7\n",
    "probabilidad = X.cdf(7)\n",
    "\n",
    "print(f'La probabilidad de que la media de la muestra sea menor o igual a 7 es {probabilidad}.')"
   ]
  }
 ],
 "metadata": {
  "kernelspec": {
   "display_name": "Python 3",
   "language": "python",
   "name": "python3"
  },
  "language_info": {
   "codemirror_mode": {
    "name": "ipython",
    "version": 3
   },
   "file_extension": ".py",
   "mimetype": "text/x-python",
   "name": "python",
   "nbconvert_exporter": "python",
   "pygments_lexer": "ipython3",
   "version": "3.12.2"
  }
 },
 "nbformat": 4,
 "nbformat_minor": 2
}
