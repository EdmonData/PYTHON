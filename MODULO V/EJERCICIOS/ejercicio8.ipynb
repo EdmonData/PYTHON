{
 "cells": [
  {
   "cell_type": "code",
   "execution_count": 19,
   "metadata": {},
   "outputs": [
    {
     "name": "stdout",
     "output_type": "stream",
     "text": [
      "Datos de test:\n",
      "   tBodyAcc-mean()-X  tBodyAcc-mean()-Y  tBodyAcc-mean()-Z  tBodyAcc-std()-X  \\\n",
      "0           0.257178          -0.023285          -0.014654         -0.938404   \n",
      "1           0.286027          -0.013163          -0.119083         -0.975415   \n",
      "2           0.275485          -0.026050          -0.118152         -0.993819   \n",
      "3           0.270298          -0.032614          -0.117520         -0.994743   \n",
      "4           0.274833          -0.027848          -0.129527         -0.993852   \n",
      "\n",
      "   tBodyAcc-std()-Y  tBodyAcc-std()-Z  tBodyAcc-mad()-X  tBodyAcc-mad()-Y  \\\n",
      "0         -0.920091         -0.667683         -0.952501         -0.925249   \n",
      "1         -0.967458         -0.944958         -0.986799         -0.968401   \n",
      "2         -0.969926         -0.962748         -0.994403         -0.970735   \n",
      "3         -0.973268         -0.967091         -0.995274         -0.974471   \n",
      "4         -0.967445         -0.978295         -0.994111         -0.965953   \n",
      "\n",
      "   tBodyAcc-mad()-Z  tBodyAcc-max()-X  ...  fBodyBodyGyroJerkMag-kurtosis()  \\\n",
      "0         -0.674302         -0.894088  ...                        -0.705974   \n",
      "1         -0.945823         -0.894088  ...                        -0.594944   \n",
      "2         -0.963483         -0.939260  ...                        -0.640736   \n",
      "3         -0.968897         -0.938610  ...                        -0.736124   \n",
      "4         -0.977346         -0.938610  ...                        -0.846595   \n",
      "\n",
      "   angle(tBodyAccMean,gravity)  angle(tBodyAccJerkMean),gravityMean)  \\\n",
      "0                     0.006462                              0.162920   \n",
      "1                    -0.083495                              0.017500   \n",
      "2                    -0.034956                              0.202302   \n",
      "3                    -0.017067                              0.154438   \n",
      "4                    -0.002223                             -0.040046   \n",
      "\n",
      "   angle(tBodyGyroMean,gravityMean)  angle(tBodyGyroJerkMean,gravityMean)  \\\n",
      "0                         -0.825886                              0.271151   \n",
      "1                         -0.434375                              0.920593   \n",
      "2                          0.064103                              0.145068   \n",
      "3                          0.340134                              0.296407   \n",
      "4                          0.736715                             -0.118545   \n",
      "\n",
      "   angle(X,gravityMean)  angle(Y,gravityMean)  angle(Z,gravityMean)  subject  \\\n",
      "0             -0.720009              0.276801             -0.057978        2   \n",
      "1             -0.698091              0.281343             -0.083898        2   \n",
      "2             -0.702771              0.280083             -0.079346        2   \n",
      "3             -0.698954              0.284114             -0.077108        2   \n",
      "4             -0.692245              0.290722             -0.073857        2   \n",
      "\n",
      "   Activity  \n",
      "0  STANDING  \n",
      "1  STANDING  \n",
      "2  STANDING  \n",
      "3  STANDING  \n",
      "4  STANDING  \n",
      "\n",
      "[5 rows x 563 columns]\n",
      "Datos de train:\n",
      "   tBodyAcc-mean()-X  tBodyAcc-mean()-Y  tBodyAcc-mean()-Z  tBodyAcc-std()-X  \\\n",
      "0           0.288585          -0.020294          -0.132905         -0.995279   \n",
      "1           0.278419          -0.016411          -0.123520         -0.998245   \n",
      "2           0.279653          -0.019467          -0.113462         -0.995380   \n",
      "3           0.279174          -0.026201          -0.123283         -0.996091   \n",
      "4           0.276629          -0.016570          -0.115362         -0.998139   \n",
      "\n",
      "   tBodyAcc-std()-Y  tBodyAcc-std()-Z  tBodyAcc-mad()-X  tBodyAcc-mad()-Y  \\\n",
      "0         -0.983111         -0.913526         -0.995112         -0.983185   \n",
      "1         -0.975300         -0.960322         -0.998807         -0.974914   \n",
      "2         -0.967187         -0.978944         -0.996520         -0.963668   \n",
      "3         -0.983403         -0.990675         -0.997099         -0.982750   \n",
      "4         -0.980817         -0.990482         -0.998321         -0.979672   \n",
      "\n",
      "   tBodyAcc-mad()-Z  tBodyAcc-max()-X  ...  fBodyBodyGyroJerkMag-kurtosis()  \\\n",
      "0         -0.923527         -0.934724  ...                        -0.710304   \n",
      "1         -0.957686         -0.943068  ...                        -0.861499   \n",
      "2         -0.977469         -0.938692  ...                        -0.760104   \n",
      "3         -0.989302         -0.938692  ...                        -0.482845   \n",
      "4         -0.990441         -0.942469  ...                        -0.699205   \n",
      "\n",
      "   angle(tBodyAccMean,gravity)  angle(tBodyAccJerkMean),gravityMean)  \\\n",
      "0                    -0.112754                              0.030400   \n",
      "1                     0.053477                             -0.007435   \n",
      "2                    -0.118559                              0.177899   \n",
      "3                    -0.036788                             -0.012892   \n",
      "4                     0.123320                              0.122542   \n",
      "\n",
      "   angle(tBodyGyroMean,gravityMean)  angle(tBodyGyroJerkMean,gravityMean)  \\\n",
      "0                         -0.464761                             -0.018446   \n",
      "1                         -0.732626                              0.703511   \n",
      "2                          0.100699                              0.808529   \n",
      "3                          0.640011                             -0.485366   \n",
      "4                          0.693578                             -0.615971   \n",
      "\n",
      "   angle(X,gravityMean)  angle(Y,gravityMean)  angle(Z,gravityMean)  subject  \\\n",
      "0             -0.841247              0.179941             -0.058627        1   \n",
      "1             -0.844788              0.180289             -0.054317        1   \n",
      "2             -0.848933              0.180637             -0.049118        1   \n",
      "3             -0.848649              0.181935             -0.047663        1   \n",
      "4             -0.847865              0.185151             -0.043892        1   \n",
      "\n",
      "   Activity  \n",
      "0  STANDING  \n",
      "1  STANDING  \n",
      "2  STANDING  \n",
      "3  STANDING  \n",
      "4  STANDING  \n",
      "\n",
      "[5 rows x 563 columns]\n",
      "Dimensiones de test: (2947, 563)\n",
      "Dimensiones de train: (7352, 563)\n"
     ]
    }
   ],
   "source": [
    "# Importamos la librería pandas\n",
    "import pandas as pd\n",
    "#importamos la librería para gratificar las variables\n",
    "import matplotlib.pyplot as plt\n",
    "\n",
    "# Definimos la ruta de los datos\n",
    "ruta_test = './datos/test.csv'\n",
    "ruta_train = './datos/train.csv'\n",
    "\n",
    "# Cargamos los datos\n",
    "test = pd.read_csv(ruta_test)\n",
    "train = pd.read_csv(ruta_train)\n",
    "\n",
    "# Mostramos los datos\n",
    "\n",
    "print('Datos de test:')\n",
    "print(test.head())\n",
    "print('Datos de train:')\n",
    "print(train.head())\n",
    "\n",
    "# Mostramos las dimensiones de los datos\n",
    "print('Dimensiones de test:', test.shape)\n",
    "print('Dimensiones de train:', train.shape)\n",
    "\n"
   ]
  },
  {
   "cell_type": "code",
   "execution_count": 20,
   "metadata": {},
   "outputs": [
    {
     "name": "stdout",
     "output_type": "stream",
     "text": [
      "col_0               count\n",
      "Activity                 \n",
      "LAYING               1407\n",
      "SITTING              1286\n",
      "STANDING             1374\n",
      "WALKING              1226\n",
      "WALKING_DOWNSTAIRS    986\n",
      "WALKING_UPSTAIRS     1073\n",
      "Columnas de test: Index(['tBodyAcc-mean()-X', 'tBodyAcc-mean()-Y', 'tBodyAcc-mean()-Z',\n",
      "       'tBodyAcc-std()-X', 'tBodyAcc-std()-Y', 'tBodyAcc-std()-Z',\n",
      "       'tBodyAcc-mad()-X', 'tBodyAcc-mad()-Y', 'tBodyAcc-mad()-Z',\n",
      "       'tBodyAcc-max()-X',\n",
      "       ...\n",
      "       'fBodyBodyGyroJerkMag-kurtosis()', 'angle(tBodyAccMean,gravity)',\n",
      "       'angle(tBodyAccJerkMean),gravityMean)',\n",
      "       'angle(tBodyGyroMean,gravityMean)',\n",
      "       'angle(tBodyGyroJerkMean,gravityMean)', 'angle(X,gravityMean)',\n",
      "       'angle(Y,gravityMean)', 'angle(Z,gravityMean)', 'subject', 'Activity'],\n",
      "      dtype='object', length=563)\n"
     ]
    },
    {
     "data": {
      "image/png": "[encoded data removed]",
      "text/plain": [
       "<Figure size 640x480 with 1 Axes>"
      ]
     },
     "metadata": {},
     "output_type": "display_data"
    }
   ],
   "source": [
    "# Contar la cantidad de registros en cada actividad\n",
    "conteo_actividades = pd.crosstab(index=train['Activity'], columns=\"count\")\n",
    "\n",
    "# Mostrar el conteo de actividades\n",
    "print(conteo_actividades)\n",
    "\n",
    "#mostrar las columnas de los datos\n",
    "print('Columnas de test:', test.columns)\n",
    "\n",
    "# Gratificar el conteo de actividades\n",
    "conteo_actividades.plot(kind='bar', legend=False)\n",
    "\n",
    "plt.title('Conteo de Actividades')\n",
    "plt.xlabel('Actividad')\n",
    "plt.ylabel('Cantidad')\n",
    "plt.show()"
   ]
  },
  {
   "cell_type": "markdown",
   "metadata": {},
   "source": [
    "El gráfico de barras muestra la distribución de seis actividades diferentes: LAYING, SITTING, STANDING, WALKING, WALKING_DOWNSTAIRS y WALKING_UPSTAIRS, junto con sus respectivos recuentos. Aquí está el análisis:\n",
    "\n",
    "LAYING: Con 1407 instancias, es la actividad más frecuente en el conjunto de datos.\n",
    "SITTING: Le sigue de cerca con 1286 instancias.\n",
    "STANDING: También es común, con 1374 instancias.\n",
    "WALKING: Aunque aún es significativo, tiene 1226 instancias.\n",
    "WALKING_DOWNSTAIRS: Tiene un número menor de instancias, con 986.\n",
    "WALKING_UPSTAIRS: Es la menos común, con 1073 instancias.\n",
    "En general, las actividades de reposo (LAYING, SITTING y STANDING) son más frecuentes que las actividades de movimiento (WALKING y escaleras). Este desequilibrio podría afectar el rendimiento de un modelo de aprendizaje automático, especialmente si se busca predecir actividades menos comunes."
   ]
  },
  {
   "cell_type": "code",
   "execution_count": 21,
   "metadata": {},
   "outputs": [],
   "source": [
    "# Definir X_train y X_test\n",
    "\n",
    "X_test = test.drop('Activity', axis=1)\n",
    "Y_test = test['Activity']\n",
    "\n",
    "X_train = train.drop('Activity', axis=1)\n",
    "Y_train = train['Activity']\n",
    "\n",
    "\n"
   ]
  },
  {
   "cell_type": "code",
   "execution_count": 22,
   "metadata": {},
   "outputs": [],
   "source": [
    "from sklearn.preprocessing import StandardScaler\n",
    "\n",
    "# Crear el estandarizador\n",
    "scaler = StandardScaler()\n",
    "\n",
    "# Ajustar el estandarizador con los datos de entrenamiento y transformarlos\n",
    "X_train_stand = scaler.fit_transform(X_train)\n",
    "\n",
    "# Transformar los datos de prueba con el estandarizador ajustado con los datos de entrenamiento\n",
    "X_test_stand = scaler.transform(X_test)"
   ]
  },
  {
   "cell_type": "code",
   "execution_count": 23,
   "metadata": {},
   "outputs": [
    {
     "name": "stdout",
     "output_type": "stream",
     "text": [
      "Y_train_encoded:  [2 2 2 ... 5 5 5]\n",
      "Y_test_encoded:  [2 2 2 ... 5 5 5]\n"
     ]
    }
   ],
   "source": [
    "from sklearn import preprocessing\n",
    "\n",
    "# Crear el codificador\n",
    "encoder = preprocessing.LabelEncoder()\n",
    "\n",
    "# Ajustar el codificador a las etiquetas de entrenamiento y prueba\n",
    "encoder.fit(pd.concat([Y_train, Y_test]))\n",
    "\n",
    "# Transformar las etiquetas de entrenamiento y prueba\n",
    "Y_train_encoded = encoder.transform(Y_train)\n",
    "Y_test_encoded = encoder.transform(Y_test)\n",
    "\n",
    "# Imprimir los resultados\n",
    "print(\"Y_train_encoded: \", Y_train_encoded)\n",
    "print(\"Y_test_encoded: \", Y_test_encoded)"
   ]
  },
  {
   "cell_type": "code",
   "execution_count": 24,
   "metadata": {},
   "outputs": [
    {
     "name": "stdout",
     "output_type": "stream",
     "text": [
      "{'kernel': ['linear', 'rbf'], 'C': [10, 15]}\n"
     ]
    }
   ],
   "source": [
    "param_grid = {\n",
    "    'kernel': ['linear', 'rbf'],\n",
    "    'C': [10, 15]\n",
    "}\n",
    "\n",
    "# Imprimir el diccionario\n",
    "print(param_grid)"
   ]
  },
  {
   "cell_type": "code",
   "execution_count": 25,
   "metadata": {},
   "outputs": [
    {
     "name": "stdout",
     "output_type": "stream",
     "text": [
      "Precisión del modelo en el conjunto de prueba:  0.9596199524940617\n"
     ]
    }
   ],
   "source": [
    "from sklearn.model_selection import GridSearchCV\n",
    "from sklearn.svm import SVC\n",
    "\n",
    "# Crear una instancia de GridSearchCV\n",
    "grid_search = GridSearchCV(SVC(), param_grid, cv=10)\n",
    "\n",
    "# Ajustar GridSearchCV a los datos de entrenamiento\n",
    "grid_search.fit(X_train, Y_train_encoded)\n",
    "\n",
    "# Obtener la mejor combinación de parámetros\n",
    "best_params = grid_search.best_params_\n",
    "\n",
    "# Obtener el modelo con la mejor combinación de parámetros\n",
    "best_model = grid_search.best_estimator_\n",
    "\n",
    "# Predecir las etiquetas para el conjunto de prueba\n",
    "Y_test_pred = best_model.predict(X_test)\n",
    "\n",
    "# Calcular la precisión de las predicciones\n",
    "accuracy = best_model.score(X_test, Y_test_encoded)\n",
    "\n",
    "# Imprimir la precisión\n",
    "print(\"Precisión del modelo en el conjunto de prueba: \", accuracy)\n"
   ]
  }
 ],
 "metadata": {
  "kernelspec": {
   "display_name": "Python 3",
   "language": "python",
   "name": "python3"
  },
  "language_info": {
   "codemirror_mode": {
    "name": "ipython",
    "version": 3
   },
   "file_extension": ".py",
   "mimetype": "text/x-python",
   "name": "python",
   "nbconvert_exporter": "python",
   "pygments_lexer": "ipython3",
   "version": "3.12.2"
  }
 },
 "nbformat": 4,
 "nbformat_minor": 2
}
