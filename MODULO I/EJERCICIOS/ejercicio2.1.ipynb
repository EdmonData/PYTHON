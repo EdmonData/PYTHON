{
 "cells": [
  {
   "cell_type": "markdown",
   "metadata": {},
   "source": [
    "1. Utiliza el módulo math para calcular el área de un círculo. Crea una función area_circulo que tome el radio como argumento y devuelva el área."
   ]
  },
  {
   "cell_type": "code",
   "execution_count": 1,
   "metadata": {},
   "outputs": [
    {
     "name": "stdout",
     "output_type": "stream",
     "text": [
      "El area del circulo es: 1809.5573684677208\n"
     ]
    }
   ],
   "source": [
    "import math\n",
    "\n",
    "def area_circulo(radio):\n",
    "    return math.pi * radio ** 2\n",
    "\n",
    "radio = int(input(\"Ingrese el radio del circulo: \"))\n",
    "print(f\"El area del circulo es: {area_circulo(radio)}\")\n",
    "\n"
   ]
  },
  {
   "cell_type": "markdown",
   "metadata": {},
   "source": [
    "2. Escriba una función que reciba como parámetro un número entero positivo y entregue como resultado todos los divisores de ese número."
   ]
  },
  {
   "cell_type": "code",
   "execution_count": null,
   "metadata": {},
   "outputs": [],
   "source": [
    "num1 = int(input(\"Ingresa un numero positivo: \"))\n",
    "while (num1 <= 0):\n",
    "    print(\"el numero no es positivo\")\n",
    "    num1 = int(input(\"ingrese un numero  positivo: \"))\n",
    "\n",
    "divisors = [i for i in range(1, num1 + 1) if num1 % i == 0]\n",
    "print(f\"Los divisores de {num1} son : {divisors}\")\n"
   ]
  },
  {
   "cell_type": "markdown",
   "metadata": {},
   "source": [
    "Crea un archivo llamado operaciones.py con una función multiplicación que tome dos números como argumentos y devuelva su producto. Luego, importa este módulo y usa la función en tu programa principal."
   ]
  },
  {
   "cell_type": "code",
   "execution_count": null,
   "metadata": {},
   "outputs": [],
   "source": [
    "import operaciones\n",
    "\n",
    "num2 = int(input(\"Ingresa un numero: \"))\n",
    "num3 = int(input(\"Ingresa otro numero: \"))\n",
    "print(operaciones.multiplicaciones(num2, num3))\n"
   ]
  },
  {
   "cell_type": "markdown",
   "metadata": {},
   "source": [
    "4. Crea una expresión lambda reciba dos números y use el primero como base y al segundo como exponente para entrega el resultado de la potencia.rear tres funciones, cada una debe recibir un parámetro: una lista denúmeros.\n",
    "-   La primera debe calcular el promedio de los números.\n",
    "-   La segunda la suma de los números.\n",
    "-   La tercera debe calcular la mediana de los números.\n",
    "Crear además otra función llamada “calcular”, que reciba como parámetro una lista de números, y una función. La idea es que se le entregue al usuario un menú de opciones, donde pueda elegir qué cálculo desea hacer. Dependiendo de la opción realizada, se debe llamar a la función calcular con la operación correcta."
   ]
  },
  {
   "cell_type": "code",
   "execution_count": 10,
   "metadata": {},
   "outputs": [
    {
     "name": "stdout",
     "output_type": "stream",
     "text": [
      "1. Calcular promedio\n",
      "2. Calcular suma\n",
      "3. Calcular mediana\n",
      "4. Salir\n",
      "La suma es 12\n",
      "la potencia real de los primeros 2 numeros de la lista 2 y 2 es  4\n",
      "1. Calcular promedio\n",
      "2. Calcular suma\n",
      "3. Calcular mediana\n",
      "4. Salir\n"
     ]
    }
   ],
   "source": [
    "import statistics\n",
    "\n",
    "def calcular_promedio(numeros):\n",
    "    return sum(numeros) / len(numeros)\n",
    "\n",
    "def calcular_suma(numeros):\n",
    "    return sum(numeros)\n",
    "\n",
    "def calcular_mediana(numeros):\n",
    "    return statistics.median(numeros)\n",
    "\n",
    "def calcular(numeros, funcion):\n",
    "    return funcion(numeros)\n",
    "\n",
    "potencia = lambda base, exponente: base ** exponente\n",
    "\n",
    "while True:\n",
    "    print(\"1. Calcular promedio\")\n",
    "    print(\"2. Calcular suma\")\n",
    "    print(\"3. Calcular mediana\")\n",
    "    print(\"4. Salir\")\n",
    "    opcion = int(input(\"Elige una opción: \"))\n",
    "\n",
    "    if opcion == 4:\n",
    "        break\n",
    "\n",
    "    numeros = list(map(int, input(\"Introduce una lista de números separados por espacios: \").split()))\n",
    "\n",
    "    if opcion == 1:\n",
    "        print(\"El promedio es\", calcular(numeros, calcular_promedio))\n",
    "        print(f\"La potencia real de los primeros 2 numeros de la lista {numeros[0]} y {numeros[1]} es {potencia(numeros[0], numeros[1])}\")\n",
    "    elif opcion == 2:\n",
    "        print(\"La suma es\", calcular(numeros, calcular_suma))\n",
    "        print(f\"La potencia real de los primeros 2 numeros de la lista {numeros[0]} y {numeros[1]} es {potencia(numeros[0], numeros[1])}\")\n",
    "    elif opcion == 3:\n",
    "        print(\"La mediana es\", calcular(numeros, calcular_mediana))\n",
    "        print(f\"La potencia real de los primeros 2 numeros de la lista {numeros[0]} y {numeros[1]} es {potencia(numeros[0], numeros[1])}\")\n",
    "\n",
    "\n",
    "\n"
   ]
  },
  {
   "cell_type": "markdown",
   "metadata": {},
   "source": [
    "5. Crear funciones para convertir grados entre Celsius, Fahrenheit y kelvin. El usuario debe ingresar un número y la unidad de entrada(“C”,”F”,”K”) y la de salida. Se debe elegir la función correcta para la conversión."
   ]
  },
  {
   "cell_type": "code",
   "execution_count": null,
   "metadata": {},
   "outputs": [],
   "source": [
    "\n",
    "def celsius_fahrenheit(celsius):\n",
    "    return (celsius * 9/5) + 32\n",
    "\n",
    "def fahrenheit_celsius(fahrenheit):\n",
    "    return (fahrenheit - 32) * 5/9\n",
    "\n",
    "def celsius_kelvin(celsius):\n",
    "    return celsius + 273.15\n",
    "\n",
    "def kelvin_celsius(kelvin):\n",
    "    return kelvin - 273.15\n",
    "\n",
    "def fahrenheit_kelvin(fahrenheit):\n",
    "    return celsius_kelvin(fahrenheit_celsius(fahrenheit))\n",
    "\n",
    "def kelvin_fahrenheit(kelvin):\n",
    "    return celsius_fahrenheit(kelvin_celsius(kelvin))\n",
    "\n",
    "valor_a_convertir = int(input(\"Ingrese el valor a convertir: \"))\n",
    "unidad_a_convertir = (input(\"Ingrese la unidad del valor : C , F, K \"))\n",
    "unidad_convertida = (input(\"Ingrese la unidad a la que desea convertir: C, F, K \"))\n",
    "\n",
    "if unidad_a_convertir == \"C\" and unidad_convertida == \"F\":\n",
    "    print(\"Los \", valor_a_convertir,\" Grados Celsius son:\",celsius_fahrenheit(valor_a_convertir), \"Grados Fahrenheit\" )\n",
    "elif unidad_a_convertir == \"F\" and unidad_convertida == \"C\":\n",
    "    print(\"Los \", valor_a_convertir,\" Grados Fahrenheit son:\",fahrenheit_celsius(valor_a_convertir), \"Grados Celsius\" )\n",
    "elif unidad_a_convertir == \"C\" and unidad_convertida == \"K\":\n",
    "    print(\"Los \", valor_a_convertir,\" Grados Celsius son:\",celsius_kelvin(valor_a_convertir), \"Grados Kelvin\" )\n",
    "elif unidad_a_convertir == \"K\" and unidad_convertida == \"C\":\n",
    "    print(\"Los \", valor_a_convertir,\" Grados Kelvin son:\",kelvin_celsius(valor_a_convertir), \"Grados Celsius\" )\n",
    "elif unidad_a_convertir == \"F\" and unidad_convertida == \"K\":\n",
    "    print(\"Los \", valor_a_convertir,\" Grados Fahrenheit son:\",fahrenheit_kelvin(valor_a_convertir), \"Grados Kelvin\" )\n",
    "elif unidad_a_convertir == \"K\" and unidad_convertida == \"F\":\n",
    "    print(\"Los \", valor_a_convertir,\" Grados Kelvin son:\",kelvin_fahrenheit(valor_a_convertir), \"Grados Fahrenheit\" )\n",
    "else:\n",
    "    print(\"Las unidades ingresadas no son validas\")\n",
    "\n",
    "\n"
   ]
  },
  {
   "cell_type": "code",
   "execution_count": null,
   "metadata": {},
   "outputs": [],
   "source": []
  }
 ],
 "metadata": {
  "kernelspec": {
   "display_name": "Python 3",
   "language": "python",
   "name": "python3"
  },
  "language_info": {
   "codemirror_mode": {
    "name": "ipython",
    "version": 3
   },
   "file_extension": ".py",
   "mimetype": "text/x-python",
   "name": "python",
   "nbconvert_exporter": "python",
   "pygments_lexer": "ipython3",
   "version": "3.12.2"
  }
 },
 "nbformat": 4,
 "nbformat_minor": 2
}
