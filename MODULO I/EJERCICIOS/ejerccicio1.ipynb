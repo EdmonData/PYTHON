{
 "cells": [
  {
   "cell_type": "markdown",
   "metadata": {},
   "source": [
    "1. \n",
    "d.  crear programa hola mundo"
   ]
  },
  {
   "cell_type": "code",
   "execution_count": 1,
   "metadata": {},
   "outputs": [
    {
     "name": "stdout",
     "output_type": "stream",
     "text": [
      "Hola Mundo\n"
     ]
    }
   ],
   "source": [
    "print(\"Hola Mundo\")"
   ]
  },
  {
   "cell_type": "markdown",
   "metadata": {},
   "source": [
    "2. características de Python\n",
    "a.  ¿Qué significa que Python sea un lenguaje de propósito general?\n",
    "\n",
    "      Significa que puede ser usado para casi todo.\n",
    "\n",
    "b. ¿Qué significa que Python sea un lenguaje interpretado?\n",
    "\n",
    "      Significa que no se traduce realmente a un formato legible por el computador en ejecución\n",
    "\n",
    "c.  ¿Qué es el tipado dinámico?\n",
    "\n",
    "      Significa que al declarar las variables no es necesario decir de que tipo son  se adaptan ciando se ejecuta el programa"
   ]
  },
  {
   "cell_type": "markdown",
   "metadata": {},
   "source": [
    "3. identifique  el  tipo  de  variable"
   ]
  },
  {
   "cell_type": "code",
   "execution_count": null,
   "metadata": {},
   "outputs": [],
   "source": [
    "edad : str = \"10\" # string\n",
    "costo :int = 10 # entero\n",
    "dias:list = [\"lunes\", \"martes\", \"miercoles\", \"jueves\", \"viernes\"] # lista"
   ]
  },
  {
   "cell_type": "markdown",
   "metadata": {},
   "source": [
    "4. Crear un programa que defina expresamente una variable de tipo texto llamada “varTexto” y asignarle el valor “Hola que tal”, muéstrela en pantalla a través de un print que diga “El valor de la variable es:”. Hacer lo mismo con una variable de tipo numérica llamada “varNumero”, Cuál es la diferencia?"
   ]
  },
  {
   "cell_type": "code",
   "execution_count": 2,
   "metadata": {},
   "outputs": [
    {
     "name": "stdout",
     "output_type": "stream",
     "text": [
      "El valor de la variable es: Hola que tal\n",
      "El valor de la variable es: Hola que tal\n"
     ]
    }
   ],
   "source": [
    "varTexto : str = \"Hola que tal\"\n",
    "print(f\"El valor de la variable es: {varTexto}\")\n",
    "varNumero : int = \"Hola que tal\"\n",
    "print(f\"El valor de la variable es: {varNumero}\")"
   ]
  },
  {
   "cell_type": "markdown",
   "metadata": {},
   "source": [
    "5. Crear un programa que lea el nombre, el apellido y el año de nacimiento de una persona, y entregue el mensaje: “Hey nombre apellido, tu edad es XX años!”"
   ]
  },
  {
   "cell_type": "code",
   "execution_count": 7,
   "metadata": {},
   "outputs": [
    {
     "name": "stdout",
     "output_type": "stream",
     "text": [
      "Tu nombre es: Eduardo Montero y tienes 50 años\n"
     ]
    }
   ],
   "source": [
    "nombre = str(input(\"Dame tu nombre: \"))\n",
    "apellido = str(input(\"Dame tu apellido: \"))\n",
    "anio_nacimiento = int(input(\"Dame tu año de nacimiento: \"))\n",
    "edad = 2024 - anio_nacimiento\n",
    "print(f\"Tu nombre es: {nombre} {apellido} y tienes {edad} años\")\n",
    "\n"
   ]
  }
 ],
 "metadata": {
  "kernelspec": {
   "display_name": "Python 3",
   "language": "python",
   "name": "python3"
  },
  "language_info": {
   "codemirror_mode": {
    "name": "ipython",
    "version": 3
   },
   "file_extension": ".py",
   "mimetype": "text/x-python",
   "name": "python",
   "nbconvert_exporter": "python",
   "pygments_lexer": "ipython3",
   "version": "3.12.2"
  }
 },
 "nbformat": 4,
 "nbformat_minor": 2
}
