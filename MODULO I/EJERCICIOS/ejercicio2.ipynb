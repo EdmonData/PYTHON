{
 "cells": [
  {
   "cell_type": "markdown",
   "metadata": {},
   "source": [
    "1. Crear un programa que ingrese un número entero positivo, y el sistema le responda si ese número es par o impar"
   ]
  },
  {
   "cell_type": "code",
   "execution_count": null,
   "metadata": {},
   "outputs": [],
   "source": [
    "\n",
    "num1 = int(input(\"ingrese un numero  positivo: \"))\n",
    "ZERO = 0\n",
    "\n",
    "while (num1 <= ZERO):\n",
    "    print(\"el numero no es positivo\")\n",
    "    num1 = int(input(\"ingrese un numero  positivo: \"))\n",
    "\n",
    "if (num1 % 2 == ZERO):\n",
    "    print(\"el numero es par\")\n",
    "else:\n",
    "    print(\"el numero es impar\")\n"
   ]
  },
  {
   "cell_type": "markdown",
   "metadata": {},
   "source": [
    "2. Crear un algoritmo que ingrese dos números y una operación matemática (básica), y el sistema le responda el resultado de esa operación"
   ]
  },
  {
   "cell_type": "code",
   "execution_count": null,
   "metadata": {},
   "outputs": [],
   "source": [
    "num2 = int(input(\"ingrese el primer numero: \"))\n",
    "num3 = int(input(\"ingrese el segundo numero: \"))\n",
    "operador = input(\"ingrese un operador: \")\n",
    "\n",
    "if (operador == \"+\"):\n",
    "    result = num2 + num3\n",
    "    print(\"la suma de el numero \", num2 , \" y el numero \", num3 , \" es \", result )\n",
    "elif (operador == \"-\"):\n",
    "    result = num2 - num3\n",
    "    print(\"la resta de el numero \", num2 , \" y el numero \", num3 , \" es \", result )\n",
    "elif (operador == \"*\"):\n",
    "    result = num2 * num3\n",
    "    print(\"la multiplicación de el numero \", num2 , \" y el numero \", num3 , \" es \", result )\n",
    "elif (operador == \"/\"):\n",
    "    result = num2 / num3\n",
    "    print(\"la división de el numero \", num2 , \" y el numero \", num3 , \" es \", result )\n",
    "else:\n",
    "    print(\"operador no valido\")\n",
    "    result = \"error\"\n"
   ]
  },
  {
   "cell_type": "markdown",
   "metadata": {},
   "source": [
    "3. Modifique el algoritmo de la pregunta 1 para que la lectura del número sea indefinida, hasta que el usuario ingrese un 0"
   ]
  },
  {
   "cell_type": "code",
   "execution_count": 9,
   "metadata": {},
   "outputs": [
    {
     "name": "stdout",
     "output_type": "stream",
     "text": [
      "el numero es cero\n"
     ]
    }
   ],
   "source": [
    "num1 = int(input(\"ingrese el numero positivo , ingrese cero para salir 0 \"))\n",
    "\n",
    "while (num1 < ZERO):\n",
    "    print(\"el numero no es positivo\")\n",
    "    num1 = int(input(\"ingrese un numero  positivo: \"))\n",
    "while (num1 != ZERO):\n",
    "    if (num1 % 2 == ZERO):\n",
    "        print(\"el numero es par\")\n",
    "    else:\n",
    "        print(\"el numero es impar\")\n",
    "    num1 = int(input(\"ingrese el numero  0 para detener \"))\n",
    "\n",
    "print(\"el numero es cero\")\n"
   ]
  },
  {
   "cell_type": "markdown",
   "metadata": {},
   "source": [
    "4. Crear un programa dibuje un rectángulo con el símbolo “*”.  La anchura y altura deben ser indicadas por el usuario."
   ]
  },
  {
   "cell_type": "code",
   "execution_count": 11,
   "metadata": {},
   "outputs": [
    {
     "name": "stdout",
     "output_type": "stream",
     "text": [
      "********************\n",
      "********************\n",
      "********************\n",
      "********************\n",
      "********************\n",
      "********************\n",
      "********************\n",
      "********************\n",
      "********************\n",
      "********************\n",
      "********************\n",
      "********************\n",
      "********************\n",
      "********************\n",
      "********************\n",
      "********************\n",
      "********************\n",
      "********************\n",
      "********************\n",
      "********************\n"
     ]
    }
   ],
   "source": [
    "\n",
    "\n",
    "def rectangulo(n, m):\n",
    "    for i in range(n):\n",
    "        for j in range(m):\n",
    "            print(\"*\", end=\"\")\n",
    "        print()\n",
    "\n",
    "num1 = int(input(\"ingrese el alto del rectángulo: \"))\n",
    "num2 = int(input(\"ingrese el ancho del rectángulo: \"))\n",
    "rectangulo(num1, num2)"
   ]
  },
  {
   "cell_type": "markdown",
   "metadata": {},
   "source": [
    "4. Crear un programa dibuje un rectángulo con el símbolo “*”.  La anchura y altura deben ser indicadas por el usuario."
   ]
  },
  {
   "cell_type": "code",
   "execution_count": 10,
   "metadata": {},
   "outputs": [
    {
     "name": "stdout",
     "output_type": "stream",
     "text": [
      "**********\n",
      "*        *\n",
      "*        *\n",
      "*        *\n",
      "*        *\n",
      "*        *\n",
      "*        *\n",
      "*        *\n",
      "*        *\n",
      "*        *\n",
      "*        *\n",
      "*        *\n",
      "*        *\n",
      "*        *\n",
      "*        *\n",
      "*        *\n",
      "*        *\n",
      "*        *\n",
      "*        *\n",
      "**********\n"
     ]
    }
   ],
   "source": [
    "\n",
    "def rectangulo(n, m):\n",
    "    for i in range(n):\n",
    "        for j in range(m):\n",
    "            if (i == 0 or i == n-1 or j == 0 or j == m-1):\n",
    "                print(\"*\", end=\"\")\n",
    "            else:\n",
    "                print(\" \", end=\"\")\n",
    "        print()\n",
    "\n",
    "num1 = int(input(\"ingrese el alto del rectángulo: \"))\n",
    "num2 = int(input(\"ingrese el ancho del rectángulo: \"))\n",
    "rectangulo(num1, num2)"
   ]
  },
  {
   "cell_type": "markdown",
   "metadata": {},
   "source": [
    "5. Crear un programa que lea la entrada de un número entero positivo y devuelva el valor del número factorial"
   ]
  },
  {
   "cell_type": "code",
   "execution_count": null,
   "metadata": {},
   "outputs": [],
   "source": [
    "def factorial(n):\n",
    "    if (n == 0):\n",
    "        return 1\n",
    "    else:\n",
    "        return n * factorial(n-1)\n",
    "\n",
    "num1 = int(input(\"ingrese el numero: \"))\n",
    "print(\"el factorial de \", num1 , \" es \", factorial(num1))"
   ]
  },
  {
   "cell_type": "markdown",
   "metadata": {},
   "source": [
    "6. Crea un programa que muestre la tabla de multiplicar de un número específico (por ejemplo, el 7)"
   ]
  },
  {
   "cell_type": "code",
   "execution_count": null,
   "metadata": {},
   "outputs": [],
   "source": [
    "def tablaMultiplicar(n):\n",
    "    for i in range(1, 11):\n",
    "        print(n, \" * \", i, \" = \", n*i)\n",
    "\n",
    "num1 = int(input(\"ingrese el numero: \"))\n",
    "tablaMultiplicar(num1)"
   ]
  }
 ],
 "metadata": {
  "kernelspec": {
   "display_name": "Python 3",
   "language": "python",
   "name": "python3"
  },
  "language_info": {
   "codemirror_mode": {
    "name": "ipython",
    "version": 3
   },
   "file_extension": ".py",
   "mimetype": "text/x-python",
   "name": "python",
   "nbconvert_exporter": "python",
   "pygments_lexer": "ipython3",
   "version": "3.12.2"
  }
 },
 "nbformat": 4,
 "nbformat_minor": 2
}
