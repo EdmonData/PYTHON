{
 "cells": [
  {
   "cell_type": "markdown",
   "metadata": {},
   "source": [
    "PS Microsoft.PowerShell.Core\\FileSystem::\\\\192.168.0.199\\laragon\\www\\PYTHON> git --version\n",
    "git version 2.41.0.windows.1\n",
    "PS Microsoft.PowerShell.Core\\FileSystem::\\\\192.168.0.199\\laragon\\www\\PYTHON>"
   ]
  },
  {
   "cell_type": "markdown",
   "metadata": {},
   "source": [
    "\n",
    "PS Microsoft.PowerShell.Core\\FileSystem::\\\\192.168.0.199\\laragon\\www\\PYTHON> git config --list\n",
    "diff.astextplain.textconv=astextplain\n",
    "filter.lfs.clean=git-lfs clean -- %f\n",
    "filter.lfs.smudge=git-lfs smudge -- %f\n",
    "filter.lfs.process=git-lfs filter-process\n",
    "filter.lfs.required=true\n",
    "http.sslbackend=openssl\n",
    "http.sslcainfo=C:/Program Files/Git/mingw64/etc/ssl/certs/ca-bundle.crt\n",
    "core.autocrlf=true\n",
    "core.fscache=true\n",
    "core.symlinks=false\n",
    "pull.rebase=false\n",
    "credential.helper=manager\n",
    "credential.https://dev.azure.com.usehttppath=true\n",
    "init.defaultbranch=master\n",
    "safe.directory=%(prefix)///192.168.0.199/laragon/www/colegio_ult\n",
    "safe.directory=%(prefix)///192.168.0.199/laragon/www/PYTHON/MODULO I/EVALUACION_MII\n",
    "safe.directory=%(prefix)///192.168.0.199/laragon/www/PRUEBAEVALUACIONMI/EVALUACION_MII\n",
    "user.email=eduarmont@gmail.com\n",
    "user.name=Eduardo Montero"
   ]
  },
  {
   "cell_type": "markdown",
   "metadata": {},
   "source": [
    "PS Microsoft.PowerShell.Core\\FileSystem::\\\\192.168.0.199\\laragon\\www\\PYTHON\\MODULO I\\EVALUACION_MII> git status\n",
    "On branch main\n",
    "Your branch is up to date with 'origin/main'.\n"
   ]
  },
  {
   "cell_type": "markdown",
   "metadata": {},
   "source": [
    "PS Microsoft.PowerShell.Core\\FileSystem::\\\\192.168.0.199\\laragon\\www\\PYTHON\\MODULO I\\EVALUACION_MII> git show\n",
    "commit bec9fb90c81eba44635ca7171e119e0818a9a932 (HEAD -> main, origin/main)\n",
    "Author: Eduardo Montero <eduarmont@gmail.com>\n",
    "Date:   Thu Mar 21 12:00:43 2024 -0300\n",
    "\n",
    "    ok\n",
    "\n",
    "diff --git a/inventario2.ipynb b/inventario2.ipynb\n",
    "index 3c0bb56..87bd4e5 100644\n",
    "--- a/inventario2.ipynb\n",
    "+++ b/inventario2.ipynb\n",
    "@@ -171,10 +171,10 @@\n",
    "    \"metadata\": {},\n",
    "    \"source\": [\n",
    "     \"1. se crea el repositorio con git(local) ** tercer commit\\n\",\n",
    "-    \"2 se publica el repositorio en github\\n\",\n",
    "+    \"2. se publica el repositorio en github\\n\",\n",
    "     \"3. repositorio publico https://github.com/EdmonData/EVALUACION_MII/blob/main/inventario2.ipynb\\n\",\n",
    "-    \"se hace la primera modificación y el segundo commit\\n\",\n",
    "-    \"4. se crean 2 ramas una en remoto (github) y se accede y una tercera que se crea en local y se publica \\n\",\n",
    "+    \"4. se hace la primera modificación y el segundo commit\\n\",\n",
    "+    \"5. se crean 2 ramas una en remoto (github) y se accede y una tercera que se crea en local y se publica \\n\",\n",
    "     \"\\n\",\n",
    "     \"Suerte!!\"\n",
    "    ]"
   ]
  },
  {
   "cell_type": "markdown",
   "metadata": {},
   "source": []
  }
 ],
 "metadata": {
  "language_info": {
   "name": "python"
  }
 },
 "nbformat": 4,
 "nbformat_minor": 2
}
