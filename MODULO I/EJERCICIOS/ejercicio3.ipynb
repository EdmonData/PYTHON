{
 "cells": [
  {
   "cell_type": "markdown",
   "metadata": {},
   "source": [
    "1. Dada la lista L = [“almacenar”, 8, “a”, [1,2,3], True, (0,0,1), 85.7]\n",
    "a. ¿Cuál de estos elementos pertenece a la lista? (Escoja según\n",
    "corresponda, debe comentarlo en su script)\n",
    "85.7 True [(0,0,1)] [1,2,3]\n",
    "0 [True] 85 “a”\n",
    "b. ¿Cómo obtener la posición en que se encuentra el elemento\n",
    "(0,0,1)? (Cree la lista y entregue la ubicación del elemento).\n",
    "c. ¿Cómo eliminar el último elemento, independientemente de\n",
    "cuántos elementos haya en la lista? (Use la función adecuada en\n",
    "su lista)\n",
    "d. Utilizar una operación para contar cuántas veces aparece el\n",
    "string “a”. Use una función que entregue la cantidad exacta.\n"
   ]
  },
  {
   "cell_type": "code",
   "execution_count": null,
   "metadata": {},
   "outputs": [],
   "source": [
    "L = ['almacenar', 8, 'a', [1,2,3], True, (0,0,1), 85.7]\n",
    "#los elementos [(0.0.1)] , el 0 , [True], 85 no están en la lista \n",
    "print(L[-1])\n",
    "print(L[4])\n",
    "print(L[3])\n",
    "print(L[2])\n",
    "\n",
    "#b\n",
    "print(L[-2])\n",
    "\n",
    "#c\n",
    "L.pop()\n",
    "print(L)\n",
    "\n",
    "#d\n",
    "def contar_a(l):\n",
    "    contador=0\n",
    "    for elemento in L:\n",
    "        if type(elemento)== str:\n",
    "            for i in elemento:\n",
    "                if i.lower() == \"a\":\n",
    "                    contador+=1\n",
    "    return contador\n",
    "print(contar_a(L))\n",
    "\n"
   ]
  },
  {
   "cell_type": "markdown",
   "metadata": {},
   "source": [
    "2. Escribir un programa que pida al usuario una palabra y muestre por\n",
    "pantalla si es un palíndromo."
   ]
  },
  {
   "cell_type": "code",
   "execution_count": null,
   "metadata": {},
   "outputs": [],
   "source": [
    "palabra = str(input('Ingrese uan Palabra: '))\n",
    "palabra = palabra.lower()\n",
    "if palabra == palabra[::-1]:\n",
    "    print(f\"{palabra} es palindromo\")\n",
    "else:\n",
    "    print(f\"{palabra} no es palindromo\")"
   ]
  },
  {
   "cell_type": "markdown",
   "metadata": {},
   "source": [
    "3. Escribir un programa que almacene en una lista los números del 1 al\n",
    "10 y los muestre por pantalla en orden inverso separados por comas."
   ]
  },
  {
   "cell_type": "code",
   "execution_count": 1,
   "metadata": {},
   "outputs": [
    {
     "name": "stdout",
     "output_type": "stream",
     "text": [
      "10,9,8,7,6,5,4,3,2,1\n"
     ]
    }
   ],
   "source": [
    "#Escribir un programa que almacene en una lista los números del 1 al 10 y los muestre por pantalla en orden inverso separados por comas\n",
    "\n",
    "lista_de_numeros=[]\n",
    "lista_1_al_10=[1,2,3,4,5,6,7,8,9,10]\n",
    "\n",
    "\n",
    "for i in range(10):\n",
    "    x=int(input(f\"escriba cualquiera de los numeros en la siguiente lista {lista_1_al_10} en el orden que quiera:\"))\n",
    "    lista_de_numeros.append(x)\n",
    "    lista_1_al_10.remove(x)\n",
    "string_final=\"\"\n",
    "contador=0\n",
    "\n",
    "for i in lista_de_numeros[::-1]:\n",
    "    if contador == 0:\n",
    "        string_final+=str(i)\n",
    "    else:\n",
    "        string_final+=\",\"+str(i)\n",
    "    contador+=1\n",
    "print(string_final)\n"
   ]
  },
  {
   "cell_type": "markdown",
   "metadata": {},
   "source": [
    "3. Escribir un programa que almacene en una lista los números del 1 al\n",
    "10 y los muestre por pantalla en orden inverso separados por comas."
   ]
  },
  {
   "cell_type": "code",
   "execution_count": 2,
   "metadata": {},
   "outputs": [
    {
     "name": "stdout",
     "output_type": "stream",
     "text": [
      "[10, 9, 8, 7, 6, 5, 4, 3, 2, 1, 0]\n"
     ]
    }
   ],
   "source": [
    "lista = list(range(11))\n",
    "\n",
    "print(lista[::-1])"
   ]
  },
  {
   "cell_type": "markdown",
   "metadata": {},
   "source": [
    "4. Escribir un programa que almacene las asignaturas de un curso (por\n",
    "ejemplo Matemáticas, Física, Química, Historia y Lengua) en una lista,\n",
    "pregunte al usuario la nota que ha sacado en cada asignatura, y\n",
    "después las muestre por pantalla con el mensaje En <asignatura> has\n",
    "sacado <nota> donde <asignatura> es cada una de las asignaturas de\n",
    "la lista y <nota> cada una de las correspondientes notas introducidas\n",
    "por el usuario."
   ]
  },
  {
   "cell_type": "code",
   "execution_count": 3,
   "metadata": {},
   "outputs": [
    {
     "name": "stdout",
     "output_type": "stream",
     "text": [
      "En Matemáticas has sacado 5.0\n",
      "En Física has sacado 6.0\n",
      "En Química has sacado 5.0\n",
      "En Historia has sacado 4.0\n",
      "En Lengua has sacado 5.0\n"
     ]
    }
   ],
   "source": [
    "asignaturas = [\"Matemáticas\", \"Física\", \"Química\", \"Historia\", \"Lengua\"]\n",
    "notas = []\n",
    "\n",
    "for asignatura in asignaturas:\n",
    "    nota = input(f\"¿Qué nota has sacado en {asignatura}? \")\n",
    "    notas.append(nota)\n",
    "\n",
    "for i in range(len(asignaturas)):\n",
    "    print(f\"En {asignaturas[i]} has sacado {notas[i]}\")"
   ]
  },
  {
   "cell_type": "markdown",
   "metadata": {},
   "source": [
    "5. Escribir un programa que almacene las matrices:\n",
    "en una lista y muestre por pantalla su producto.\n",
    "Nota: Para representar matrices mediante listas usar listas anidadas,\n",
    "representando cada vector fila en una lista."
   ]
  },
  {
   "cell_type": "code",
   "execution_count": 5,
   "metadata": {},
   "outputs": [
    {
     "name": "stdout",
     "output_type": "stream",
     "text": [
      "[2, 5]\n",
      "[2, 11]\n"
     ]
    }
   ],
   "source": [
    "# Definir las matrices\n",
    "A = [[1, 2, 3],\n",
    "     [4, 5, 6]]\n",
    "\n",
    "B = [[-1, 0],\n",
    "     [0, 1],\n",
    "     [1, 1]]\n",
    "\n",
    "# Inicializar una matriz de resultados con ceros\n",
    "resultado = [[0, 0],\n",
    "             [0, 0]]\n",
    "\n",
    "# Calcular el producto de las matrices\n",
    "for i in range(len(A)):\n",
    "    for j in range(len(B[0])):\n",
    "        for k in range(len(B)):\n",
    "            resultado[i][j] += A[i][k] * B[k][j]\n",
    "\n",
    "# Mostrar el resultado\n",
    "for r in resultado:\n",
    "    print(r)"
   ]
  },
  {
   "cell_type": "markdown",
   "metadata": {},
   "source": [
    "6. Escribir un programa que guarde en una variable el\n",
    "diccionario {'Euro':'€', 'Dollar':'$', 'Yen':'¥'}, pregunte al usuario por una\n",
    "divisa y muestre su símbolo o un mensaje de aviso si la divisa no está\n",
    "en el diccionario."
   ]
  },
  {
   "cell_type": "code",
   "execution_count": 10,
   "metadata": {},
   "outputs": [
    {
     "name": "stdout",
     "output_type": "stream",
     "text": [
      "El símbolo de la divisa es $\n"
     ]
    }
   ],
   "source": [
    "# Crear el diccionario de divisas\n",
    "divisas = {'Euro':'€', 'Dollar':'$', 'Yen':'¥'}\n",
    "\n",
    "# Pedir al usuario que introduzca una divisa\n",
    "divisa = input(\"Introduce una divisa: \")\n",
    "\n",
    "#damos formato ala divisa\n",
    "divisa = divisa.title()\n",
    "\n",
    "# Buscar el símbolo de la divisa en el diccionario\n",
    "if divisa in divisas:\n",
    "    print(\"El símbolo de la divisa es\", divisas[divisa])\n",
    "else:\n",
    "    print(\"La divisa no está en el diccionario\")"
   ]
  },
  {
   "cell_type": "markdown",
   "metadata": {},
   "source": [
    "7. Escribir un programa que pregunte una fecha en\n",
    "formato dd/mm/aaaa y muestre por pantalla la misma fecha en\n",
    "formato dd de <mes> de aaaa, donde <mes> es el nombre del mes."
   ]
  },
  {
   "cell_type": "code",
   "execution_count": 11,
   "metadata": {},
   "outputs": [
    {
     "name": "stdout",
     "output_type": "stream",
     "text": [
      "12 de octubre de 2023\n"
     ]
    }
   ],
   "source": [
    "\n",
    "fecha = input(\"Introduce una fecha en formato dd/mm/aaaa: \")\n",
    "\n",
    "dia, mes, año = fecha.split(\"/\")\n",
    "\n",
    "meses = {\"01\": \"enero\", \"02\": \"febrero\", \"03\": \"marzo\", \"04\": \"abril\", \"05\": \"mayo\", \"06\": \"junio\",\n",
    "        \"07\": \"julio\", \"08\": \"agosto\", \"09\": \"septiembre\", \"10\": \"octubre\", \"11\": \"noviembre\", \"12\": \"diciembre\"}\n",
    "\n",
    "print(f\"{dia} de {meses[mes]} de {año}\")"
   ]
  }
 ],
 "metadata": {
  "kernelspec": {
   "display_name": "Python 3",
   "language": "python",
   "name": "python3"
  },
  "language_info": {
   "codemirror_mode": {
    "name": "ipython",
    "version": 3
   },
   "file_extension": ".py",
   "mimetype": "text/x-python",
   "name": "python",
   "nbconvert_exporter": "python",
   "pygments_lexer": "ipython3",
   "version": "3.12.2"
  }
 },
 "nbformat": 4,
 "nbformat_minor": 2
}
