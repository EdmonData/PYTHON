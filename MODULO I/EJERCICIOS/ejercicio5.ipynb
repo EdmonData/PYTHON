{
 "cells": [
  {
   "cell_type": "markdown",
   "metadata": {},
   "source": [
    "1. Para    el    siguiente    ejemplo,    proporcione    la(s)    excepción(es) adecuada(s): \n",
    "a = 10\n",
    "b = 0\n",
    "c = a / b\n",
    "print(\"a/b = %d\" % c)"
   ]
  },
  {
   "cell_type": "code",
   "execution_count": 4,
   "metadata": {},
   "outputs": [
    {
     "name": "stdout",
     "output_type": "stream",
     "text": [
      "Error: Division con Cero\n"
     ]
    }
   ],
   "source": [
    "a = 10\n",
    "b = 0\n",
    "try:\n",
    "    c = a / b\n",
    "except ZeroDivisionError:\n",
    "    print(\"Error: Division con Cero\")\n",
    "else:\n",
    "  print(\"a/b = %d\" % c)"
   ]
  },
  {
   "cell_type": "markdown",
   "metadata": {},
   "source": [
    "2. Con el ejercicio anterior, cree un programa que le pida ingresar los valores al usuario."
   ]
  },
  {
   "cell_type": "code",
   "execution_count": 14,
   "metadata": {},
   "outputs": [
    {
     "name": "stdout",
     "output_type": "stream",
     "text": [
      "a/b = 0\n"
     ]
    }
   ],
   "source": [
    "try:\n",
    "    a = int(input('Ingrese un numero dividendo'))\n",
    "    b = int(input('Ingrese un numero divisor (distinto de 0)'))\n",
    "\n",
    "except ValueError:\n",
    "      print(\"Error: Ingrese un numero valido\")\n",
    "except ZeroDivisionError:\n",
    "      print(\"Error: Division con Cero\")\n",
    "else:\n",
    "    c = (a / b)\n",
    "    print(\"a/b = %d\" % c)\n"
   ]
  },
  {
   "cell_type": "markdown",
   "metadata": {},
   "source": [
    "3. Cree una función de interés simple, entregando una excepción si la tasa es superior a 100.\n",
    "●        El programa debe recibir: monto, año y tasa.\n",
    "●        El cálculo de interés será: (monto * año * tasa) / 100\n",
    "●        Agregue mensajes adecuados al contexto, para la interacción del programa."
   ]
  },
  {
   "cell_type": "code",
   "execution_count": 16,
   "metadata": {},
   "outputs": [
    {
     "name": "stdout",
     "output_type": "stream",
     "text": [
      "El interés simple calculado es: 18750.0\n"
     ]
    }
   ],
   "source": [
    "def calcular_interes_simple():\n",
    "    try:\n",
    "        monto = float(input(\"Ingrese el monto: \"))\n",
    "        año = int(input(\"Ingrese el número de años: \"))\n",
    "        tasa = float(input(\"Ingrese la tasa de interés (como un porcentaje): \"))\n",
    "\n",
    "        if tasa > 100:\n",
    "            raise ValueError(\"La tasa no puede ser superior a 100.\")\n",
    "\n",
    "        interes = (monto * año * tasa) / 100\n",
    "        print(f\"El interés simple calculado es: {interes}\")\n",
    "\n",
    "    except ValueError as e:\n",
    "        print(f\"Error: {e}. Por favor, ingrese valores válidos.\")\n",
    "\n",
    "calcular_interes_simple()"
   ]
  }
 ],
 "metadata": {
  "kernelspec": {
   "display_name": "Python 3",
   "language": "python",
   "name": "python3"
  },
  "language_info": {
   "codemirror_mode": {
    "name": "ipython",
    "version": 3
   },
   "file_extension": ".py",
   "mimetype": "text/x-python",
   "name": "python",
   "nbconvert_exporter": "python",
   "pygments_lexer": "ipython3",
   "version": "3.12.2"
  }
 },
 "nbformat": 4,
 "nbformat_minor": 2
}
