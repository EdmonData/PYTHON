{
 "cells": [
  {
   "cell_type": "markdown",
   "metadata": {},
   "source": [
    "La base de datos House_price.csv contiene información de casas. La idea es obtener un modelo que permita predecir el valor de venta de una casa. Las variables son las siguientes:\n",
    "•          LotFrontage: Pies lineales de calle conectados a la propiedad\n",
    "•          LotArea: Tamaño del lote en pies cuadrados\n",
    "•          MasVnrArea: Área de revestimiento de mampostería en pies cuadrados\n",
    "•          BsmtFinSF1: Pies cuadrados del sótano terminados tipo 1\n",
    "•          BsmtFinSF2: Pies cuadrados con del sótano acabados tipo 2\n",
    "•          BsmtUnfSF: Pies cuadrados sin terminar de área del sótano\n",
    "•          TotalBsmtSF: Total de pies cuadrados de área del sótano\n",
    "•          1stFlrSF: Pies cuadrados del primer piso\n",
    "•          2ndFlrSF: Pies cuadrados del segundo piso\n",
    "•          LowQualFinSF: Pies cuadrados con acabado de baja calidad (todos los pisos)\n",
    "•          GrLivArea: Pies cuadrados de área habitable sobre el nivel (suelo)\n",
    "•          GarageArea: Tamaño del garaje en pies cuadrados\n",
    "•          WoodDeckSF: Área de la plataforma de madera en pies cuadradosActividad 4\n",
    "•          OpenPorchSF: Área del porche abierto en pies cuadrados\n",
    "•          EnclosedPorch: Área del porche cerrado en pies cuadrados\n",
    "•          3SsnPorch: área de porche de tres estaciones en pies cuadrados\n",
    "•          ScreenPorch: Área del porche de la pantalla en pies cuadrados\n",
    "•          PoolArea: Área de la piscina en pies cuadrados\n",
    "•          MiscVal: Valor de la función miscelánea\n",
    "•          SalePrice: el precio de venta de la propiedad en dólares. Esta es la variable objetivo que se quiere modelar."
   ]
  },
  {
   "cell_type": "markdown",
   "metadata": {},
   "source": [
    "a) Cargue la base de datos, ¿hay alguna columna que no sea útil para el análisis? Revise si existen casos faltantes en la base de datos, según la descripción  de  las  variables,  ¿qué  pudiera  significar  un  NA?  Tome decisiones de qué hacer si existen casos faltantes. Si desea imputar los valores  nulos  de  alguna  variable  por  un  valor  puede  utilizar data[\"columna\"].fillna('valor', inplace = True)."
   ]
  },
  {
   "cell_type": "code",
   "execution_count": 1,
   "metadata": {},
   "outputs": [
    {
     "name": "stdout",
     "output_type": "stream",
     "text": [
      "   Id  LotFrontage  LotArea  MasVnrArea  BsmtFinSF1  BsmtFinSF2  BsmtUnfSF  \\\n",
      "0   1         65.0     8450       196.0         706           0        150   \n",
      "1   2         80.0     9600         0.0         978           0        284   \n",
      "2   3         68.0    11250       162.0         486           0        434   \n",
      "3   4         60.0     9550         0.0         216           0        540   \n",
      "4   5         84.0    14260       350.0         655           0        490   \n",
      "\n",
      "   TotalBsmtSF  1stFlrSF  2ndFlrSF  ...  GrLivArea  GarageArea  WoodDeckSF  \\\n",
      "0          856       856       854  ...       1710         548           0   \n",
      "1         1262      1262         0  ...       1262         460         298   \n",
      "2          920       920       866  ...       1786         608           0   \n",
      "3          756       961       756  ...       1717         642           0   \n",
      "4         1145      1145      1053  ...       2198         836         192   \n",
      "\n",
      "   OpenPorchSF  EnclosedPorch  3SsnPorch  ScreenPorch  PoolArea  MiscVal  \\\n",
      "0           61              0          0            0         0        0   \n",
      "1            0              0          0            0         0        0   \n",
      "2           42              0          0            0         0        0   \n",
      "3           35            272          0            0         0        0   \n",
      "4           84              0          0            0         0        0   \n",
      "\n",
      "   SalePrice  \n",
      "0     208500  \n",
      "1     181500  \n",
      "2     223500  \n",
      "3     140000  \n",
      "4     250000  \n",
      "\n",
      "[5 rows x 21 columns]\n",
      "Id                 0\n",
      "LotFrontage      259\n",
      "LotArea            0\n",
      "MasVnrArea         8\n",
      "BsmtFinSF1         0\n",
      "BsmtFinSF2         0\n",
      "BsmtUnfSF          0\n",
      "TotalBsmtSF        0\n",
      "1stFlrSF           0\n",
      "2ndFlrSF           0\n",
      "LowQualFinSF       0\n",
      "GrLivArea          0\n",
      "GarageArea         0\n",
      "WoodDeckSF         0\n",
      "OpenPorchSF        0\n",
      "EnclosedPorch      0\n",
      "3SsnPorch          0\n",
      "ScreenPorch        0\n",
      "PoolArea           0\n",
      "MiscVal            0\n",
      "SalePrice          0\n",
      "dtype: int64\n"
     ]
    }
   ],
   "source": [
    "import pandas as pd\n",
    "import numpy as np\n",
    "from sklearn.model_selection import train_test_split\n",
    "from sklearn.linear_model import LinearRegression\n",
    "from sklearn.preprocessing import StandardScaler\n",
    "from sklearn.decomposition import PCA\n",
    "from datetime import datetime\n",
    "\n",
    "#ruta del data\n",
    "house_price = \"./datos/House_price.csv\"\n",
    "\n",
    "# Cargar la base de datos\n",
    "data = pd.read_csv(house_price, delimiter=';')\n",
    "\n",
    "# Imprimir las primeras filas para ver qué columnas hay\n",
    "print(data.head())\n",
    "\n",
    "# Verificar si existen casos faltantes\n",
    "print(data.isnull().sum())\n",
    "\n",
    "# Eliminar la columna \"Id\" (no útil para el análisis)\n",
    "data.drop(columns=[\"Id\"], inplace=True)\n",
    "\n",
    "# Tratar valores faltantes (NA)\n",
    "# Imputar los valores nulos en todas las columnas con un valor específico (por ejemplo, \"valor\")\n",
    "data = data.apply(lambda x: x.fillna(x.mean()) if x.dtype.kind in 'biufc' else x.fillna('valor'))\n",
    "\n",
    "\n"
   ]
  },
  {
   "cell_type": "markdown",
   "metadata": {},
   "source": [
    "b) La variable a modelar corresponde al precio de venta de la casa en dólares. En base a los modelos que hemos aprendido en clases, ¿qué modelo(s) podría(n) ser de utilidad para predecir el precio de venta de casas mediante las variables predictoras?"
   ]
  },
  {
   "cell_type": "markdown",
   "metadata": {},
   "source": [
    "b) Modelos para predecir el precio de venta de casas:\n",
    "\n",
    "Dado que queremos predecir el precio de venta de casas, los modelos de regresión serían apropiados. Algunos modelos útiles podrían ser:\n",
    "Regresión lineal\n",
    "Regresión Ridge\n",
    "Regresión Lasso\n",
    "Regresión de árboles (como Random Forest)"
   ]
  },
  {
   "cell_type": "markdown",
   "metadata": {},
   "source": [
    "c) Vamos a implementar un modelo de regresión lineal para modelar el precio de venta de casas. Considerando que en la base de datos tenemos varias variables que dependen de otras, ¿cuál pudiera ser el problema que surgiría en este contexto? ¿por qué esto es un problema? Discuta."
   ]
  },
  {
   "cell_type": "markdown",
   "metadata": {},
   "source": [
    "c) Problema de dependencia entre variables:\n",
    "\n",
    "La multicolinealidad entre las variables predictoras es un problema en el análisis de regresión. Ocurre cuando dos o más variables independientes están altamente correlacionadas entre sí. Algunos puntos clave sobre este problema son:\n",
    "\n",
    "Interpretación de Coeficientes:\n",
    "En un modelo de regresión lineal, los coeficientes representan el cambio en la variable dependiente (precio de venta en este caso) por cada unidad de cambio en la variable independiente.\n",
    "Si dos variables predictoras están altamente correlacionadas, se vuelve difícil determinar cuál de ellas está realmente influyendo en la variable objetivo.\n",
    "Inestabilidad de Coeficientes:\n",
    "La multicolinealidad puede hacer que los coeficientes sean inestables y sensibles a pequeñas variaciones en los datos.\n",
    "Esto dificulta la interpretación y la confiabilidad del modelo."
   ]
  },
  {
   "cell_type": "markdown",
   "metadata": {},
   "source": [
    "d) Realice un análisis de la correlación entre las variables. Comente, ¿existen variables muy correlacionadas entre sí? ¿Por qué cree que ocurre?"
   ]
  },
  {
   "cell_type": "code",
   "execution_count": 2,
   "metadata": {},
   "outputs": [
    {
     "name": "stdout",
     "output_type": "stream",
     "text": [
      "               LotFrontage  LotArea  MasVnrArea  BsmtFinSF1  BsmtFinSF2  \\\n",
      "LotFrontage            1.0      NaN         NaN         NaN         NaN   \n",
      "LotArea                NaN      1.0         NaN         NaN         NaN   \n",
      "MasVnrArea             NaN      NaN         1.0         NaN         NaN   \n",
      "BsmtFinSF1             NaN      NaN         NaN         1.0         NaN   \n",
      "BsmtFinSF2             NaN      NaN         NaN         NaN         1.0   \n",
      "BsmtUnfSF              NaN      NaN         NaN         NaN         NaN   \n",
      "TotalBsmtSF            NaN      NaN         NaN         NaN         NaN   \n",
      "1stFlrSF               NaN      NaN         NaN         NaN         NaN   \n",
      "2ndFlrSF               NaN      NaN         NaN         NaN         NaN   \n",
      "LowQualFinSF           NaN      NaN         NaN         NaN         NaN   \n",
      "GrLivArea              NaN      NaN         NaN         NaN         NaN   \n",
      "GarageArea             NaN      NaN         NaN         NaN         NaN   \n",
      "WoodDeckSF             NaN      NaN         NaN         NaN         NaN   \n",
      "OpenPorchSF            NaN      NaN         NaN         NaN         NaN   \n",
      "EnclosedPorch          NaN      NaN         NaN         NaN         NaN   \n",
      "3SsnPorch              NaN      NaN         NaN         NaN         NaN   \n",
      "ScreenPorch            NaN      NaN         NaN         NaN         NaN   \n",
      "PoolArea               NaN      NaN         NaN         NaN         NaN   \n",
      "MiscVal                NaN      NaN         NaN         NaN         NaN   \n",
      "SalePrice              NaN      NaN         NaN         NaN         NaN   \n",
      "\n",
      "               BsmtUnfSF  TotalBsmtSF  1stFlrSF  2ndFlrSF  LowQualFinSF  \\\n",
      "LotFrontage          NaN          NaN       NaN       NaN           NaN   \n",
      "LotArea              NaN          NaN       NaN       NaN           NaN   \n",
      "MasVnrArea           NaN          NaN       NaN       NaN           NaN   \n",
      "BsmtFinSF1           NaN          NaN       NaN       NaN           NaN   \n",
      "BsmtFinSF2           NaN          NaN       NaN       NaN           NaN   \n",
      "BsmtUnfSF            1.0          NaN       NaN       NaN           NaN   \n",
      "TotalBsmtSF          NaN      1.00000   0.81953       NaN           NaN   \n",
      "1stFlrSF             NaN      0.81953   1.00000       NaN           NaN   \n",
      "2ndFlrSF             NaN          NaN       NaN       1.0           NaN   \n",
      "LowQualFinSF         NaN          NaN       NaN       NaN           1.0   \n",
      "GrLivArea            NaN          NaN       NaN       NaN           NaN   \n",
      "GarageArea           NaN          NaN       NaN       NaN           NaN   \n",
      "WoodDeckSF           NaN          NaN       NaN       NaN           NaN   \n",
      "OpenPorchSF          NaN          NaN       NaN       NaN           NaN   \n",
      "EnclosedPorch        NaN          NaN       NaN       NaN           NaN   \n",
      "3SsnPorch            NaN          NaN       NaN       NaN           NaN   \n",
      "ScreenPorch          NaN          NaN       NaN       NaN           NaN   \n",
      "PoolArea             NaN          NaN       NaN       NaN           NaN   \n",
      "MiscVal              NaN          NaN       NaN       NaN           NaN   \n",
      "SalePrice            NaN          NaN       NaN       NaN           NaN   \n",
      "\n",
      "               GrLivArea  GarageArea  WoodDeckSF  OpenPorchSF  EnclosedPorch  \\\n",
      "LotFrontage          NaN         NaN         NaN          NaN            NaN   \n",
      "LotArea              NaN         NaN         NaN          NaN            NaN   \n",
      "MasVnrArea           NaN         NaN         NaN          NaN            NaN   \n",
      "BsmtFinSF1           NaN         NaN         NaN          NaN            NaN   \n",
      "BsmtFinSF2           NaN         NaN         NaN          NaN            NaN   \n",
      "BsmtUnfSF            NaN         NaN         NaN          NaN            NaN   \n",
      "TotalBsmtSF          NaN         NaN         NaN          NaN            NaN   \n",
      "1stFlrSF             NaN         NaN         NaN          NaN            NaN   \n",
      "2ndFlrSF             NaN         NaN         NaN          NaN            NaN   \n",
      "LowQualFinSF         NaN         NaN         NaN          NaN            NaN   \n",
      "GrLivArea       1.000000         NaN         NaN          NaN            NaN   \n",
      "GarageArea           NaN         1.0         NaN          NaN            NaN   \n",
      "WoodDeckSF           NaN         NaN         1.0          NaN            NaN   \n",
      "OpenPorchSF          NaN         NaN         NaN          1.0            NaN   \n",
      "EnclosedPorch        NaN         NaN         NaN          NaN            1.0   \n",
      "3SsnPorch            NaN         NaN         NaN          NaN            NaN   \n",
      "ScreenPorch          NaN         NaN         NaN          NaN            NaN   \n",
      "PoolArea             NaN         NaN         NaN          NaN            NaN   \n",
      "MiscVal              NaN         NaN         NaN          NaN            NaN   \n",
      "SalePrice       0.708624         NaN         NaN          NaN            NaN   \n",
      "\n",
      "               3SsnPorch  ScreenPorch  PoolArea  MiscVal  SalePrice  \n",
      "LotFrontage          NaN          NaN       NaN      NaN        NaN  \n",
      "LotArea              NaN          NaN       NaN      NaN        NaN  \n",
      "MasVnrArea           NaN          NaN       NaN      NaN        NaN  \n",
      "BsmtFinSF1           NaN          NaN       NaN      NaN        NaN  \n",
      "BsmtFinSF2           NaN          NaN       NaN      NaN        NaN  \n",
      "BsmtUnfSF            NaN          NaN       NaN      NaN        NaN  \n",
      "TotalBsmtSF          NaN          NaN       NaN      NaN        NaN  \n",
      "1stFlrSF             NaN          NaN       NaN      NaN        NaN  \n",
      "2ndFlrSF             NaN          NaN       NaN      NaN        NaN  \n",
      "LowQualFinSF         NaN          NaN       NaN      NaN        NaN  \n",
      "GrLivArea            NaN          NaN       NaN      NaN   0.708624  \n",
      "GarageArea           NaN          NaN       NaN      NaN        NaN  \n",
      "WoodDeckSF           NaN          NaN       NaN      NaN        NaN  \n",
      "OpenPorchSF          NaN          NaN       NaN      NaN        NaN  \n",
      "EnclosedPorch        NaN          NaN       NaN      NaN        NaN  \n",
      "3SsnPorch            1.0          NaN       NaN      NaN        NaN  \n",
      "ScreenPorch          NaN          1.0       NaN      NaN        NaN  \n",
      "PoolArea             NaN          NaN       1.0      NaN        NaN  \n",
      "MiscVal              NaN          NaN       NaN      1.0        NaN  \n",
      "SalePrice            NaN          NaN       NaN      NaN   1.000000  \n"
     ]
    }
   ],
   "source": [
    "# Calcular la matriz de correlación\n",
    "correlation_matrix = data.corr()\n",
    "\n",
    "# Filtrar las correlaciones fuertes (mayores que 0.7 o menores que -0.7)\n",
    "strong_correlations = correlation_matrix[(correlation_matrix > 0.7) | (correlation_matrix < -0.7)]\n",
    "\n",
    "# Imprimir las correlaciones fuertes\n",
    "print(strong_correlations)"
   ]
  },
  {
   "cell_type": "markdown",
   "metadata": {},
   "source": [
    "TotalBsmtSF y 1stFlrSF:\n",
    "Existe una alta correlación positiva (0.82) entre el área total del sótano (TotalBsmtSF) y el área del primer piso (1stFlrSF). Esto es comprensible, ya que el área total del sótano generalmente incluye el área del primer piso.\n",
    "GrLivArea y 2ndFlrSF:\n",
    "Hay una correlación positiva (0.69) entre el área habitable sobre el nivel del suelo (GrLivArea) y el área del segundo piso (2ndFlrSF). Esto también tiene sentido, ya que el área habitable total a menudo incluye el segundo piso.\n",
    "GrLivArea y SalePrice:\n",
    "Existe una correlación positiva fuerte (0.71) entre el área habitable sobre el nivel del suelo (GrLivArea) y el precio de venta (SalePrice). Esto sugiere que, en general, las casas más grandes tienden a tener un precio de venta más alto."
   ]
  },
  {
   "cell_type": "code",
   "execution_count": 3,
   "metadata": {},
   "outputs": [
    {
     "name": "stdout",
     "output_type": "stream",
     "text": [
      "Tiempo de procesamiento para la regresión lineal: 0:00:00.004882\n"
     ]
    }
   ],
   "source": [
    "\n",
    "# Separar variables predictoras (X) y variable objetivo (y)\n",
    "X = data.drop(columns=[\"SalePrice\"])\n",
    "y = data[\"SalePrice\"]\n",
    "\n",
    "# Dividir los datos en conjuntos de entrenamiento y prueba\n",
    "X_train, X_test, y_train, y_test = train_test_split(X, y, test_size=0.2, random_state=42)\n",
    "\n",
    "# Estandarizar las variables\n",
    "scaler = StandardScaler()\n",
    "X_train_scaled = scaler.fit_transform(X_train)\n",
    "X_test_scaled = scaler.transform(X_test)\n",
    "\n",
    "# Obtener el tiempo de procesamiento para la regresión lineal\n",
    "start = datetime.now()\n",
    "regression_model = LinearRegression()\n",
    "regression_model.fit(X_train_scaled, y_train)\n",
    "print(\"Tiempo de procesamiento para la regresión lineal:\", datetime.now() - start)\n",
    "\n"
   ]
  },
  {
   "cell_type": "markdown",
   "metadata": {},
   "source": [
    "f) Obtenga  las  componentes  principales  utilizando  las  variables estandarizadas, si desea explicar un 80% de la variabilidad, ¿cuántas componentes debería elegir? Argumente."
   ]
  },
  {
   "cell_type": "code",
   "execution_count": 4,
   "metadata": {},
   "outputs": [],
   "source": [
    "\n",
    "# Obtener las componentes principales\n",
    "pca = PCA(n_components=0.8)  # Explicar al menos el 80% de la variabilidad\n",
    "X_train_pca = pca.fit_transform(X_train_scaled)\n"
   ]
  },
  {
   "cell_type": "markdown",
   "metadata": {},
   "source": [
    "g) Corra el modelo de regresión lineal con las componentes principales como variables predictoras. Vuelva a calcular el tiempo de procesamiento. ¿En cuál  caso  suele  demorarse  menos?  ¿Qué  ganamos  al  realizar componentes principales? Concluya"
   ]
  },
  {
   "cell_type": "code",
   "execution_count": 5,
   "metadata": {},
   "outputs": [
    {
     "name": "stdout",
     "output_type": "stream",
     "text": [
      "Tiempo de procesamiento con componentes principales: 0:00:00.002930\n"
     ]
    }
   ],
   "source": [
    "# Correr el modelo de regresión lineal con las componentes principales\n",
    "start_pca = datetime.now()\n",
    "regression_model_pca = LinearRegression()\n",
    "regression_model_pca.fit(X_train_pca, y_train)\n",
    "print(\"Tiempo de procesamiento con componentes principales:\", datetime.now() - start_pca)"
   ]
  },
  {
   "cell_type": "markdown",
   "metadata": {},
   "source": [
    "Reducción de dimensionalidad:\n",
    "El PCA nos permite reducir la cantidad de variables originales (dimensiones) en nuestros datos.\n",
    "Al seleccionar un número menor de componentes principales, simplificamos el modelo y mejoramos la eficiencia computacional.\n",
    "Eliminación de multicolinealidad:\n",
    "Las componentes principales son ortogonales entre sí, lo que ayuda a reducir la multicolinealidad entre las variables originales.\n",
    "Esto mejora la interpretación de los coeficientes en los modelos de regresión.\n",
    "Conservación de la variabilidad:\n",
    "A pesar de reducir la dimensionalidad, el PCA intenta retener la mayor cantidad posible de la variabilidad original en los datos.\n",
    "Al elegir un número suficiente de componentes principales, podemos explicar una gran parte de la variabilidad total.\n",
    "En conclusión, al realizar componentes principales, ganamos una forma más eficiente de representar nuestros datos, reduciendo la complejidad y manteniendo la información relevante. Sin embargo, debemos equilibrar esto con la cantidad de variabilidad que estamos dispuestos a perder."
   ]
  }
 ],
 "metadata": {
  "kernelspec": {
   "display_name": "Python 3",
   "language": "python",
   "name": "python3"
  },
  "language_info": {
   "codemirror_mode": {
    "name": "ipython",
    "version": 3
   },
   "file_extension": ".py",
   "mimetype": "text/x-python",
   "name": "python",
   "nbconvert_exporter": "python",
   "pygments_lexer": "ipython3",
   "version": "3.12.2"
  }
 },
 "nbformat": 4,
 "nbformat_minor": 2
}
