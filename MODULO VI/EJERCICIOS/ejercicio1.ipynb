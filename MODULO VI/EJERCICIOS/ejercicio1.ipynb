{
 "cells": [
  {
   "cell_type": "markdown",
   "metadata": {},
   "source": [
    "Cree un resumen o mapa conceptual que relacione los conceptos claves de la clase. Es decir, su trabajo debe considerar los siguientes conceptos:\n",
    "•      Aprendizaje de máquina\n",
    "•      Modelos no supervisados\n",
    "•      Data compression\n",
    "•      Anomalías\n",
    "•      Segmentación\n",
    "•      Compresión con pérdida\n",
    "•      Compresión sin pérdida"
   ]
  },
  {
   "cell_type": "markdown",
   "metadata": {},
   "source": [
    "1.  Aprendizaje de Máquina (Machine Learning):\n",
    "Es un campo de la inteligencia artificial que se centra en desarrollar algoritmos y modelos que pueden aprender automáticamente a partir de datos.\n",
    "Los modelos de aprendizaje de máquina pueden ser supervisados o no supervisados.\n",
    "2.  Modelos No Supervisados:\n",
    "Son algoritmos que no requieren etiquetas o respuestas previas en los datos de entrenamiento.\n",
    "Ejemplos incluyen el clustering (agrupamiento) y la reducción de dimensionalidad.\n",
    "3.  Data Compression (Compresión de Datos):\n",
    "Es el proceso de reducir el tamaño de los datos para ahorrar espacio de almacenamiento o mejorar la eficiencia de transmisión.\n",
    "Puede ser con pérdida o sin pérdida.\n",
    "4.  Anomalías:\n",
    "Son observaciones inusuales o atípicas en un conjunto de datos.\n",
    "La detección de anomalías es importante para identificar comportamientos inesperados o errores.\n",
    "5.  Segmentación:\n",
    "Divide un conjunto de datos en grupos o segmentos más pequeños.\n",
    "Se utiliza en áreas como procesamiento de imágenes y análisis de clientes.\n",
    "6.  Compresión con Pérdida:\n",
    "Reduce el tamaño de los datos eliminando información redundante o menos importante.\n",
    "Ejemplos incluyen formatos de imagen como JPEG.\n",
    "7.  Compresión sin Pérdida:\n",
    "Reduce el tamaño de los datos sin pérdida de información.\n",
    "Ejemplos incluyen formatos de archivo como ZIP.\n",
    "Recuerda que estos conceptos están interconectados y se aplican en diversas áreas de la ciencia de datos y la informática."
   ]
  },
  {
   "cell_type": "markdown",
   "metadata": {},
   "source": [
    "Aprendizaje de Máquina\n",
    "│\n",
    "├── Modelos No Supervisados\n",
    "│   ├── Clustering (Agrupamiento)\n",
    "│   └── Reducción de Dimensionalidad\n",
    "│\n",
    "├── Data Compression (Compresión de Datos)\n",
    "│   ├── Compresión con Pérdida\n",
    "│   │   ├── Formatos de Imagen (JPEG)\n",
    "│   │   └── ...\n",
    "│   └── Compresión sin Pérdida\n",
    "│       ├── Formatos de Archivo (ZIP)\n",
    "│       └── ...\n",
    "│\n",
    "├── Anomalías\n",
    "│   ├── Detección de Comportamientos Inesperados\n",
    "│   └── ...\n",
    "│\n",
    "└── Segmentación\n",
    "    ├── Procesamiento de Imágenes\n",
    "    ├── Análisis de Clientes\n",
    "    └── ...\n"
   ]
  }
 ],
 "metadata": {
  "language_info": {
   "name": "python"
  }
 },
 "nbformat": 4,
 "nbformat_minor": 2
}
